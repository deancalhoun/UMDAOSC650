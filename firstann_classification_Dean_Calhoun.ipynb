{
 "cells": [
  {
   "cell_type": "markdown",
   "metadata": {
    "colab_type": "text",
    "id": "view-in-github"
   },
   "source": [
    "<a href=\"https://colab.research.google.com/github/mariajmolina/UMDAOSC650/blob/main/firstann.ipynb\" target=\"_parent\"><img src=\"https://colab.research.google.com/assets/colab-badge.svg\" alt=\"Open In Colab\"/></a>"
   ]
  },
  {
   "cell_type": "markdown",
   "metadata": {
    "id": "wwd0PYUgKmsV"
   },
   "source": [
    "\n",
    "# Let's build our first ANN!\n",
    "\n",
    "Steps involved:\n",
    "\n",
    "- Select and preprocess data (select variables/features, normalize and/or standardize, split train and test data)\n",
    "- Select model architecture and hyperparameters\n",
    "- Start training your model\n",
    "- Track the training and validation loss"
   ]
  },
  {
   "cell_type": "code",
   "execution_count": 5,
   "metadata": {
    "id": "YKdUbZ_gKr2v"
   },
   "outputs": [],
   "source": [
    "import numpy as np\n",
    "import matplotlib.pyplot as plt\n",
    "import pandas as pd\n",
    "import xarray as xr\n",
    "import keras\n",
    "import sklearn"
   ]
  },
  {
   "cell_type": "markdown",
   "metadata": {
    "id": "idvV3obyKxxd"
   },
   "source": [
    "First create some toy data to play with."
   ]
  },
  {
   "cell_type": "code",
   "execution_count": 6,
   "metadata": {
    "id": "oFPZO73LKtkY"
   },
   "outputs": [],
   "source": [
    "np.random.seed(123)\n",
    "\n",
    "# set the time range from 1999-2019\n",
    "times = pd.date_range(\"1999-01-01\", \"2019-12-31\", name=\"time\")\n",
    "\n",
    "# create an \"annual cycle\"\n",
    "annual_cycle = np.sin(2 * np.pi * (times.dayofyear.values / 365.25 - 0.28))\n",
    "\n",
    "# create some base \"temperatures\"\n",
    "base = 10 + 15 * annual_cycle.reshape(-1, 1)\n",
    "tmin_values = base + 3 * np.random.randn(annual_cycle.size, 1)\n",
    "tmax_values = base + 10 + 3 * np.random.randn(annual_cycle.size, 1)\n",
    "\n",
    "# let's put these dummy temperatures into an xarray dataset\n",
    "ds = xr.Dataset(\n",
    "    {\n",
    "        \"tmin\": ((\"time\", \"location\"), tmin_values),\n",
    "        \"tmax\": ((\"time\", \"location\"), tmax_values),\n",
    "    },\n",
    "    {\"time\": times, \"location\": [\"IA\"]},\n",
    ")"
   ]
  },
  {
   "cell_type": "code",
   "execution_count": 7,
   "metadata": {
    "colab": {
     "base_uri": "https://localhost:8080/",
     "height": 270
    },
    "id": "3CpDM1ZgK0XF",
    "outputId": "f2c26038-b24c-45f3-c415-efa3c395d47c"
   },
   "outputs": [
    {
     "data": {
      "text/html": [
       "<div><svg style=\"position: absolute; width: 0; height: 0; overflow: hidden\">\n",
       "<defs>\n",
       "<symbol id=\"icon-database\" viewBox=\"0 0 32 32\">\n",
       "<path d=\"M16 0c-8.837 0-16 2.239-16 5v4c0 2.761 7.163 5 16 5s16-2.239 16-5v-4c0-2.761-7.163-5-16-5z\"></path>\n",
       "<path d=\"M16 17c-8.837 0-16-2.239-16-5v6c0 2.761 7.163 5 16 5s16-2.239 16-5v-6c0 2.761-7.163 5-16 5z\"></path>\n",
       "<path d=\"M16 26c-8.837 0-16-2.239-16-5v6c0 2.761 7.163 5 16 5s16-2.239 16-5v-6c0 2.761-7.163 5-16 5z\"></path>\n",
       "</symbol>\n",
       "<symbol id=\"icon-file-text2\" viewBox=\"0 0 32 32\">\n",
       "<path d=\"M28.681 7.159c-0.694-0.947-1.662-2.053-2.724-3.116s-2.169-2.030-3.116-2.724c-1.612-1.182-2.393-1.319-2.841-1.319h-15.5c-1.378 0-2.5 1.121-2.5 2.5v27c0 1.378 1.122 2.5 2.5 2.5h23c1.378 0 2.5-1.122 2.5-2.5v-19.5c0-0.448-0.137-1.23-1.319-2.841zM24.543 5.457c0.959 0.959 1.712 1.825 2.268 2.543h-4.811v-4.811c0.718 0.556 1.584 1.309 2.543 2.268zM28 29.5c0 0.271-0.229 0.5-0.5 0.5h-23c-0.271 0-0.5-0.229-0.5-0.5v-27c0-0.271 0.229-0.5 0.5-0.5 0 0 15.499-0 15.5 0v7c0 0.552 0.448 1 1 1h7v19.5z\"></path>\n",
       "<path d=\"M23 26h-14c-0.552 0-1-0.448-1-1s0.448-1 1-1h14c0.552 0 1 0.448 1 1s-0.448 1-1 1z\"></path>\n",
       "<path d=\"M23 22h-14c-0.552 0-1-0.448-1-1s0.448-1 1-1h14c0.552 0 1 0.448 1 1s-0.448 1-1 1z\"></path>\n",
       "<path d=\"M23 18h-14c-0.552 0-1-0.448-1-1s0.448-1 1-1h14c0.552 0 1 0.448 1 1s-0.448 1-1 1z\"></path>\n",
       "</symbol>\n",
       "</defs>\n",
       "</svg>\n",
       "<style>/* CSS stylesheet for displaying xarray objects in jupyterlab.\n",
       " *\n",
       " */\n",
       "\n",
       ":root {\n",
       "  --xr-font-color0: var(--jp-content-font-color0, rgba(0, 0, 0, 1));\n",
       "  --xr-font-color2: var(--jp-content-font-color2, rgba(0, 0, 0, 0.54));\n",
       "  --xr-font-color3: var(--jp-content-font-color3, rgba(0, 0, 0, 0.38));\n",
       "  --xr-border-color: var(--jp-border-color2, #e0e0e0);\n",
       "  --xr-disabled-color: var(--jp-layout-color3, #bdbdbd);\n",
       "  --xr-background-color: var(--jp-layout-color0, white);\n",
       "  --xr-background-color-row-even: var(--jp-layout-color1, white);\n",
       "  --xr-background-color-row-odd: var(--jp-layout-color2, #eeeeee);\n",
       "}\n",
       "\n",
       "html[theme=\"dark\"],\n",
       "html[data-theme=\"dark\"],\n",
       "body[data-theme=\"dark\"],\n",
       "body.vscode-dark {\n",
       "  --xr-font-color0: rgba(255, 255, 255, 1);\n",
       "  --xr-font-color2: rgba(255, 255, 255, 0.54);\n",
       "  --xr-font-color3: rgba(255, 255, 255, 0.38);\n",
       "  --xr-border-color: #1f1f1f;\n",
       "  --xr-disabled-color: #515151;\n",
       "  --xr-background-color: #111111;\n",
       "  --xr-background-color-row-even: #111111;\n",
       "  --xr-background-color-row-odd: #313131;\n",
       "}\n",
       "\n",
       ".xr-wrap {\n",
       "  display: block !important;\n",
       "  min-width: 300px;\n",
       "  max-width: 700px;\n",
       "}\n",
       "\n",
       ".xr-text-repr-fallback {\n",
       "  /* fallback to plain text repr when CSS is not injected (untrusted notebook) */\n",
       "  display: none;\n",
       "}\n",
       "\n",
       ".xr-header {\n",
       "  padding-top: 6px;\n",
       "  padding-bottom: 6px;\n",
       "  margin-bottom: 4px;\n",
       "  border-bottom: solid 1px var(--xr-border-color);\n",
       "}\n",
       "\n",
       ".xr-header > div,\n",
       ".xr-header > ul {\n",
       "  display: inline;\n",
       "  margin-top: 0;\n",
       "  margin-bottom: 0;\n",
       "}\n",
       "\n",
       ".xr-obj-type,\n",
       ".xr-array-name {\n",
       "  margin-left: 2px;\n",
       "  margin-right: 10px;\n",
       "}\n",
       "\n",
       ".xr-obj-type {\n",
       "  color: var(--xr-font-color2);\n",
       "}\n",
       "\n",
       ".xr-sections {\n",
       "  padding-left: 0 !important;\n",
       "  display: grid;\n",
       "  grid-template-columns: 150px auto auto 1fr 0 20px 0 20px;\n",
       "}\n",
       "\n",
       ".xr-section-item {\n",
       "  display: contents;\n",
       "}\n",
       "\n",
       ".xr-section-item input {\n",
       "  display: inline-block;\n",
       "  opacity: 0;\n",
       "  height: 0;\n",
       "}\n",
       "\n",
       ".xr-section-item input + label {\n",
       "  color: var(--xr-disabled-color);\n",
       "}\n",
       "\n",
       ".xr-section-item input:enabled + label {\n",
       "  cursor: pointer;\n",
       "  color: var(--xr-font-color2);\n",
       "}\n",
       "\n",
       ".xr-section-item input:focus + label {\n",
       "  border: 2px solid var(--xr-font-color0);\n",
       "}\n",
       "\n",
       ".xr-section-item input:enabled + label:hover {\n",
       "  color: var(--xr-font-color0);\n",
       "}\n",
       "\n",
       ".xr-section-summary {\n",
       "  grid-column: 1;\n",
       "  color: var(--xr-font-color2);\n",
       "  font-weight: 500;\n",
       "}\n",
       "\n",
       ".xr-section-summary > span {\n",
       "  display: inline-block;\n",
       "  padding-left: 0.5em;\n",
       "}\n",
       "\n",
       ".xr-section-summary-in:disabled + label {\n",
       "  color: var(--xr-font-color2);\n",
       "}\n",
       "\n",
       ".xr-section-summary-in + label:before {\n",
       "  display: inline-block;\n",
       "  content: \"►\";\n",
       "  font-size: 11px;\n",
       "  width: 15px;\n",
       "  text-align: center;\n",
       "}\n",
       "\n",
       ".xr-section-summary-in:disabled + label:before {\n",
       "  color: var(--xr-disabled-color);\n",
       "}\n",
       "\n",
       ".xr-section-summary-in:checked + label:before {\n",
       "  content: \"▼\";\n",
       "}\n",
       "\n",
       ".xr-section-summary-in:checked + label > span {\n",
       "  display: none;\n",
       "}\n",
       "\n",
       ".xr-section-summary,\n",
       ".xr-section-inline-details {\n",
       "  padding-top: 4px;\n",
       "  padding-bottom: 4px;\n",
       "}\n",
       "\n",
       ".xr-section-inline-details {\n",
       "  grid-column: 2 / -1;\n",
       "}\n",
       "\n",
       ".xr-section-details {\n",
       "  display: none;\n",
       "  grid-column: 1 / -1;\n",
       "  margin-bottom: 5px;\n",
       "}\n",
       "\n",
       ".xr-section-summary-in:checked ~ .xr-section-details {\n",
       "  display: contents;\n",
       "}\n",
       "\n",
       ".xr-array-wrap {\n",
       "  grid-column: 1 / -1;\n",
       "  display: grid;\n",
       "  grid-template-columns: 20px auto;\n",
       "}\n",
       "\n",
       ".xr-array-wrap > label {\n",
       "  grid-column: 1;\n",
       "  vertical-align: top;\n",
       "}\n",
       "\n",
       ".xr-preview {\n",
       "  color: var(--xr-font-color3);\n",
       "}\n",
       "\n",
       ".xr-array-preview,\n",
       ".xr-array-data {\n",
       "  padding: 0 5px !important;\n",
       "  grid-column: 2;\n",
       "}\n",
       "\n",
       ".xr-array-data,\n",
       ".xr-array-in:checked ~ .xr-array-preview {\n",
       "  display: none;\n",
       "}\n",
       "\n",
       ".xr-array-in:checked ~ .xr-array-data,\n",
       ".xr-array-preview {\n",
       "  display: inline-block;\n",
       "}\n",
       "\n",
       ".xr-dim-list {\n",
       "  display: inline-block !important;\n",
       "  list-style: none;\n",
       "  padding: 0 !important;\n",
       "  margin: 0;\n",
       "}\n",
       "\n",
       ".xr-dim-list li {\n",
       "  display: inline-block;\n",
       "  padding: 0;\n",
       "  margin: 0;\n",
       "}\n",
       "\n",
       ".xr-dim-list:before {\n",
       "  content: \"(\";\n",
       "}\n",
       "\n",
       ".xr-dim-list:after {\n",
       "  content: \")\";\n",
       "}\n",
       "\n",
       ".xr-dim-list li:not(:last-child):after {\n",
       "  content: \",\";\n",
       "  padding-right: 5px;\n",
       "}\n",
       "\n",
       ".xr-has-index {\n",
       "  font-weight: bold;\n",
       "}\n",
       "\n",
       ".xr-var-list,\n",
       ".xr-var-item {\n",
       "  display: contents;\n",
       "}\n",
       "\n",
       ".xr-var-item > div,\n",
       ".xr-var-item label,\n",
       ".xr-var-item > .xr-var-name span {\n",
       "  background-color: var(--xr-background-color-row-even);\n",
       "  margin-bottom: 0;\n",
       "}\n",
       "\n",
       ".xr-var-item > .xr-var-name:hover span {\n",
       "  padding-right: 5px;\n",
       "}\n",
       "\n",
       ".xr-var-list > li:nth-child(odd) > div,\n",
       ".xr-var-list > li:nth-child(odd) > label,\n",
       ".xr-var-list > li:nth-child(odd) > .xr-var-name span {\n",
       "  background-color: var(--xr-background-color-row-odd);\n",
       "}\n",
       "\n",
       ".xr-var-name {\n",
       "  grid-column: 1;\n",
       "}\n",
       "\n",
       ".xr-var-dims {\n",
       "  grid-column: 2;\n",
       "}\n",
       "\n",
       ".xr-var-dtype {\n",
       "  grid-column: 3;\n",
       "  text-align: right;\n",
       "  color: var(--xr-font-color2);\n",
       "}\n",
       "\n",
       ".xr-var-preview {\n",
       "  grid-column: 4;\n",
       "}\n",
       "\n",
       ".xr-index-preview {\n",
       "  grid-column: 2 / 5;\n",
       "  color: var(--xr-font-color2);\n",
       "}\n",
       "\n",
       ".xr-var-name,\n",
       ".xr-var-dims,\n",
       ".xr-var-dtype,\n",
       ".xr-preview,\n",
       ".xr-attrs dt {\n",
       "  white-space: nowrap;\n",
       "  overflow: hidden;\n",
       "  text-overflow: ellipsis;\n",
       "  padding-right: 10px;\n",
       "}\n",
       "\n",
       ".xr-var-name:hover,\n",
       ".xr-var-dims:hover,\n",
       ".xr-var-dtype:hover,\n",
       ".xr-attrs dt:hover {\n",
       "  overflow: visible;\n",
       "  width: auto;\n",
       "  z-index: 1;\n",
       "}\n",
       "\n",
       ".xr-var-attrs,\n",
       ".xr-var-data,\n",
       ".xr-index-data {\n",
       "  display: none;\n",
       "  background-color: var(--xr-background-color) !important;\n",
       "  padding-bottom: 5px !important;\n",
       "}\n",
       "\n",
       ".xr-var-attrs-in:checked ~ .xr-var-attrs,\n",
       ".xr-var-data-in:checked ~ .xr-var-data,\n",
       ".xr-index-data-in:checked ~ .xr-index-data {\n",
       "  display: block;\n",
       "}\n",
       "\n",
       ".xr-var-data > table {\n",
       "  float: right;\n",
       "}\n",
       "\n",
       ".xr-var-name span,\n",
       ".xr-var-data,\n",
       ".xr-index-name div,\n",
       ".xr-index-data,\n",
       ".xr-attrs {\n",
       "  padding-left: 25px !important;\n",
       "}\n",
       "\n",
       ".xr-attrs,\n",
       ".xr-var-attrs,\n",
       ".xr-var-data,\n",
       ".xr-index-data {\n",
       "  grid-column: 1 / -1;\n",
       "}\n",
       "\n",
       "dl.xr-attrs {\n",
       "  padding: 0;\n",
       "  margin: 0;\n",
       "  display: grid;\n",
       "  grid-template-columns: 125px auto;\n",
       "}\n",
       "\n",
       ".xr-attrs dt,\n",
       ".xr-attrs dd {\n",
       "  padding: 0;\n",
       "  margin: 0;\n",
       "  float: left;\n",
       "  padding-right: 10px;\n",
       "  width: auto;\n",
       "}\n",
       "\n",
       ".xr-attrs dt {\n",
       "  font-weight: normal;\n",
       "  grid-column: 1;\n",
       "}\n",
       "\n",
       ".xr-attrs dt:hover span {\n",
       "  display: inline-block;\n",
       "  background: var(--xr-background-color);\n",
       "  padding-right: 10px;\n",
       "}\n",
       "\n",
       ".xr-attrs dd {\n",
       "  grid-column: 2;\n",
       "  white-space: pre-wrap;\n",
       "  word-break: break-all;\n",
       "}\n",
       "\n",
       ".xr-icon-database,\n",
       ".xr-icon-file-text2,\n",
       ".xr-no-icon {\n",
       "  display: inline-block;\n",
       "  vertical-align: middle;\n",
       "  width: 1em;\n",
       "  height: 1.5em !important;\n",
       "  stroke-width: 0;\n",
       "  stroke: currentColor;\n",
       "  fill: currentColor;\n",
       "}\n",
       "</style><pre class='xr-text-repr-fallback'>&lt;xarray.Dataset&gt; Size: 184kB\n",
       "Dimensions:   (time: 7670, location: 1)\n",
       "Coordinates:\n",
       "  * time      (time) datetime64[ns] 61kB 1999-01-01 1999-01-02 ... 2019-12-31\n",
       "  * location  (location) &lt;U2 8B &#x27;IA&#x27;\n",
       "Data variables:\n",
       "    tmin      (time, location) float64 61kB -8.037 -1.83 ... -4.857 -1.792\n",
       "    tmax      (time, location) float64 61kB 9.607 7.746 -1.154 ... 10.84 7.317</pre><div class='xr-wrap' style='display:none'><div class='xr-header'><div class='xr-obj-type'>xarray.Dataset</div></div><ul class='xr-sections'><li class='xr-section-item'><input id='section-925d4273-e379-4e94-bc27-98370dbca490' class='xr-section-summary-in' type='checkbox' disabled ><label for='section-925d4273-e379-4e94-bc27-98370dbca490' class='xr-section-summary'  title='Expand/collapse section'>Dimensions:</label><div class='xr-section-inline-details'><ul class='xr-dim-list'><li><span class='xr-has-index'>time</span>: 7670</li><li><span class='xr-has-index'>location</span>: 1</li></ul></div><div class='xr-section-details'></div></li><li class='xr-section-item'><input id='section-f12ddb02-5bd7-4078-9c55-6dfa3a4b3540' class='xr-section-summary-in' type='checkbox'  checked><label for='section-f12ddb02-5bd7-4078-9c55-6dfa3a4b3540' class='xr-section-summary' >Coordinates: <span>(2)</span></label><div class='xr-section-inline-details'></div><div class='xr-section-details'><ul class='xr-var-list'><li class='xr-var-item'><div class='xr-var-name'><span class='xr-has-index'>time</span></div><div class='xr-var-dims'>(time)</div><div class='xr-var-dtype'>datetime64[ns]</div><div class='xr-var-preview xr-preview'>1999-01-01 ... 2019-12-31</div><input id='attrs-a921fb3d-c8ab-4848-831a-af16b467d3eb' class='xr-var-attrs-in' type='checkbox' disabled><label for='attrs-a921fb3d-c8ab-4848-831a-af16b467d3eb' title='Show/Hide attributes'><svg class='icon xr-icon-file-text2'><use xlink:href='#icon-file-text2'></use></svg></label><input id='data-e2aa9b84-ce23-4cfe-b381-681b768e71ab' class='xr-var-data-in' type='checkbox'><label for='data-e2aa9b84-ce23-4cfe-b381-681b768e71ab' title='Show/Hide data repr'><svg class='icon xr-icon-database'><use xlink:href='#icon-database'></use></svg></label><div class='xr-var-attrs'><dl class='xr-attrs'></dl></div><div class='xr-var-data'><pre>array([&#x27;1999-01-01T00:00:00.000000000&#x27;, &#x27;1999-01-02T00:00:00.000000000&#x27;,\n",
       "       &#x27;1999-01-03T00:00:00.000000000&#x27;, ..., &#x27;2019-12-29T00:00:00.000000000&#x27;,\n",
       "       &#x27;2019-12-30T00:00:00.000000000&#x27;, &#x27;2019-12-31T00:00:00.000000000&#x27;],\n",
       "      dtype=&#x27;datetime64[ns]&#x27;)</pre></div></li><li class='xr-var-item'><div class='xr-var-name'><span class='xr-has-index'>location</span></div><div class='xr-var-dims'>(location)</div><div class='xr-var-dtype'>&lt;U2</div><div class='xr-var-preview xr-preview'>&#x27;IA&#x27;</div><input id='attrs-fdf236a3-3426-4a65-ac52-7cc25d911c05' class='xr-var-attrs-in' type='checkbox' disabled><label for='attrs-fdf236a3-3426-4a65-ac52-7cc25d911c05' title='Show/Hide attributes'><svg class='icon xr-icon-file-text2'><use xlink:href='#icon-file-text2'></use></svg></label><input id='data-e26cc389-7363-4d47-9026-a141a958cc2f' class='xr-var-data-in' type='checkbox'><label for='data-e26cc389-7363-4d47-9026-a141a958cc2f' title='Show/Hide data repr'><svg class='icon xr-icon-database'><use xlink:href='#icon-database'></use></svg></label><div class='xr-var-attrs'><dl class='xr-attrs'></dl></div><div class='xr-var-data'><pre>array([&#x27;IA&#x27;], dtype=&#x27;&lt;U2&#x27;)</pre></div></li></ul></div></li><li class='xr-section-item'><input id='section-c223cb9b-6a5c-4e33-9235-99c021f0d9eb' class='xr-section-summary-in' type='checkbox'  checked><label for='section-c223cb9b-6a5c-4e33-9235-99c021f0d9eb' class='xr-section-summary' >Data variables: <span>(2)</span></label><div class='xr-section-inline-details'></div><div class='xr-section-details'><ul class='xr-var-list'><li class='xr-var-item'><div class='xr-var-name'><span>tmin</span></div><div class='xr-var-dims'>(time, location)</div><div class='xr-var-dtype'>float64</div><div class='xr-var-preview xr-preview'>-8.037 -1.83 ... -4.857 -1.792</div><input id='attrs-19313e9f-5683-4a72-a93b-e13e966bd554' class='xr-var-attrs-in' type='checkbox' disabled><label for='attrs-19313e9f-5683-4a72-a93b-e13e966bd554' title='Show/Hide attributes'><svg class='icon xr-icon-file-text2'><use xlink:href='#icon-file-text2'></use></svg></label><input id='data-64463ba4-c6e1-4c61-ada4-47a950a36fe8' class='xr-var-data-in' type='checkbox'><label for='data-64463ba4-c6e1-4c61-ada4-47a950a36fe8' title='Show/Hide data repr'><svg class='icon xr-icon-database'><use xlink:href='#icon-database'></use></svg></label><div class='xr-var-attrs'><dl class='xr-attrs'></dl></div><div class='xr-var-data'><pre>array([[-8.03736932],\n",
       "       [-1.83023614],\n",
       "       [-4.0107458 ],\n",
       "       ...,\n",
       "       [-5.87696127],\n",
       "       [-4.85677245],\n",
       "       [-1.79212274]])</pre></div></li><li class='xr-var-item'><div class='xr-var-name'><span>tmax</span></div><div class='xr-var-dims'>(time, location)</div><div class='xr-var-dtype'>float64</div><div class='xr-var-preview xr-preview'>9.607 7.746 -1.154 ... 10.84 7.317</div><input id='attrs-e4dc0349-16dc-42ca-a53e-1bed12f616c3' class='xr-var-attrs-in' type='checkbox' disabled><label for='attrs-e4dc0349-16dc-42ca-a53e-1bed12f616c3' title='Show/Hide attributes'><svg class='icon xr-icon-file-text2'><use xlink:href='#icon-file-text2'></use></svg></label><input id='data-37653fd4-5688-4658-ab1b-c39e4fee19d9' class='xr-var-data-in' type='checkbox'><label for='data-37653fd4-5688-4658-ab1b-c39e4fee19d9' title='Show/Hide data repr'><svg class='icon xr-icon-database'><use xlink:href='#icon-database'></use></svg></label><div class='xr-var-attrs'><dl class='xr-attrs'></dl></div><div class='xr-var-data'><pre>array([[ 9.60748649],\n",
       "       [ 7.74561557],\n",
       "       [-1.15380322],\n",
       "       ...,\n",
       "       [ 4.47352059],\n",
       "       [10.84085422],\n",
       "       [ 7.31691539]])</pre></div></li></ul></div></li><li class='xr-section-item'><input id='section-6262e0af-317f-45c1-94e6-2141db39bcf8' class='xr-section-summary-in' type='checkbox'  ><label for='section-6262e0af-317f-45c1-94e6-2141db39bcf8' class='xr-section-summary' >Indexes: <span>(2)</span></label><div class='xr-section-inline-details'></div><div class='xr-section-details'><ul class='xr-var-list'><li class='xr-var-item'><div class='xr-index-name'><div>time</div></div><div class='xr-index-preview'>PandasIndex</div><input type='checkbox' disabled/><label></label><input id='index-117a0a89-f5f0-434a-84e1-53199f0b77a2' class='xr-index-data-in' type='checkbox'/><label for='index-117a0a89-f5f0-434a-84e1-53199f0b77a2' title='Show/Hide index repr'><svg class='icon xr-icon-database'><use xlink:href='#icon-database'></use></svg></label><div class='xr-index-data'><pre>PandasIndex(DatetimeIndex([&#x27;1999-01-01&#x27;, &#x27;1999-01-02&#x27;, &#x27;1999-01-03&#x27;, &#x27;1999-01-04&#x27;,\n",
       "               &#x27;1999-01-05&#x27;, &#x27;1999-01-06&#x27;, &#x27;1999-01-07&#x27;, &#x27;1999-01-08&#x27;,\n",
       "               &#x27;1999-01-09&#x27;, &#x27;1999-01-10&#x27;,\n",
       "               ...\n",
       "               &#x27;2019-12-22&#x27;, &#x27;2019-12-23&#x27;, &#x27;2019-12-24&#x27;, &#x27;2019-12-25&#x27;,\n",
       "               &#x27;2019-12-26&#x27;, &#x27;2019-12-27&#x27;, &#x27;2019-12-28&#x27;, &#x27;2019-12-29&#x27;,\n",
       "               &#x27;2019-12-30&#x27;, &#x27;2019-12-31&#x27;],\n",
       "              dtype=&#x27;datetime64[ns]&#x27;, name=&#x27;time&#x27;, length=7670, freq=&#x27;D&#x27;))</pre></div></li><li class='xr-var-item'><div class='xr-index-name'><div>location</div></div><div class='xr-index-preview'>PandasIndex</div><input type='checkbox' disabled/><label></label><input id='index-b7d550ad-75c5-4519-b747-6b1a09725cb6' class='xr-index-data-in' type='checkbox'/><label for='index-b7d550ad-75c5-4519-b747-6b1a09725cb6' title='Show/Hide index repr'><svg class='icon xr-icon-database'><use xlink:href='#icon-database'></use></svg></label><div class='xr-index-data'><pre>PandasIndex(Index([&#x27;IA&#x27;], dtype=&#x27;object&#x27;, name=&#x27;location&#x27;))</pre></div></li></ul></div></li><li class='xr-section-item'><input id='section-e6fb0ba4-c063-447e-baf7-b9aa049c1c2d' class='xr-section-summary-in' type='checkbox' disabled ><label for='section-e6fb0ba4-c063-447e-baf7-b9aa049c1c2d' class='xr-section-summary'  title='Expand/collapse section'>Attributes: <span>(0)</span></label><div class='xr-section-inline-details'></div><div class='xr-section-details'><dl class='xr-attrs'></dl></div></li></ul></div></div>"
      ],
      "text/plain": [
       "<xarray.Dataset> Size: 184kB\n",
       "Dimensions:   (time: 7670, location: 1)\n",
       "Coordinates:\n",
       "  * time      (time) datetime64[ns] 61kB 1999-01-01 1999-01-02 ... 2019-12-31\n",
       "  * location  (location) <U2 8B 'IA'\n",
       "Data variables:\n",
       "    tmin      (time, location) float64 61kB -8.037 -1.83 ... -4.857 -1.792\n",
       "    tmax      (time, location) float64 61kB 9.607 7.746 -1.154 ... 10.84 7.317"
      ]
     },
     "execution_count": 7,
     "metadata": {},
     "output_type": "execute_result"
    }
   ],
   "source": [
    "# what does this look like\n",
    "ds"
   ]
  },
  {
   "cell_type": "code",
   "execution_count": 8,
   "metadata": {
    "colab": {
     "base_uri": "https://localhost:8080/",
     "height": 487
    },
    "id": "HFp3AtfDK2I9",
    "outputId": "191204cf-f50d-4c1d-ba0e-b8c279bb95ad"
   },
   "outputs": [
    {
     "data": {
      "image/png": "[encoded data removed]",
      "text/plain": [
       "<Figure size 640x480 with 1 Axes>"
      ]
     },
     "metadata": {},
     "output_type": "display_data"
    }
   ],
   "source": [
    "# some time series plots\n",
    "ds.tmin.plot()\n",
    "ds.tmax.plot()\n",
    "plt.show()"
   ]
  },
  {
   "cell_type": "markdown",
   "metadata": {
    "id": "2MEededRK5nj"
   },
   "source": [
    "## Lets now preprocess our dataset in preparation for training\n",
    "\n",
    "- Lets structure the supervised learning problem (what is the input/feature(s)/label?)\n",
    "- Since this is time series data and there is autocorrelation, we will split data into train and test set using years rather than randomly splitting data\n",
    "- Standardize and normalize the training set"
   ]
  },
  {
   "cell_type": "code",
   "execution_count": null,
   "metadata": {
    "id": "ieTJWr4kK4EY"
   },
   "outputs": [],
   "source": [
    "# split by years\n",
    "train = ds.sel(time=slice('1999-01-01T00:00:00.000000000','2014-12-31T00:00:00.000000000'))\n",
    "test = ds.sel(time=slice('2015-01-01T00:00:00.000000000','2019-12-31T00:00:00.000000000'))"
   ]
  },
  {
   "cell_type": "markdown",
   "metadata": {
    "id": "bxsIyzRpLE8S"
   },
   "source": [
    "For random train test splitting, check out\n",
    "\n",
    "`from sklearn.model_selection import train_test_split`\n",
    "\n",
    "Now lets set up the input and label."
   ]
  },
  {
   "cell_type": "code",
   "execution_count": null,
   "metadata": {
    "id": "xCN4aBu2LRF3"
   },
   "outputs": [],
   "source": [
    "input_train = train.tmin\n",
    "label_train = train.tmax"
   ]
  },
  {
   "cell_type": "markdown",
   "metadata": {
    "id": "JZoQUTcoLShU"
   },
   "source": [
    "And finally, let's go ahead and min-max scale our training data. We can levarage the sklearn function that will save our min and max values from the training set for us."
   ]
  },
  {
   "cell_type": "code",
   "execution_count": null,
   "metadata": {
    "id": "-CxyFXfCLCTW"
   },
   "outputs": [],
   "source": [
    "from sklearn.preprocessing import MinMaxScaler"
   ]
  },
  {
   "cell_type": "code",
   "execution_count": null,
   "metadata": {
    "id": "PJqJZ3enLOGV"
   },
   "outputs": [],
   "source": [
    "# create our scaler object\n",
    "scaler_input = MinMaxScaler()\n",
    "scaler_label = MinMaxScaler()"
   ]
  },
  {
   "cell_type": "code",
   "execution_count": null,
   "metadata": {
    "colab": {
     "base_uri": "https://localhost:8080/",
     "height": 74
    },
    "id": "ECZz_3PILZ4c",
    "outputId": "a7505a77-59a2-4651-fd5b-5788810cc52d"
   },
   "outputs": [],
   "source": [
    "scaler_input.fit(input_train)"
   ]
  },
  {
   "cell_type": "code",
   "execution_count": null,
   "metadata": {
    "colab": {
     "base_uri": "https://localhost:8080/",
     "height": 74
    },
    "id": "sAoRgsMxLmrw",
    "outputId": "2346dd21-1b56-4710-c933-996bb2137fbd"
   },
   "outputs": [],
   "source": [
    "scaler_label.fit(label_train)"
   ]
  },
  {
   "cell_type": "code",
   "execution_count": null,
   "metadata": {
    "colab": {
     "base_uri": "https://localhost:8080/"
    },
    "id": "zIa6uIz2Lbpd",
    "outputId": "b1c1f38c-0362-4df2-fb83-1d9a94222365"
   },
   "outputs": [],
   "source": [
    "print(scaler_input.data_max_)\n",
    "print(scaler_input.data_min_)"
   ]
  },
  {
   "cell_type": "code",
   "execution_count": null,
   "metadata": {
    "colab": {
     "base_uri": "https://localhost:8080/"
    },
    "id": "w4nz_9ViLdv6",
    "outputId": "0b3ac704-4a8a-4666-e232-97867fb3e179"
   },
   "outputs": [],
   "source": [
    "print(scaler_label.data_max_)\n",
    "print(scaler_label.data_min_)"
   ]
  },
  {
   "cell_type": "code",
   "execution_count": null,
   "metadata": {
    "id": "nm4E9kCqLfDS"
   },
   "outputs": [],
   "source": [
    "input_train_scaled = scaler_input.transform(input_train)\n",
    "label_train_scaled = scaler_label.transform(label_train)"
   ]
  },
  {
   "cell_type": "markdown",
   "metadata": {
    "id": "qV1CYbG_Lqnz"
   },
   "source": [
    "Let's confirm that this worked!"
   ]
  },
  {
   "cell_type": "code",
   "execution_count": null,
   "metadata": {
    "colab": {
     "base_uri": "https://localhost:8080/",
     "height": 843
    },
    "id": "1D_Eo46bLkDM",
    "outputId": "7a929a01-76df-43a3-a1fa-498905ff9a57"
   },
   "outputs": [],
   "source": [
    "plt.plot(range(0,input_train_scaled.shape[0]), input_train_scaled, c='k')\n",
    "plt.show()\n",
    "plt.plot(range(0,input_train_scaled.shape[0]), input_train, c='r')\n",
    "plt.show()"
   ]
  },
  {
   "cell_type": "code",
   "execution_count": null,
   "metadata": {
    "colab": {
     "base_uri": "https://localhost:8080/",
     "height": 843
    },
    "id": "by_BoWLjLtGD",
    "outputId": "bb7b3945-b8fe-4d4b-fb49-ddf04f2a8a0d"
   },
   "outputs": [],
   "source": [
    "plt.plot(range(0,label_train_scaled.shape[0]), label_train_scaled, c='k')\n",
    "plt.show()\n",
    "plt.plot(range(0,label_train_scaled.shape[0]), label_train, c='r')\n",
    "plt.show()"
   ]
  },
  {
   "cell_type": "code",
   "execution_count": null,
   "metadata": {},
   "outputs": [],
   "source": [
    "# bin data / create classes (labels)\n",
    "# integer encoding\n",
    "# one-hot encoding"
   ]
  },
  {
   "cell_type": "markdown",
   "metadata": {
    "id": "LEjtXzvFLxDz"
   },
   "source": [
    "Now that our toy data in ready, including our input variable and the label, lets build our ANN (artificial neural network)"
   ]
  },
  {
   "cell_type": "markdown",
   "metadata": {
    "id": "nAQbr71lL5C-"
   },
   "source": [
    "# ANN Time!\n",
    "\n",
    "Documentation: https://keras.io/api/models/sequential/"
   ]
  },
  {
   "cell_type": "code",
   "execution_count": null,
   "metadata": {
    "id": "aieabf8nLu_K"
   },
   "outputs": [],
   "source": [
    "model = keras.Sequential() # instantiate model object"
   ]
  },
  {
   "cell_type": "markdown",
   "metadata": {
    "id": "hoiTAQetL-Dj"
   },
   "source": [
    "Creating our input layer (not required, but I recommend this because it lets the model get built continuously as you are adding layers rather than waiting till the end to build)."
   ]
  },
  {
   "cell_type": "code",
   "execution_count": null,
   "metadata": {
    "id": "oH4cy1w-L8UO"
   },
   "outputs": [],
   "source": [
    "model.add(keras.Input(shape=(1,), name=\"input_layer\"))"
   ]
  },
  {
   "cell_type": "markdown",
   "metadata": {
    "id": "FtSQKEyDL_5B"
   },
   "source": [
    "Docs: https://keras.io/api/layers/core_layers/input/\n",
    "\n",
    "Now lets add our hidden layers"
   ]
  },
  {
   "cell_type": "code",
   "execution_count": null,
   "metadata": {
    "id": "Jtr3AYjiL_as"
   },
   "outputs": [],
   "source": [
    "model.add(\n",
    "    keras.layers.Dense(units=8, activation=keras.activations.relu))\n",
    "model.add(\n",
    "    keras.layers.Dense(units=8, activation=keras.activations.relu))"
   ]
  },
  {
   "cell_type": "markdown",
   "metadata": {
    "id": "6zBuLMY8MHE6"
   },
   "source": [
    "Docs: https://keras.io/api/layers/core_layers/dense/\n",
    "\n",
    "Output layer for classification"
   ]
  },
  {
   "cell_type": "code",
   "execution_count": null,
   "metadata": {
    "id": "wKJg-o27MCWn"
   },
   "outputs": [],
   "source": [
    "# integer encoding\n",
    "model.add(keras.layers.Dense(units=1, activation='sigmoid'))\n",
    "# one-hot\n",
    "model.add(keras.layers.Dense(units=1, activation='softmax'))"
   ]
  },
  {
   "cell_type": "markdown",
   "metadata": {
    "id": "w7G-rSIIMKYY"
   },
   "source": [
    "Now compiling our model. We will use gradient descent (with momentum) optimizer called SGD and MSE as a loss function.\n",
    "\n",
    "For more options and docs, see:\n",
    "\n",
    "- https://keras.io/api/optimizers/\n",
    "- https://keras.io/api/losses/"
   ]
  },
  {
   "cell_type": "code",
   "execution_count": null,
   "metadata": {
    "id": "iPRfqUtzMJxO"
   },
   "outputs": [],
   "source": [
    "# integer\n",
    "model.compile(\n",
    "    optimizer=keras.optimizers.SGD(learning_rate=0.01),\n",
    "    loss=keras.losses.BinaryCrossentropy()\n",
    ")\n",
    "\n",
    "# one-hot\n",
    "model.compile(\n",
    "    optimizer=keras.optimizers.SGD(learning_rate=0.01),\n",
    "    loss=keras.losses.CategoricalCrossentropy()\n",
    ")"
   ]
  },
  {
   "cell_type": "markdown",
   "metadata": {
    "id": "1-LOi7FlMQQt"
   },
   "source": [
    "What does our model \"look\" like?"
   ]
  },
  {
   "cell_type": "code",
   "execution_count": null,
   "metadata": {
    "colab": {
     "base_uri": "https://localhost:8080/"
    },
    "id": "3dqoJYHFMO2x",
    "outputId": "0d4f3a49-6aff-4b56-c31a-0ab67c647a41"
   },
   "outputs": [],
   "source": [
    "model.summary()"
   ]
  },
  {
   "cell_type": "markdown",
   "metadata": {
    "id": "Ho04K5j3MTaS"
   },
   "source": [
    "Call model.fit to train! YAY :)\n",
    "\n",
    "Documentation: https://keras.io/api/models/model_training_apis/"
   ]
  },
  {
   "cell_type": "code",
   "execution_count": null,
   "metadata": {
    "colab": {
     "base_uri": "https://localhost:8080/"
    },
    "id": "oQ7-u0WGMRi3",
    "outputId": "7074b43d-b71b-4283-9e0b-456a2fefd8a5"
   },
   "outputs": [],
   "source": [
    "history = model.fit(\n",
    "    x=input_train_scaled,\n",
    "    y=label_train_scaled,\n",
    "    batch_size=32,\n",
    "    epochs=20,\n",
    "    verbose='auto',\n",
    "    validation_split=0.1,\n",
    "    validation_data=None,\n",
    "    shuffle=True,\n",
    "    class_weight=None,\n",
    "    sample_weight=None,\n",
    "    initial_epoch=0,\n",
    ")"
   ]
  },
  {
   "cell_type": "markdown",
   "metadata": {
    "id": "Xan0ofFxMY0q"
   },
   "source": [
    "Lets plot our training and validation loss curves."
   ]
  },
  {
   "cell_type": "code",
   "execution_count": null,
   "metadata": {
    "colab": {
     "base_uri": "https://localhost:8080/",
     "height": 430
    },
    "id": "OgMaUG6IMWYx",
    "outputId": "d98b6487-2bdc-495f-d149-453b409a33f3"
   },
   "outputs": [],
   "source": [
    "plt.plot(range(0,20), history.history['loss'], c='k', label='loss')\n",
    "plt.plot(range(0,20), history.history['val_loss'], c='r', label='val_loss')\n",
    "plt.legend()\n",
    "plt.show()"
   ]
  },
  {
   "cell_type": "markdown",
   "metadata": {
    "id": "u12cJ7PgMdG2"
   },
   "source": [
    "# Now lets do inference\n",
    "\n",
    "How does our model perform on the testing set?\n",
    "\n",
    "Rescale our test data using our earlier scaler objects"
   ]
  },
  {
   "cell_type": "code",
   "execution_count": null,
   "metadata": {
    "id": "C0EjYzrgMblA"
   },
   "outputs": [],
   "source": [
    "input_test = test.tmin\n",
    "label_test = test.tmax\n",
    "\n",
    "input_test_scaled = scaler_input.transform(input_test)\n",
    "label_test_scaled = scaler_label.transform(label_test)"
   ]
  },
  {
   "cell_type": "markdown",
   "metadata": {
    "id": "pvoHDqgNMis8"
   },
   "source": [
    "Quick double check!"
   ]
  },
  {
   "cell_type": "code",
   "execution_count": null,
   "metadata": {
    "colab": {
     "base_uri": "https://localhost:8080/",
     "height": 843
    },
    "id": "MYzX9PgiMhP_",
    "outputId": "6fd1fb51-1553-48ad-a3ef-f7842b21e971"
   },
   "outputs": [],
   "source": [
    "plt.plot(range(0,input_test_scaled.shape[0]), input_test_scaled, c='k')\n",
    "plt.show()\n",
    "plt.plot(range(0,input_test_scaled.shape[0]), input_test, c='r')\n",
    "plt.show()"
   ]
  },
  {
   "cell_type": "code",
   "execution_count": null,
   "metadata": {
    "colab": {
     "base_uri": "https://localhost:8080/",
     "height": 843
    },
    "id": "2H-vQDa0Mj6A",
    "outputId": "2084c99f-e156-413c-dc13-9e59e8220bf6"
   },
   "outputs": [],
   "source": [
    "plt.plot(range(0,label_test_scaled.shape[0]), label_test_scaled, c='k')\n",
    "plt.show()\n",
    "plt.plot(range(0,label_test_scaled.shape[0]), label_test, c='r')\n",
    "plt.show()"
   ]
  },
  {
   "cell_type": "code",
   "execution_count": null,
   "metadata": {
    "colab": {
     "base_uri": "https://localhost:8080/"
    },
    "id": "1tgJveqeMmlt",
    "outputId": "abaae0c4-cc1c-4eb3-87a3-4bc66a293de4"
   },
   "outputs": [],
   "source": [
    "# to predict, use predict call\n",
    "predictions = model.predict(\n",
    "    x=input_test_scaled,\n",
    ")"
   ]
  },
  {
   "cell_type": "code",
   "execution_count": null,
   "metadata": {
    "colab": {
     "base_uri": "https://localhost:8080/",
     "height": 449
    },
    "id": "tF67OoVZMrD6",
    "outputId": "41c6b857-206d-4996-c31e-ae019d13e04a"
   },
   "outputs": [],
   "source": [
    "plt.scatter(label_test_scaled, predictions)\n",
    "plt.xlabel('Labels')\n",
    "plt.ylabel('ML predictions')\n",
    "plt.show()"
   ]
  },
  {
   "cell_type": "code",
   "execution_count": null,
   "metadata": {
    "colab": {
     "base_uri": "https://localhost:8080/"
    },
    "id": "2A1GFWYvMsqY",
    "outputId": "a5350037-9422-40f3-dddc-f3bfbb2839a4"
   },
   "outputs": [],
   "source": [
    "# MSE\n",
    "# np.mean(square(y_true - y_pred))\n",
    "np.mean(np.square(label_test_scaled - predictions))"
   ]
  }
 ],
 "metadata": {
  "colab": {
   "authorship_tag": "ABX9TyN5R38jHOYvAlPpiL7XMGZz",
   "include_colab_link": true,
   "provenance": []
  },
  "kernelspec": {
   "display_name": "keras-tf-v2025",
   "language": "python",
   "name": "keras-tf-v2025"
  },
  "language_info": {
   "codemirror_mode": {
    "name": "ipython",
    "version": 3
   },
   "file_extension": ".py",
   "mimetype": "text/x-python",
   "name": "python",
   "nbconvert_exporter": "python",
   "pygments_lexer": "ipython3",
   "version": "3.12.8"
  }
 },
 "nbformat": 4,
 "nbformat_minor": 4
}
