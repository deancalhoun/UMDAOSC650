{
 "cells": [
  {
   "cell_type": "code",
   "execution_count": 1,
   "id": "c73b9a07",
   "metadata": {},
   "outputs": [
    {
     "name": "stderr",
     "output_type": "stream",
     "text": [
      "2025-04-09 14:12:31.154929: I tensorflow/core/platform/cpu_feature_guard.cc:210] This TensorFlow binary is optimized to use available CPU instructions in performance-critical operations.\n",
      "To enable the following instructions: SSE4.1 SSE4.2 AVX AVX2 FMA, in other operations, rebuild TensorFlow with the appropriate compiler flags.\n"
     ]
    }
   ],
   "source": [
    "import numpy as np\n",
    "import pandas as pd\n",
    "import glob as glob\n",
    "import matplotlib.pyplot as plt\n",
    "from sklearn.preprocessing import StandardScaler\n",
    "from sklearn.model_selection import train_test_split\n",
    "from sklearn.metrics import mean_squared_error\n",
    "import keras\n",
    "from keras import layers\n",
    "import tensorflow as tf"
   ]
  },
  {
   "cell_type": "code",
   "execution_count": 4,
   "id": "8d10d5ae",
   "metadata": {},
   "outputs": [],
   "source": [
    "agg_files = sorted(glob.glob('/glade/derecho/scratch/dcalhoun/aggregated/tract/Maryland/ifs/0.125/t2m/00/24/*/*/*.csv'))"
   ]
  },
  {
   "cell_type": "code",
   "execution_count": 5,
   "id": "16b90618",
   "metadata": {},
   "outputs": [],
   "source": [
    "dfs = []\n",
    "for f in agg_files:\n",
    "    df = pd.read_csv(f)\n",
    "    dfs.append(df)\n",
    "df = pd.concat(dfs, ignore_index=True)\n",
    "df.drop(columns=['Unnamed: 0'], inplace=True)\n",
    "df['time'] = pd.to_datetime(df['time'])\n",
    "df['dayofyear'] = df['time'].dt.dayofyear"
   ]
  },
  {
   "cell_type": "code",
   "execution_count": 6,
   "id": "50142dc8",
   "metadata": {},
   "outputs": [
    {
     "data": {
      "text/html": [
       "<div>\n",
       "<style scoped>\n",
       "    .dataframe tbody tr th:only-of-type {\n",
       "        vertical-align: middle;\n",
       "    }\n",
       "\n",
       "    .dataframe tbody tr th {\n",
       "        vertical-align: top;\n",
       "    }\n",
       "\n",
       "    .dataframe thead th {\n",
       "        text-align: right;\n",
       "    }\n",
       "</style>\n",
       "<table border=\"1\" class=\"dataframe\">\n",
       "  <thead>\n",
       "    <tr style=\"text-align: right;\">\n",
       "      <th></th>\n",
       "      <th>GEOID</th>\n",
       "      <th>time</th>\n",
       "      <th>t2m_abs_error</th>\n",
       "      <th>dayofyear</th>\n",
       "    </tr>\n",
       "  </thead>\n",
       "  <tbody>\n",
       "    <tr>\n",
       "      <th>0</th>\n",
       "      <td>24001000100</td>\n",
       "      <td>2016-01-03</td>\n",
       "      <td>1.337073</td>\n",
       "      <td>3</td>\n",
       "    </tr>\n",
       "    <tr>\n",
       "      <th>1</th>\n",
       "      <td>24001000200</td>\n",
       "      <td>2016-01-03</td>\n",
       "      <td>1.441930</td>\n",
       "      <td>3</td>\n",
       "    </tr>\n",
       "    <tr>\n",
       "      <th>2</th>\n",
       "      <td>24001000500</td>\n",
       "      <td>2016-01-03</td>\n",
       "      <td>1.464916</td>\n",
       "      <td>3</td>\n",
       "    </tr>\n",
       "    <tr>\n",
       "      <th>3</th>\n",
       "      <td>24001000600</td>\n",
       "      <td>2016-01-03</td>\n",
       "      <td>1.464916</td>\n",
       "      <td>3</td>\n",
       "    </tr>\n",
       "    <tr>\n",
       "      <th>4</th>\n",
       "      <td>24001000700</td>\n",
       "      <td>2016-01-03</td>\n",
       "      <td>1.464916</td>\n",
       "      <td>3</td>\n",
       "    </tr>\n",
       "    <tr>\n",
       "      <th>...</th>\n",
       "      <td>...</td>\n",
       "      <td>...</td>\n",
       "      <td>...</td>\n",
       "      <td>...</td>\n",
       "    </tr>\n",
       "    <tr>\n",
       "      <th>4637705</th>\n",
       "      <td>24510280402</td>\n",
       "      <td>2024-11-30</td>\n",
       "      <td>0.130792</td>\n",
       "      <td>335</td>\n",
       "    </tr>\n",
       "    <tr>\n",
       "      <th>4637706</th>\n",
       "      <td>24510280403</td>\n",
       "      <td>2024-11-30</td>\n",
       "      <td>0.135976</td>\n",
       "      <td>335</td>\n",
       "    </tr>\n",
       "    <tr>\n",
       "      <th>4637707</th>\n",
       "      <td>24510280404</td>\n",
       "      <td>2024-11-30</td>\n",
       "      <td>0.134073</td>\n",
       "      <td>335</td>\n",
       "    </tr>\n",
       "    <tr>\n",
       "      <th>4637708</th>\n",
       "      <td>24510280500</td>\n",
       "      <td>2024-11-30</td>\n",
       "      <td>0.096344</td>\n",
       "      <td>335</td>\n",
       "    </tr>\n",
       "    <tr>\n",
       "      <th>4637709</th>\n",
       "      <td>24510280600</td>\n",
       "      <td>2024-11-30</td>\n",
       "      <td>0.096344</td>\n",
       "      <td>335</td>\n",
       "    </tr>\n",
       "  </tbody>\n",
       "</table>\n",
       "<p>4637710 rows × 4 columns</p>\n",
       "</div>"
      ],
      "text/plain": [
       "               GEOID       time  t2m_abs_error  dayofyear\n",
       "0        24001000100 2016-01-03       1.337073          3\n",
       "1        24001000200 2016-01-03       1.441930          3\n",
       "2        24001000500 2016-01-03       1.464916          3\n",
       "3        24001000600 2016-01-03       1.464916          3\n",
       "4        24001000700 2016-01-03       1.464916          3\n",
       "...              ...        ...            ...        ...\n",
       "4637705  24510280402 2024-11-30       0.130792        335\n",
       "4637706  24510280403 2024-11-30       0.135976        335\n",
       "4637707  24510280404 2024-11-30       0.134073        335\n",
       "4637708  24510280500 2024-11-30       0.096344        335\n",
       "4637709  24510280600 2024-11-30       0.096344        335\n",
       "\n",
       "[4637710 rows x 4 columns]"
      ]
     },
     "execution_count": 6,
     "metadata": {},
     "output_type": "execute_result"
    }
   ],
   "source": [
    "df"
   ]
  },
  {
   "cell_type": "code",
   "execution_count": 7,
   "id": "a767be1f-7072-4279-a73a-da8392d71d87",
   "metadata": {},
   "outputs": [],
   "source": [
    "ntime = int(df.shape[0]/1463)"
   ]
  },
  {
   "cell_type": "code",
   "execution_count": 8,
   "id": "5f25fbaa",
   "metadata": {},
   "outputs": [],
   "source": [
    "data = np.array(df['t2m_abs_error']).reshape(ntime,1463)"
   ]
  },
  {
   "cell_type": "code",
   "execution_count": 9,
   "id": "6d2085d7",
   "metadata": {},
   "outputs": [
    {
     "data": {
      "text/plain": [
       "array([[1.33707259, 1.44192963, 1.46491583, ..., 0.83482155, 0.97895669,\n",
       "        0.97895669],\n",
       "       [1.26829318, 1.18962222, 1.16692848, ..., 1.01553003, 0.75547959,\n",
       "        0.75547959],\n",
       "       [0.82697503, 0.87672818, 0.91484212, ..., 0.90879008, 0.88468913,\n",
       "        0.88468913],\n",
       "       ...,\n",
       "       [1.43946619, 1.76605786, 1.87878517, ..., 1.11235749, 1.25924071,\n",
       "        1.25924071],\n",
       "       [0.38384375, 0.38814095, 0.37394804, ..., 0.67043398, 0.61767964,\n",
       "        0.61767964],\n",
       "       [0.33849518, 0.38227149, 0.42923709, ..., 0.13407326, 0.09634406,\n",
       "        0.09634406]])"
      ]
     },
     "execution_count": 9,
     "metadata": {},
     "output_type": "execute_result"
    }
   ],
   "source": [
    "data"
   ]
  },
  {
   "cell_type": "code",
   "execution_count": 10,
   "id": "b15a7d97-79af-49f6-b742-d0c46aba0882",
   "metadata": {},
   "outputs": [],
   "source": [
    "keras.utils.set_random_seed(812)"
   ]
  },
  {
   "cell_type": "code",
   "execution_count": 11,
   "id": "d7e95423-9d1c-4432-a001-1e72fc2b5aa9",
   "metadata": {},
   "outputs": [],
   "source": [
    "# split dataset into training and testing set\n",
    "X_train, X_test, y_train, y_test = train_test_split(\n",
    "    data,\n",
    "    data,\n",
    "    test_size=0.3,\n",
    "    shuffle=False,\n",
    "    random_state=42)"
   ]
  },
  {
   "cell_type": "code",
   "execution_count": 13,
   "id": "cf11160a-144c-42a9-86c0-aa8ea74757e1",
   "metadata": {},
   "outputs": [],
   "source": [
    "# now rescale your data\n",
    "scaler = StandardScaler()\n",
    "scaler.fit(X_train)\n",
    "X_train = scaler.transform(X_train) # input\n",
    "X_test = scaler.transform(X_test) # input\n",
    "y_train = scaler.transform(y_train) # label\n",
    "y_test = scaler.transform(y_test) # label"
   ]
  },
  {
   "cell_type": "code",
   "execution_count": 14,
   "id": "9c744dc6-8cb8-4fba-8018-78cc7b2c3410",
   "metadata": {},
   "outputs": [
    {
     "name": "stdout",
     "output_type": "stream",
     "text": [
      "(2219, 1463) (951, 1463) (2219, 1463) (951, 1463)\n"
     ]
    }
   ],
   "source": [
    "# check shapes\n",
    "print(X_train.shape, X_test.shape, y_train.shape, y_test.shape)"
   ]
  },
  {
   "cell_type": "code",
   "execution_count": 104,
   "id": "651bf223-64f7-4de0-9e87-a87267350d22",
   "metadata": {},
   "outputs": [
    {
     "data": {
      "text/html": [
       "<pre style=\"white-space:pre;overflow-x:auto;line-height:normal;font-family:Menlo,'DejaVu Sans Mono',consolas,'Courier New',monospace\"><span style=\"font-weight: bold\">Model: \"sequential_4\"</span>\n",
       "</pre>\n"
      ],
      "text/plain": [
       "\u001b[1mModel: \"sequential_4\"\u001b[0m\n"
      ]
     },
     "metadata": {},
     "output_type": "display_data"
    },
    {
     "data": {
      "text/html": [
       "<pre style=\"white-space:pre;overflow-x:auto;line-height:normal;font-family:Menlo,'DejaVu Sans Mono',consolas,'Courier New',monospace\">┏━━━━━━━━━━━━━━━━━━━━━━━━━━━━━━━━━┳━━━━━━━━━━━━━━━━━━━━━━━━┳━━━━━━━━━━━━━━━┓\n",
       "┃<span style=\"font-weight: bold\"> Layer (type)                    </span>┃<span style=\"font-weight: bold\"> Output Shape           </span>┃<span style=\"font-weight: bold\">       Param # </span>┃\n",
       "┡━━━━━━━━━━━━━━━━━━━━━━━━━━━━━━━━━╇━━━━━━━━━━━━━━━━━━━━━━━━╇━━━━━━━━━━━━━━━┩\n",
       "│ dense_24 (<span style=\"color: #0087ff; text-decoration-color: #0087ff\">Dense</span>)                │ (<span style=\"color: #00d7ff; text-decoration-color: #00d7ff\">None</span>, <span style=\"color: #00af00; text-decoration-color: #00af00\">64</span>)             │        <span style=\"color: #00af00; text-decoration-color: #00af00\">93,696</span> │\n",
       "├─────────────────────────────────┼────────────────────────┼───────────────┤\n",
       "│ dense_25 (<span style=\"color: #0087ff; text-decoration-color: #0087ff\">Dense</span>)                │ (<span style=\"color: #00d7ff; text-decoration-color: #00d7ff\">None</span>, <span style=\"color: #00af00; text-decoration-color: #00af00\">32</span>)             │         <span style=\"color: #00af00; text-decoration-color: #00af00\">2,080</span> │\n",
       "├─────────────────────────────────┼────────────────────────┼───────────────┤\n",
       "│ dense_26 (<span style=\"color: #0087ff; text-decoration-color: #0087ff\">Dense</span>)                │ (<span style=\"color: #00d7ff; text-decoration-color: #00d7ff\">None</span>, <span style=\"color: #00af00; text-decoration-color: #00af00\">4</span>)              │           <span style=\"color: #00af00; text-decoration-color: #00af00\">132</span> │\n",
       "├─────────────────────────────────┼────────────────────────┼───────────────┤\n",
       "│ dense_27 (<span style=\"color: #0087ff; text-decoration-color: #0087ff\">Dense</span>)                │ (<span style=\"color: #00d7ff; text-decoration-color: #00d7ff\">None</span>, <span style=\"color: #00af00; text-decoration-color: #00af00\">32</span>)             │           <span style=\"color: #00af00; text-decoration-color: #00af00\">160</span> │\n",
       "├─────────────────────────────────┼────────────────────────┼───────────────┤\n",
       "│ dense_28 (<span style=\"color: #0087ff; text-decoration-color: #0087ff\">Dense</span>)                │ (<span style=\"color: #00d7ff; text-decoration-color: #00d7ff\">None</span>, <span style=\"color: #00af00; text-decoration-color: #00af00\">64</span>)             │         <span style=\"color: #00af00; text-decoration-color: #00af00\">2,112</span> │\n",
       "├─────────────────────────────────┼────────────────────────┼───────────────┤\n",
       "│ dense_29 (<span style=\"color: #0087ff; text-decoration-color: #0087ff\">Dense</span>)                │ (<span style=\"color: #00d7ff; text-decoration-color: #00d7ff\">None</span>, <span style=\"color: #00af00; text-decoration-color: #00af00\">1463</span>)           │        <span style=\"color: #00af00; text-decoration-color: #00af00\">95,095</span> │\n",
       "└─────────────────────────────────┴────────────────────────┴───────────────┘\n",
       "</pre>\n"
      ],
      "text/plain": [
       "┏━━━━━━━━━━━━━━━━━━━━━━━━━━━━━━━━━┳━━━━━━━━━━━━━━━━━━━━━━━━┳━━━━━━━━━━━━━━━┓\n",
       "┃\u001b[1m \u001b[0m\u001b[1mLayer (type)                   \u001b[0m\u001b[1m \u001b[0m┃\u001b[1m \u001b[0m\u001b[1mOutput Shape          \u001b[0m\u001b[1m \u001b[0m┃\u001b[1m \u001b[0m\u001b[1m      Param #\u001b[0m\u001b[1m \u001b[0m┃\n",
       "┡━━━━━━━━━━━━━━━━━━━━━━━━━━━━━━━━━╇━━━━━━━━━━━━━━━━━━━━━━━━╇━━━━━━━━━━━━━━━┩\n",
       "│ dense_24 (\u001b[38;5;33mDense\u001b[0m)                │ (\u001b[38;5;45mNone\u001b[0m, \u001b[38;5;34m64\u001b[0m)             │        \u001b[38;5;34m93,696\u001b[0m │\n",
       "├─────────────────────────────────┼────────────────────────┼───────────────┤\n",
       "│ dense_25 (\u001b[38;5;33mDense\u001b[0m)                │ (\u001b[38;5;45mNone\u001b[0m, \u001b[38;5;34m32\u001b[0m)             │         \u001b[38;5;34m2,080\u001b[0m │\n",
       "├─────────────────────────────────┼────────────────────────┼───────────────┤\n",
       "│ dense_26 (\u001b[38;5;33mDense\u001b[0m)                │ (\u001b[38;5;45mNone\u001b[0m, \u001b[38;5;34m4\u001b[0m)              │           \u001b[38;5;34m132\u001b[0m │\n",
       "├─────────────────────────────────┼────────────────────────┼───────────────┤\n",
       "│ dense_27 (\u001b[38;5;33mDense\u001b[0m)                │ (\u001b[38;5;45mNone\u001b[0m, \u001b[38;5;34m32\u001b[0m)             │           \u001b[38;5;34m160\u001b[0m │\n",
       "├─────────────────────────────────┼────────────────────────┼───────────────┤\n",
       "│ dense_28 (\u001b[38;5;33mDense\u001b[0m)                │ (\u001b[38;5;45mNone\u001b[0m, \u001b[38;5;34m64\u001b[0m)             │         \u001b[38;5;34m2,112\u001b[0m │\n",
       "├─────────────────────────────────┼────────────────────────┼───────────────┤\n",
       "│ dense_29 (\u001b[38;5;33mDense\u001b[0m)                │ (\u001b[38;5;45mNone\u001b[0m, \u001b[38;5;34m1463\u001b[0m)           │        \u001b[38;5;34m95,095\u001b[0m │\n",
       "└─────────────────────────────────┴────────────────────────┴───────────────┘\n"
      ]
     },
     "metadata": {},
     "output_type": "display_data"
    },
    {
     "data": {
      "text/html": [
       "<pre style=\"white-space:pre;overflow-x:auto;line-height:normal;font-family:Menlo,'DejaVu Sans Mono',consolas,'Courier New',monospace\"><span style=\"font-weight: bold\"> Total params: </span><span style=\"color: #00af00; text-decoration-color: #00af00\">193,275</span> (754.98 KB)\n",
       "</pre>\n"
      ],
      "text/plain": [
       "\u001b[1m Total params: \u001b[0m\u001b[38;5;34m193,275\u001b[0m (754.98 KB)\n"
      ]
     },
     "metadata": {},
     "output_type": "display_data"
    },
    {
     "data": {
      "text/html": [
       "<pre style=\"white-space:pre;overflow-x:auto;line-height:normal;font-family:Menlo,'DejaVu Sans Mono',consolas,'Courier New',monospace\"><span style=\"font-weight: bold\"> Trainable params: </span><span style=\"color: #00af00; text-decoration-color: #00af00\">193,275</span> (754.98 KB)\n",
       "</pre>\n"
      ],
      "text/plain": [
       "\u001b[1m Trainable params: \u001b[0m\u001b[38;5;34m193,275\u001b[0m (754.98 KB)\n"
      ]
     },
     "metadata": {},
     "output_type": "display_data"
    },
    {
     "data": {
      "text/html": [
       "<pre style=\"white-space:pre;overflow-x:auto;line-height:normal;font-family:Menlo,'DejaVu Sans Mono',consolas,'Courier New',monospace\"><span style=\"font-weight: bold\"> Non-trainable params: </span><span style=\"color: #00af00; text-decoration-color: #00af00\">0</span> (0.00 B)\n",
       "</pre>\n"
      ],
      "text/plain": [
       "\u001b[1m Non-trainable params: \u001b[0m\u001b[38;5;34m0\u001b[0m (0.00 B)\n"
      ]
     },
     "metadata": {},
     "output_type": "display_data"
    }
   ],
   "source": [
    "# create fully connected autoencoder\n",
    "model = keras.Sequential()\n",
    "\n",
    "# input\n",
    "model.add(keras.Input(shape=(1463,))) # features\n",
    "\n",
    "# encoder\n",
    "# hidden layers\n",
    "model.add(layers.Dense(64, activation=\"relu\"))\n",
    "model.add(layers.Dense(32, activation=\"relu\"))\n",
    "\n",
    "# desired dimensions\n",
    "model.add(layers.Dense(4, activation=\"linear\"))\n",
    "\n",
    "# decoder\n",
    "model.add(layers.Dense(32, activation=\"relu\"))\n",
    "model.add(layers.Dense(64, activation=\"relu\"))\n",
    "\n",
    "# Finally, we add last layer\n",
    "model.add(layers.Dense(1463, activation='linear')) # back to the original shape\n",
    "\n",
    "# print model summary\n",
    "model.summary()"
   ]
  },
  {
   "cell_type": "code",
   "execution_count": 105,
   "id": "3af3ca3a-6eaa-48f0-8460-9aa704a5337b",
   "metadata": {},
   "outputs": [],
   "source": [
    "# define list of metrics\n",
    "METRICS = [\n",
    "    keras.metrics.MeanSquaredError(name='mean_squared_error'),\n",
    "    keras.metrics.RootMeanSquaredError(name='root_mean_squared_error'),\n",
    "    keras.metrics.MeanAbsoluteError(name='mean_absolute_error'),\n",
    "]\n",
    "\n",
    "# compile your nn\n",
    "model.compile(\n",
    "    optimizer=keras.optimizers.Adam(learning_rate=0.001),\n",
    "    loss=\"mean_squared_error\",\n",
    "    metrics=METRICS\n",
    ")\n",
    "\n",
    "# set hyperparameters\n",
    "BATCH_SIZE = 32\n",
    "EPOCHS = 30"
   ]
  },
  {
   "cell_type": "code",
   "execution_count": 106,
   "id": "ed3f0c8c-4ab8-441d-8f53-a6ac0e8bcf4d",
   "metadata": {},
   "outputs": [
    {
     "name": "stdout",
     "output_type": "stream",
     "text": [
      "Epoch 1/30\n",
      "\u001b[1m63/63\u001b[0m \u001b[32m━━━━━━━━━━━━━━━━━━━━\u001b[0m\u001b[37m\u001b[0m \u001b[1m1s\u001b[0m 6ms/step - loss: 0.6206 - mean_absolute_error: 0.5976 - mean_squared_error: 0.6206 - root_mean_squared_error: 0.7810 - val_loss: 0.2129 - val_mean_absolute_error: 0.3228 - val_mean_squared_error: 0.2129 - val_root_mean_squared_error: 0.4614\n",
      "Epoch 2/30\n",
      "\u001b[1m63/63\u001b[0m \u001b[32m━━━━━━━━━━━━━━━━━━━━\u001b[0m\u001b[37m\u001b[0m \u001b[1m0s\u001b[0m 4ms/step - loss: 0.2397 - mean_absolute_error: 0.3431 - mean_squared_error: 0.2397 - root_mean_squared_error: 0.4895 - val_loss: 0.1708 - val_mean_absolute_error: 0.2818 - val_mean_squared_error: 0.1708 - val_root_mean_squared_error: 0.4133\n",
      "Epoch 3/30\n",
      "\u001b[1m63/63\u001b[0m \u001b[32m━━━━━━━━━━━━━━━━━━━━\u001b[0m\u001b[37m\u001b[0m \u001b[1m0s\u001b[0m 4ms/step - loss: 0.1919 - mean_absolute_error: 0.2986 - mean_squared_error: 0.1919 - root_mean_squared_error: 0.4380 - val_loss: 0.1528 - val_mean_absolute_error: 0.2631 - val_mean_squared_error: 0.1528 - val_root_mean_squared_error: 0.3909\n",
      "Epoch 4/30\n",
      "\u001b[1m63/63\u001b[0m \u001b[32m━━━━━━━━━━━━━━━━━━━━\u001b[0m\u001b[37m\u001b[0m \u001b[1m0s\u001b[0m 4ms/step - loss: 0.1754 - mean_absolute_error: 0.2834 - mean_squared_error: 0.1754 - root_mean_squared_error: 0.4187 - val_loss: 0.1458 - val_mean_absolute_error: 0.2565 - val_mean_squared_error: 0.1458 - val_root_mean_squared_error: 0.3818\n",
      "Epoch 5/30\n",
      "\u001b[1m63/63\u001b[0m \u001b[32m━━━━━━━━━━━━━━━━━━━━\u001b[0m\u001b[37m\u001b[0m \u001b[1m0s\u001b[0m 4ms/step - loss: 0.1667 - mean_absolute_error: 0.2754 - mean_squared_error: 0.1667 - root_mean_squared_error: 0.4082 - val_loss: 0.1362 - val_mean_absolute_error: 0.2473 - val_mean_squared_error: 0.1362 - val_root_mean_squared_error: 0.3691\n",
      "Epoch 6/30\n",
      "\u001b[1m63/63\u001b[0m \u001b[32m━━━━━━━━━━━━━━━━━━━━\u001b[0m\u001b[37m\u001b[0m \u001b[1m0s\u001b[0m 4ms/step - loss: 0.1574 - mean_absolute_error: 0.2673 - mean_squared_error: 0.1574 - root_mean_squared_error: 0.3966 - val_loss: 0.1279 - val_mean_absolute_error: 0.2380 - val_mean_squared_error: 0.1279 - val_root_mean_squared_error: 0.3576\n",
      "Epoch 7/30\n",
      "\u001b[1m63/63\u001b[0m \u001b[32m━━━━━━━━━━━━━━━━━━━━\u001b[0m\u001b[37m\u001b[0m \u001b[1m0s\u001b[0m 4ms/step - loss: 0.1506 - mean_absolute_error: 0.2608 - mean_squared_error: 0.1506 - root_mean_squared_error: 0.3880 - val_loss: 0.1235 - val_mean_absolute_error: 0.2325 - val_mean_squared_error: 0.1235 - val_root_mean_squared_error: 0.3515\n",
      "Epoch 8/30\n",
      "\u001b[1m63/63\u001b[0m \u001b[32m━━━━━━━━━━━━━━━━━━━━\u001b[0m\u001b[37m\u001b[0m \u001b[1m0s\u001b[0m 4ms/step - loss: 0.1476 - mean_absolute_error: 0.2580 - mean_squared_error: 0.1476 - root_mean_squared_error: 0.3841 - val_loss: 0.1225 - val_mean_absolute_error: 0.2316 - val_mean_squared_error: 0.1225 - val_root_mean_squared_error: 0.3501\n",
      "Epoch 9/30\n",
      "\u001b[1m63/63\u001b[0m \u001b[32m━━━━━━━━━━━━━━━━━━━━\u001b[0m\u001b[37m\u001b[0m \u001b[1m0s\u001b[0m 4ms/step - loss: 0.1459 - mean_absolute_error: 0.2557 - mean_squared_error: 0.1459 - root_mean_squared_error: 0.3818 - val_loss: 0.1221 - val_mean_absolute_error: 0.2310 - val_mean_squared_error: 0.1221 - val_root_mean_squared_error: 0.3494\n",
      "Epoch 10/30\n",
      "\u001b[1m63/63\u001b[0m \u001b[32m━━━━━━━━━━━━━━━━━━━━\u001b[0m\u001b[37m\u001b[0m \u001b[1m0s\u001b[0m 4ms/step - loss: 0.1454 - mean_absolute_error: 0.2557 - mean_squared_error: 0.1454 - root_mean_squared_error: 0.3813 - val_loss: 0.1225 - val_mean_absolute_error: 0.2309 - val_mean_squared_error: 0.1225 - val_root_mean_squared_error: 0.3499\n",
      "Epoch 11/30\n",
      "\u001b[1m63/63\u001b[0m \u001b[32m━━━━━━━━━━━━━━━━━━━━\u001b[0m\u001b[37m\u001b[0m \u001b[1m0s\u001b[0m 4ms/step - loss: 0.1447 - mean_absolute_error: 0.2549 - mean_squared_error: 0.1447 - root_mean_squared_error: 0.3804 - val_loss: 0.1211 - val_mean_absolute_error: 0.2296 - val_mean_squared_error: 0.1211 - val_root_mean_squared_error: 0.3479\n",
      "Epoch 12/30\n",
      "\u001b[1m63/63\u001b[0m \u001b[32m━━━━━━━━━━━━━━━━━━━━\u001b[0m\u001b[37m\u001b[0m \u001b[1m0s\u001b[0m 4ms/step - loss: 0.1436 - mean_absolute_error: 0.2539 - mean_squared_error: 0.1436 - root_mean_squared_error: 0.3789 - val_loss: 0.1208 - val_mean_absolute_error: 0.2294 - val_mean_squared_error: 0.1208 - val_root_mean_squared_error: 0.3475\n",
      "Epoch 13/30\n",
      "\u001b[1m63/63\u001b[0m \u001b[32m━━━━━━━━━━━━━━━━━━━━\u001b[0m\u001b[37m\u001b[0m \u001b[1m0s\u001b[0m 4ms/step - loss: 0.1430 - mean_absolute_error: 0.2534 - mean_squared_error: 0.1430 - root_mean_squared_error: 0.3781 - val_loss: 0.1204 - val_mean_absolute_error: 0.2289 - val_mean_squared_error: 0.1204 - val_root_mean_squared_error: 0.3470\n",
      "Epoch 14/30\n",
      "\u001b[1m63/63\u001b[0m \u001b[32m━━━━━━━━━━━━━━━━━━━━\u001b[0m\u001b[37m\u001b[0m \u001b[1m0s\u001b[0m 4ms/step - loss: 0.1426 - mean_absolute_error: 0.2531 - mean_squared_error: 0.1426 - root_mean_squared_error: 0.3775 - val_loss: 0.1208 - val_mean_absolute_error: 0.2295 - val_mean_squared_error: 0.1208 - val_root_mean_squared_error: 0.3476\n",
      "Epoch 15/30\n",
      "\u001b[1m63/63\u001b[0m \u001b[32m━━━━━━━━━━━━━━━━━━━━\u001b[0m\u001b[37m\u001b[0m \u001b[1m0s\u001b[0m 4ms/step - loss: 0.1428 - mean_absolute_error: 0.2539 - mean_squared_error: 0.1428 - root_mean_squared_error: 0.3778 - val_loss: 0.1208 - val_mean_absolute_error: 0.2302 - val_mean_squared_error: 0.1208 - val_root_mean_squared_error: 0.3475\n",
      "Epoch 16/30\n",
      "\u001b[1m63/63\u001b[0m \u001b[32m━━━━━━━━━━━━━━━━━━━━\u001b[0m\u001b[37m\u001b[0m \u001b[1m0s\u001b[0m 4ms/step - loss: 0.1429 - mean_absolute_error: 0.2541 - mean_squared_error: 0.1429 - root_mean_squared_error: 0.3779 - val_loss: 0.1219 - val_mean_absolute_error: 0.2312 - val_mean_squared_error: 0.1219 - val_root_mean_squared_error: 0.3492\n",
      "Epoch 17/30\n",
      "\u001b[1m63/63\u001b[0m \u001b[32m━━━━━━━━━━━━━━━━━━━━\u001b[0m\u001b[37m\u001b[0m \u001b[1m0s\u001b[0m 4ms/step - loss: 0.1428 - mean_absolute_error: 0.2541 - mean_squared_error: 0.1428 - root_mean_squared_error: 0.3778 - val_loss: 0.1205 - val_mean_absolute_error: 0.2294 - val_mean_squared_error: 0.1205 - val_root_mean_squared_error: 0.3472\n",
      "Epoch 18/30\n",
      "\u001b[1m63/63\u001b[0m \u001b[32m━━━━━━━━━━━━━━━━━━━━\u001b[0m\u001b[37m\u001b[0m \u001b[1m0s\u001b[0m 4ms/step - loss: 0.1425 - mean_absolute_error: 0.2537 - mean_squared_error: 0.1425 - root_mean_squared_error: 0.3774 - val_loss: 0.1207 - val_mean_absolute_error: 0.2303 - val_mean_squared_error: 0.1207 - val_root_mean_squared_error: 0.3474\n",
      "Epoch 19/30\n",
      "\u001b[1m63/63\u001b[0m \u001b[32m━━━━━━━━━━━━━━━━━━━━\u001b[0m\u001b[37m\u001b[0m \u001b[1m0s\u001b[0m 4ms/step - loss: 0.1418 - mean_absolute_error: 0.2531 - mean_squared_error: 0.1418 - root_mean_squared_error: 0.3766 - val_loss: 0.1205 - val_mean_absolute_error: 0.2300 - val_mean_squared_error: 0.1205 - val_root_mean_squared_error: 0.3471\n",
      "Epoch 20/30\n",
      "\u001b[1m63/63\u001b[0m \u001b[32m━━━━━━━━━━━━━━━━━━━━\u001b[0m\u001b[37m\u001b[0m \u001b[1m0s\u001b[0m 4ms/step - loss: 0.1410 - mean_absolute_error: 0.2525 - mean_squared_error: 0.1410 - root_mean_squared_error: 0.3754 - val_loss: 0.1197 - val_mean_absolute_error: 0.2290 - val_mean_squared_error: 0.1197 - val_root_mean_squared_error: 0.3460\n",
      "Epoch 21/30\n",
      "\u001b[1m63/63\u001b[0m \u001b[32m━━━━━━━━━━━━━━━━━━━━\u001b[0m\u001b[37m\u001b[0m \u001b[1m0s\u001b[0m 4ms/step - loss: 0.1405 - mean_absolute_error: 0.2521 - mean_squared_error: 0.1405 - root_mean_squared_error: 0.3747 - val_loss: 0.1200 - val_mean_absolute_error: 0.2292 - val_mean_squared_error: 0.1200 - val_root_mean_squared_error: 0.3464\n",
      "Epoch 22/30\n",
      "\u001b[1m63/63\u001b[0m \u001b[32m━━━━━━━━━━━━━━━━━━━━\u001b[0m\u001b[37m\u001b[0m \u001b[1m0s\u001b[0m 4ms/step - loss: 0.1400 - mean_absolute_error: 0.2516 - mean_squared_error: 0.1400 - root_mean_squared_error: 0.3741 - val_loss: 0.1194 - val_mean_absolute_error: 0.2288 - val_mean_squared_error: 0.1194 - val_root_mean_squared_error: 0.3455\n",
      "Epoch 23/30\n",
      "\u001b[1m63/63\u001b[0m \u001b[32m━━━━━━━━━━━━━━━━━━━━\u001b[0m\u001b[37m\u001b[0m \u001b[1m0s\u001b[0m 4ms/step - loss: 0.1395 - mean_absolute_error: 0.2512 - mean_squared_error: 0.1395 - root_mean_squared_error: 0.3734 - val_loss: 0.1199 - val_mean_absolute_error: 0.2294 - val_mean_squared_error: 0.1199 - val_root_mean_squared_error: 0.3462\n",
      "Epoch 24/30\n",
      "\u001b[1m63/63\u001b[0m \u001b[32m━━━━━━━━━━━━━━━━━━━━\u001b[0m\u001b[37m\u001b[0m \u001b[1m0s\u001b[0m 4ms/step - loss: 0.1394 - mean_absolute_error: 0.2512 - mean_squared_error: 0.1394 - root_mean_squared_error: 0.3733 - val_loss: 0.1199 - val_mean_absolute_error: 0.2295 - val_mean_squared_error: 0.1199 - val_root_mean_squared_error: 0.3462\n",
      "Epoch 25/30\n",
      "\u001b[1m63/63\u001b[0m \u001b[32m━━━━━━━━━━━━━━━━━━━━\u001b[0m\u001b[37m\u001b[0m \u001b[1m0s\u001b[0m 4ms/step - loss: 0.1393 - mean_absolute_error: 0.2514 - mean_squared_error: 0.1393 - root_mean_squared_error: 0.3732 - val_loss: 0.1204 - val_mean_absolute_error: 0.2298 - val_mean_squared_error: 0.1204 - val_root_mean_squared_error: 0.3470\n",
      "Epoch 26/30\n",
      "\u001b[1m63/63\u001b[0m \u001b[32m━━━━━━━━━━━━━━━━━━━━\u001b[0m\u001b[37m\u001b[0m \u001b[1m0s\u001b[0m 4ms/step - loss: 0.1395 - mean_absolute_error: 0.2521 - mean_squared_error: 0.1395 - root_mean_squared_error: 0.3734 - val_loss: 0.1195 - val_mean_absolute_error: 0.2291 - val_mean_squared_error: 0.1195 - val_root_mean_squared_error: 0.3457\n",
      "Epoch 27/30\n",
      "\u001b[1m63/63\u001b[0m \u001b[32m━━━━━━━━━━━━━━━━━━━━\u001b[0m\u001b[37m\u001b[0m \u001b[1m0s\u001b[0m 4ms/step - loss: 0.1388 - mean_absolute_error: 0.2511 - mean_squared_error: 0.1388 - root_mean_squared_error: 0.3725 - val_loss: 0.1199 - val_mean_absolute_error: 0.2297 - val_mean_squared_error: 0.1199 - val_root_mean_squared_error: 0.3462\n",
      "Epoch 28/30\n",
      "\u001b[1m63/63\u001b[0m \u001b[32m━━━━━━━━━━━━━━━━━━━━\u001b[0m\u001b[37m\u001b[0m \u001b[1m0s\u001b[0m 4ms/step - loss: 0.1388 - mean_absolute_error: 0.2516 - mean_squared_error: 0.1388 - root_mean_squared_error: 0.3726 - val_loss: 0.1215 - val_mean_absolute_error: 0.2313 - val_mean_squared_error: 0.1215 - val_root_mean_squared_error: 0.3486\n",
      "Epoch 29/30\n",
      "\u001b[1m63/63\u001b[0m \u001b[32m━━━━━━━━━━━━━━━━━━━━\u001b[0m\u001b[37m\u001b[0m \u001b[1m0s\u001b[0m 4ms/step - loss: 0.1391 - mean_absolute_error: 0.2520 - mean_squared_error: 0.1391 - root_mean_squared_error: 0.3729 - val_loss: 0.1207 - val_mean_absolute_error: 0.2308 - val_mean_squared_error: 0.1207 - val_root_mean_squared_error: 0.3475\n",
      "Epoch 30/30\n",
      "\u001b[1m63/63\u001b[0m \u001b[32m━━━━━━━━━━━━━━━━━━━━\u001b[0m\u001b[37m\u001b[0m \u001b[1m0s\u001b[0m 4ms/step - loss: 0.1395 - mean_absolute_error: 0.2525 - mean_squared_error: 0.1395 - root_mean_squared_error: 0.3734 - val_loss: 0.1207 - val_mean_absolute_error: 0.2310 - val_mean_squared_error: 0.1207 - val_root_mean_squared_error: 0.3474\n"
     ]
    }
   ],
   "source": [
    "# train the NN now\n",
    "history = model.fit(\n",
    "    x=X_train,\n",
    "    y=y_train,\n",
    "    batch_size=BATCH_SIZE,\n",
    "    epochs=EPOCHS,\n",
    "    validation_split=0.1,\n",
    "    shuffle=True,\n",
    ")"
   ]
  },
  {
   "cell_type": "code",
   "execution_count": 107,
   "id": "02bc602b-6bd8-4943-9b1d-02f69c07d014",
   "metadata": {},
   "outputs": [
    {
     "data": {
      "image/png": "[encoded data removed]",
      "text/plain": [
       "<Figure size 640x480 with 1 Axes>"
      ]
     },
     "metadata": {},
     "output_type": "display_data"
    }
   ],
   "source": [
    "# visualize training and validation curves\n",
    "plt.plot(history.history[\"mean_squared_error\"], c='k', label='training')\n",
    "plt.plot(history.history[\"val_mean_squared_error\"], c='r', label='validation')\n",
    "plt.legend()\n",
    "plt.show()"
   ]
  },
  {
   "cell_type": "code",
   "execution_count": 108,
   "id": "6e0e6a13-0e9a-4343-b21d-d7898d6f3b9a",
   "metadata": {},
   "outputs": [
    {
     "data": {
      "image/png": "[encoded data removed]",
      "text/plain": [
       "<Figure size 640x480 with 1 Axes>"
      ]
     },
     "metadata": {},
     "output_type": "display_data"
    }
   ],
   "source": [
    "# visualize training and validation curves\n",
    "plt.plot(history.history[\"mean_absolute_error\"], c='k')\n",
    "plt.plot(history.history[\"val_mean_absolute_error\"], c='r')\n",
    "plt.show()"
   ]
  },
  {
   "cell_type": "code",
   "execution_count": 109,
   "id": "a22dd3fc-e16f-4011-baa0-90b93e3a4d63",
   "metadata": {},
   "outputs": [
    {
     "name": "stdout",
     "output_type": "stream",
     "text": [
      "\u001b[1m30/30\u001b[0m \u001b[32m━━━━━━━━━━━━━━━━━━━━\u001b[0m\u001b[37m\u001b[0m \u001b[1m0s\u001b[0m 2ms/step \n"
     ]
    }
   ],
   "source": [
    "# evaluation mode\n",
    "y_pred = model.predict(X_test)"
   ]
  },
  {
   "cell_type": "code",
   "execution_count": 110,
   "id": "d31909a9-8850-4c96-b997-a19fa3884f4e",
   "metadata": {},
   "outputs": [
    {
     "data": {
      "text/plain": [
       "(951, 1463)"
      ]
     },
     "execution_count": 110,
     "metadata": {},
     "output_type": "execute_result"
    }
   ],
   "source": [
    "# check prediction shape matches test data shape\n",
    "y_pred.shape"
   ]
  },
  {
   "cell_type": "code",
   "execution_count": 111,
   "id": "e2017a8e-bb1c-4866-88a0-e1e13bb4672f",
   "metadata": {},
   "outputs": [
    {
     "data": {
      "text/plain": [
       "(951, 1463)"
      ]
     },
     "execution_count": 111,
     "metadata": {},
     "output_type": "execute_result"
    }
   ],
   "source": [
    "y_test.shape"
   ]
  },
  {
   "cell_type": "code",
   "execution_count": 112,
   "id": "9f8cde27-3652-48d2-adcf-66f1d5c98175",
   "metadata": {},
   "outputs": [
    {
     "data": {
      "image/png": "[encoded data removed]",
      "text/plain": [
       "<Figure size 640x480 with 1 Axes>"
      ]
     },
     "metadata": {},
     "output_type": "display_data"
    }
   ],
   "source": [
    "# visualize obs (x-axis) to nn predictions (y-axis)\n",
    "plt.scatter(y_test[100,:], y_pred[100,:])\n",
    "plt.xlim([-2,6])\n",
    "plt.ylim([-2,6])\n",
    "plt.show()"
   ]
  },
  {
   "cell_type": "code",
   "execution_count": 113,
   "id": "dbeea5d9-531f-4a31-904e-5aba7b967236",
   "metadata": {},
   "outputs": [],
   "source": [
    "# we define the input layer to the ANN and the output of the bottleneck layer\n",
    "bottleneck = tf.keras.Model(\n",
    "    inputs=model.layers[0].input,\n",
    "    outputs=model.layers[2].output\n",
    "    )"
   ]
  },
  {
   "cell_type": "code",
   "execution_count": 114,
   "id": "04c84a22-6ea1-45b1-a31d-6b9ba343d304",
   "metadata": {},
   "outputs": [],
   "source": [
    "# input test data into the bottleneck function\n",
    "bottleneck_output = bottleneck(X_test)"
   ]
  },
  {
   "cell_type": "code",
   "execution_count": 115,
   "id": "35df20a9-57a9-4561-8193-2396b5ec81d8",
   "metadata": {},
   "outputs": [
    {
     "data": {
      "text/plain": [
       "(951, 1463)"
      ]
     },
     "execution_count": 115,
     "metadata": {},
     "output_type": "execute_result"
    }
   ],
   "source": [
    "X_test.shape"
   ]
  },
  {
   "cell_type": "code",
   "execution_count": 116,
   "id": "f1e7c727-25be-44cd-b4f7-4003e892d739",
   "metadata": {},
   "outputs": [
    {
     "data": {
      "text/plain": [
       "TensorShape([951, 4])"
      ]
     },
     "execution_count": 116,
     "metadata": {},
     "output_type": "execute_result"
    }
   ],
   "source": [
    "bottleneck_output.shape"
   ]
  },
  {
   "cell_type": "code",
   "execution_count": 117,
   "id": "18b57b27-2a20-4dfd-b1e3-696551c7e2c2",
   "metadata": {},
   "outputs": [
    {
     "data": {
      "image/png": "[encoded data removed]",
      "text/plain": [
       "<Figure size 640x480 with 1 Axes>"
      ]
     },
     "metadata": {},
     "output_type": "display_data"
    }
   ],
   "source": [
    "# we can visualize what these two nodes in the bottleneck output\n",
    "plt.scatter(bottleneck_output[:,0],bottleneck_output[:,1])\n",
    "plt.show()"
   ]
  },
  {
   "cell_type": "code",
   "execution_count": null,
   "id": "13069759-d45d-4dd2-80ed-891b712432e5",
   "metadata": {},
   "outputs": [],
   "source": []
  }
 ],
 "metadata": {
  "kernelspec": {
   "display_name": "Python 3",
   "language": "python",
   "name": "python3"
  },
  "language_info": {
   "codemirror_mode": {
    "name": "ipython",
    "version": 3
   },
   "file_extension": ".py",
   "mimetype": "text/x-python",
   "name": "python",
   "nbconvert_exporter": "python",
   "pygments_lexer": "ipython3",
   "version": "3.12.8"
  }
 },
 "nbformat": 4,
 "nbformat_minor": 5
}
