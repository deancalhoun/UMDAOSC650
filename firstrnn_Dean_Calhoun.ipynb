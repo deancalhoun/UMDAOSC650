{
  "cells": [
    {
      "cell_type": "markdown",
      "metadata": {
        "colab_type": "text",
        "id": "view-in-github"
      },
      "source": [
        "<a href=\"https://colab.research.google.com/github/mariajmolina/UMDAOSC650/blob/main/firstrnn.ipynb\" target=\"_parent\"><img src=\"https://colab.research.google.com/assets/colab-badge.svg\" alt=\"Open In Colab\"/></a>"
      ]
    },
    {
      "cell_type": "markdown",
      "metadata": {
        "id": "2wbxelrgNBGe"
      },
      "source": [
        "# LSTM\n",
        "\n",
        "An example using ONI (Oceanic Nino Index).\n",
        "\n",
        "Let's predict a future ONI value using four previous values.\n",
        "\n",
        "First, we will tackle a Many (4 input time steps) to One (1 future time step) framework.\n",
        "\n",
        "Second, we will tackle a Many (4 input time steps) to Many (Y future time steps) framework. The Many-to-Many framework does not need to be Tx==Ty (but can be)."
      ]
    },
    {
      "cell_type": "code",
      "execution_count": 1,
      "metadata": {
        "id": "p-cre9b5l0WQ"
      },
      "outputs": [],
      "source": [
        "import numpy as np\n",
        "import matplotlib.pyplot as plt\n",
        "import pandas as pd\n",
        "from sklearn.preprocessing import MinMaxScaler\n",
        "import keras\n",
        "from keras.models import Sequential\n",
        "from keras.layers import LSTM, Dense, Dropout, Activation, TimeDistributed, RepeatVector\n",
        "#from keras.src.preprocessing.sequence import TimeseriesGenerator # old timeseries generator\n",
        "# from google.colab import drive\n",
        "# drive.mount('/content/drive')"
      ]
    },
    {
      "cell_type": "code",
      "execution_count": 2,
      "metadata": {
        "id": "iKKGgzDJmBMD"
      },
      "outputs": [
        {
          "name": "stderr",
          "output_type": "stream",
          "text": [
            "<>:4: SyntaxWarning: invalid escape sequence '\\s'\n",
            "<>:4: SyntaxWarning: invalid escape sequence '\\s'\n",
            "/var/folders/9g/q0wl89xx10lfrtcbvqg7pd1w0000gr/T/ipykernel_93844/3733794638.py:4: SyntaxWarning: invalid escape sequence '\\s'\n",
            "  sep='\\s+')\n"
          ]
        }
      ],
      "source": [
        "# reading dataset from NOAA\n",
        "dataset = pd.read_csv(\n",
        "    'http://www.cpc.ncep.noaa.gov/data/indices/oni.ascii.txt',\n",
        "    sep='\\s+')"
      ]
    },
    {
      "cell_type": "code",
      "execution_count": 3,
      "metadata": {
        "colab": {
          "base_uri": "https://localhost:8080/",
          "height": 206
        },
        "id": "_lFFxKALqnlb",
        "outputId": "16eea45c-77b2-4d33-c8d0-e072fd71ed98"
      },
      "outputs": [
        {
          "data": {
            "text/html": [
              "<div>\n",
              "<style scoped>\n",
              "    .dataframe tbody tr th:only-of-type {\n",
              "        vertical-align: middle;\n",
              "    }\n",
              "\n",
              "    .dataframe tbody tr th {\n",
              "        vertical-align: top;\n",
              "    }\n",
              "\n",
              "    .dataframe thead th {\n",
              "        text-align: right;\n",
              "    }\n",
              "</style>\n",
              "<table border=\"1\" class=\"dataframe\">\n",
              "  <thead>\n",
              "    <tr style=\"text-align: right;\">\n",
              "      <th></th>\n",
              "      <th>SEAS</th>\n",
              "      <th>YR</th>\n",
              "      <th>TOTAL</th>\n",
              "      <th>ANOM</th>\n",
              "    </tr>\n",
              "  </thead>\n",
              "  <tbody>\n",
              "    <tr>\n",
              "      <th>0</th>\n",
              "      <td>DJF</td>\n",
              "      <td>1950</td>\n",
              "      <td>24.72</td>\n",
              "      <td>-1.53</td>\n",
              "    </tr>\n",
              "    <tr>\n",
              "      <th>1</th>\n",
              "      <td>JFM</td>\n",
              "      <td>1950</td>\n",
              "      <td>25.17</td>\n",
              "      <td>-1.34</td>\n",
              "    </tr>\n",
              "    <tr>\n",
              "      <th>2</th>\n",
              "      <td>FMA</td>\n",
              "      <td>1950</td>\n",
              "      <td>25.75</td>\n",
              "      <td>-1.16</td>\n",
              "    </tr>\n",
              "    <tr>\n",
              "      <th>3</th>\n",
              "      <td>MAM</td>\n",
              "      <td>1950</td>\n",
              "      <td>26.12</td>\n",
              "      <td>-1.18</td>\n",
              "    </tr>\n",
              "    <tr>\n",
              "      <th>4</th>\n",
              "      <td>AMJ</td>\n",
              "      <td>1950</td>\n",
              "      <td>26.32</td>\n",
              "      <td>-1.07</td>\n",
              "    </tr>\n",
              "  </tbody>\n",
              "</table>\n",
              "</div>"
            ],
            "text/plain": [
              "  SEAS    YR  TOTAL  ANOM\n",
              "0  DJF  1950  24.72 -1.53\n",
              "1  JFM  1950  25.17 -1.34\n",
              "2  FMA  1950  25.75 -1.16\n",
              "3  MAM  1950  26.12 -1.18\n",
              "4  AMJ  1950  26.32 -1.07"
            ]
          },
          "execution_count": 3,
          "metadata": {},
          "output_type": "execute_result"
        }
      ],
      "source": [
        "# data features include seasons, year, total SST (C), and ONI (ENSO index)\n",
        "dataset.head()"
      ]
    },
    {
      "cell_type": "code",
      "execution_count": 4,
      "metadata": {
        "colab": {
          "base_uri": "https://localhost:8080/",
          "height": 206
        },
        "id": "ep-nRwNHrnsk",
        "outputId": "5f2649ea-a5a9-476a-ac01-6a714e8dcfba"
      },
      "outputs": [
        {
          "data": {
            "text/html": [
              "<div>\n",
              "<style scoped>\n",
              "    .dataframe tbody tr th:only-of-type {\n",
              "        vertical-align: middle;\n",
              "    }\n",
              "\n",
              "    .dataframe tbody tr th {\n",
              "        vertical-align: top;\n",
              "    }\n",
              "\n",
              "    .dataframe thead th {\n",
              "        text-align: right;\n",
              "    }\n",
              "</style>\n",
              "<table border=\"1\" class=\"dataframe\">\n",
              "  <thead>\n",
              "    <tr style=\"text-align: right;\">\n",
              "      <th></th>\n",
              "      <th>SEAS</th>\n",
              "      <th>YR</th>\n",
              "      <th>TOTAL</th>\n",
              "      <th>ANOM</th>\n",
              "    </tr>\n",
              "  </thead>\n",
              "  <tbody>\n",
              "    <tr>\n",
              "      <th>896</th>\n",
              "      <td>ASO</td>\n",
              "      <td>2024</td>\n",
              "      <td>26.55</td>\n",
              "      <td>-0.21</td>\n",
              "    </tr>\n",
              "    <tr>\n",
              "      <th>897</th>\n",
              "      <td>SON</td>\n",
              "      <td>2024</td>\n",
              "      <td>26.45</td>\n",
              "      <td>-0.26</td>\n",
              "    </tr>\n",
              "    <tr>\n",
              "      <th>898</th>\n",
              "      <td>OND</td>\n",
              "      <td>2024</td>\n",
              "      <td>26.30</td>\n",
              "      <td>-0.37</td>\n",
              "    </tr>\n",
              "    <tr>\n",
              "      <th>899</th>\n",
              "      <td>NDJ</td>\n",
              "      <td>2024</td>\n",
              "      <td>26.09</td>\n",
              "      <td>-0.53</td>\n",
              "    </tr>\n",
              "    <tr>\n",
              "      <th>900</th>\n",
              "      <td>DJF</td>\n",
              "      <td>2025</td>\n",
              "      <td>25.99</td>\n",
              "      <td>-0.64</td>\n",
              "    </tr>\n",
              "  </tbody>\n",
              "</table>\n",
              "</div>"
            ],
            "text/plain": [
              "    SEAS    YR  TOTAL  ANOM\n",
              "896  ASO  2024  26.55 -0.21\n",
              "897  SON  2024  26.45 -0.26\n",
              "898  OND  2024  26.30 -0.37\n",
              "899  NDJ  2024  26.09 -0.53\n",
              "900  DJF  2025  25.99 -0.64"
            ]
          },
          "execution_count": 4,
          "metadata": {},
          "output_type": "execute_result"
        }
      ],
      "source": [
        "dataset.tail()"
      ]
    },
    {
      "cell_type": "code",
      "execution_count": 5,
      "metadata": {
        "id": "5RcTG8sEqmbb"
      },
      "outputs": [],
      "source": [
        "# drop any nans\n",
        "dataset = dataset.dropna(subset=[\"ANOM\"])"
      ]
    },
    {
      "cell_type": "code",
      "execution_count": 6,
      "metadata": {
        "colab": {
          "base_uri": "https://localhost:8080/",
          "height": 300
        },
        "id": "EipN-1z-vGAZ",
        "outputId": "61124e85-4a04-4f17-b6b5-f747509aadcb"
      },
      "outputs": [
        {
          "data": {
            "text/html": [
              "<div>\n",
              "<style scoped>\n",
              "    .dataframe tbody tr th:only-of-type {\n",
              "        vertical-align: middle;\n",
              "    }\n",
              "\n",
              "    .dataframe tbody tr th {\n",
              "        vertical-align: top;\n",
              "    }\n",
              "\n",
              "    .dataframe thead th {\n",
              "        text-align: right;\n",
              "    }\n",
              "</style>\n",
              "<table border=\"1\" class=\"dataframe\">\n",
              "  <thead>\n",
              "    <tr style=\"text-align: right;\">\n",
              "      <th></th>\n",
              "      <th>YR</th>\n",
              "      <th>TOTAL</th>\n",
              "      <th>ANOM</th>\n",
              "    </tr>\n",
              "  </thead>\n",
              "  <tbody>\n",
              "    <tr>\n",
              "      <th>count</th>\n",
              "      <td>901.000000</td>\n",
              "      <td>901.000000</td>\n",
              "      <td>901.000000</td>\n",
              "    </tr>\n",
              "    <tr>\n",
              "      <th>mean</th>\n",
              "      <td>1987.042175</td>\n",
              "      <td>26.904517</td>\n",
              "      <td>0.012908</td>\n",
              "    </tr>\n",
              "    <tr>\n",
              "      <th>std</th>\n",
              "      <td>21.685694</td>\n",
              "      <td>0.943686</td>\n",
              "      <td>0.836209</td>\n",
              "    </tr>\n",
              "    <tr>\n",
              "      <th>min</th>\n",
              "      <td>1950.000000</td>\n",
              "      <td>24.380000</td>\n",
              "      <td>-2.030000</td>\n",
              "    </tr>\n",
              "    <tr>\n",
              "      <th>25%</th>\n",
              "      <td>1968.000000</td>\n",
              "      <td>26.230000</td>\n",
              "      <td>-0.570000</td>\n",
              "    </tr>\n",
              "    <tr>\n",
              "      <th>50%</th>\n",
              "      <td>1987.000000</td>\n",
              "      <td>26.950000</td>\n",
              "      <td>-0.050000</td>\n",
              "    </tr>\n",
              "    <tr>\n",
              "      <th>75%</th>\n",
              "      <td>2006.000000</td>\n",
              "      <td>27.540000</td>\n",
              "      <td>0.530000</td>\n",
              "    </tr>\n",
              "    <tr>\n",
              "      <th>max</th>\n",
              "      <td>2025.000000</td>\n",
              "      <td>29.260000</td>\n",
              "      <td>2.640000</td>\n",
              "    </tr>\n",
              "  </tbody>\n",
              "</table>\n",
              "</div>"
            ],
            "text/plain": [
              "                YR       TOTAL        ANOM\n",
              "count   901.000000  901.000000  901.000000\n",
              "mean   1987.042175   26.904517    0.012908\n",
              "std      21.685694    0.943686    0.836209\n",
              "min    1950.000000   24.380000   -2.030000\n",
              "25%    1968.000000   26.230000   -0.570000\n",
              "50%    1987.000000   26.950000   -0.050000\n",
              "75%    2006.000000   27.540000    0.530000\n",
              "max    2025.000000   29.260000    2.640000"
            ]
          },
          "execution_count": 6,
          "metadata": {},
          "output_type": "execute_result"
        }
      ],
      "source": [
        "# quick stats\n",
        "dataset.describe()"
      ]
    },
    {
      "cell_type": "code",
      "execution_count": 7,
      "metadata": {
        "colab": {
          "base_uri": "https://localhost:8080/",
          "height": 466
        },
        "id": "3QEaavkavtQG",
        "outputId": "9f3f7778-e342-4856-c772-778467f9e902"
      },
      "outputs": [
        {
          "data": {
            "text/plain": [
              "<Axes: xlabel='YR'>"
            ]
          },
          "execution_count": 7,
          "metadata": {},
          "output_type": "execute_result"
        },
        {
          "data": {
            "image/png": "[encoded data removed]",
            "text/plain": [
              "<Figure size 640x480 with 1 Axes>"
            ]
          },
          "metadata": {},
          "output_type": "display_data"
        }
      ],
      "source": [
        "# quick viz\n",
        "# djf only\n",
        "dataset[dataset[\"SEAS\"]==\"DJF\"].plot(\"YR\",\"ANOM\")"
      ]
    },
    {
      "cell_type": "code",
      "execution_count": 8,
      "metadata": {
        "id": "NtRnXk5nwQbP"
      },
      "outputs": [],
      "source": [
        "# train test split by years\n",
        "trainds = dataset[dataset[\"YR\"]<=2010]\n",
        "testsds = dataset[dataset[\"YR\"]>2010]"
      ]
    },
    {
      "cell_type": "code",
      "execution_count": 9,
      "metadata": {
        "id": "_O7iYwVZvEyB"
      },
      "outputs": [],
      "source": [
        "# grab anoms columns (ONI) and reset index\n",
        "# reshape to be (samples, features)\n",
        "# number of features here is just 1 (ONI)\n",
        "trainds = trainds.reset_index(drop=True)[\"ANOM\"].values.reshape(-1, 1)\n",
        "testsds = testsds.reset_index(drop=True)[\"ANOM\"].values.reshape(-1, 1)"
      ]
    },
    {
      "cell_type": "code",
      "execution_count": 10,
      "metadata": {
        "colab": {
          "base_uri": "https://localhost:8080/"
        },
        "id": "-qRzFiAK5oln",
        "outputId": "d81a3389-c1eb-4557-8518-e9d5dca12b24"
      },
      "outputs": [
        {
          "name": "stdout",
          "output_type": "stream",
          "text": [
            "(732, 1) (169, 1)\n"
          ]
        }
      ],
      "source": [
        "# checking shapes -- make sure (samples, features)\n",
        "print(trainds.shape, testsds.shape)"
      ]
    },
    {
      "cell_type": "code",
      "execution_count": 11,
      "metadata": {
        "id": "7S-QdRBHmCjm"
      },
      "outputs": [],
      "source": [
        "# Feature Scaling\n",
        "sc = MinMaxScaler(feature_range=(0,1))"
      ]
    },
    {
      "cell_type": "code",
      "execution_count": 12,
      "metadata": {
        "id": "a6M2k9RF8cXZ"
      },
      "outputs": [],
      "source": [
        "# do rescaling\n",
        "trainds_scaled = sc.fit_transform(trainds)\n",
        "testsds_scaled = sc.transform(testsds)"
      ]
    },
    {
      "cell_type": "markdown",
      "metadata": {
        "id": "_uUT7O7_6Vj9"
      },
      "source": [
        "# Why do we need a time series generator for RNNs?"
      ]
    },
    {
      "cell_type": "code",
      "execution_count": 17,
      "metadata": {
        "colab": {
          "base_uri": "https://localhost:8080/"
        },
        "id": "oJcgBvaU7w8h",
        "outputId": "12aa1652-9e47-4de3-ab7b-1a22a7d2b3af"
      },
      "outputs": [
        {
          "name": "stdout",
          "output_type": "stream",
          "text": [
            "(96, 1) (96, 1)\n",
            "[[0]\n",
            " [1]\n",
            " [2]\n",
            " [3]]\n",
            "[[4]\n",
            " [5]\n",
            " [6]\n",
            " [7]]\n"
          ]
        }
      ],
      "source": [
        "# for help with data manipulation for time series rnn training; we can use the time series generator from keras\n",
        "\n",
        "# dummy input for understanding\n",
        "data = np.array([[i] for i in range(100)])\n",
        "\n",
        "n_input=4 # the length of the input sequence\n",
        "n_features=1 # the number of features\n",
        "\n",
        "# here we are using the input to predict the next value(s) in the sequence (many-to-one)\n",
        "# in other words, the input and target are the same data source\n",
        "# but we don't have to deal with separating them, the generator does this for us!\n",
        "inpdata = data[:-n_input]\n",
        "outdata = data[n_input:]\n",
        "\n",
        "# check shapes\n",
        "print(inpdata.shape, outdata.shape)\n",
        "print(inpdata[:4])\n",
        "print(outdata[:4])"
      ]
    },
    {
      "cell_type": "code",
      "execution_count": 14,
      "metadata": {
        "id": "CRzwmFZH6WgX"
      },
      "outputs": [],
      "source": [
        "# For many-to-one, we can set the timeseries generator to have different\n",
        "# data and targets as below\n",
        "data_gen = keras.utils.timeseries_dataset_from_array(\n",
        "    data=inpdata,\n",
        "    targets=outdata,\n",
        "    sequence_length=4, # Length of the data sequences\n",
        "    sequence_stride=5, # Period between successive output sequences\n",
        "    sampling_rate=1,   # Period between successive individual timesteps (problematic if > 1)\n",
        "    batch_size=3,\n",
        "    shuffle=False,\n",
        "    seed=1,\n",
        "    start_index=None,\n",
        "    end_index=None,\n",
        ")"
      ]
    },
    {
      "cell_type": "code",
      "execution_count": 15,
      "metadata": {
        "colab": {
          "base_uri": "https://localhost:8080/"
        },
        "id": "UkB9bRKJEpxC",
        "outputId": "2da84b17-0bc9-45fc-cb22-5bf56578abbb"
      },
      "outputs": [
        {
          "name": "stdout",
          "output_type": "stream",
          "text": [
            "Inputs: [[[ 0]\n",
            "  [ 1]\n",
            "  [ 2]\n",
            "  [ 3]]\n",
            "\n",
            " [[ 5]\n",
            "  [ 6]\n",
            "  [ 7]\n",
            "  [ 8]]\n",
            "\n",
            " [[10]\n",
            "  [11]\n",
            "  [12]\n",
            "  [13]]]\n",
            "Targets: [[ 4]\n",
            " [ 9]\n",
            " [14]]\n"
          ]
        }
      ],
      "source": [
        "for batch in data_gen:\n",
        "  inputs, targets = batch\n",
        "  print(f\"Inputs: {inputs}\")\n",
        "  print(f\"Targets: {targets}\")\n",
        "  break"
      ]
    },
    {
      "cell_type": "code",
      "execution_count": 54,
      "metadata": {
        "id": "HE-A2Y6QDqj1"
      },
      "outputs": [],
      "source": [
        "# For many-to-many, we can set the timeseries generator to have no targets\n",
        "\n",
        "# dummy input for understanding\n",
        "data = np.array([[i] for i in range(100)])\n",
        "\n",
        "# Example 1: Lx = Ly (concurrent output)\n",
        "# sequence_length_inp = 4\n",
        "# sequence_length_out = sequence_length_inp\n",
        "# start_index_out = None\n",
        "# sequence_stride = 1\n",
        "# sampling_rate = 1\n",
        "\n",
        "# Example 2: Lx = Ly (input sequence, wait, output sequence)\n",
        "# sequence_length_inp = 4\n",
        "# sequence_length_out = 3\n",
        "# start_index_out = sequence_length_inp\n",
        "# sequence_stride = 1\n",
        "# sampling_rate = 1\n",
        "\n",
        "# Example 3: Lx = Ly (input sequence and slide output sequence)\n",
        "sequence_length_inp = 4\n",
        "sequence_length_out = sequence_length_inp\n",
        "start_index_out = 1\n",
        "sequence_stride = start_index_out\n",
        "sampling_rate = start_index_out\n",
        "\n",
        "# data generators\n",
        "data_gen_inp = keras.utils.timeseries_dataset_from_array(\n",
        "    data=data,\n",
        "    targets=None,\n",
        "    sequence_length=sequence_length_inp, # Length of the data sequences\n",
        "    sequence_stride=sequence_stride, # Adjust this to slide the output sequence from the input sequence\n",
        "    sampling_rate=sampling_rate,   # Period between successive individual timesteps\n",
        "    batch_size=2,\n",
        "    shuffle=False,\n",
        "    seed=1,\n",
        "    start_index=None,\n",
        "    end_index=None,\n",
        ")\n",
        "\n",
        "data_gen_out = keras.utils.timeseries_dataset_from_array(\n",
        "    data=data,\n",
        "    targets=None,\n",
        "    sequence_length=sequence_length_out, # Length of the data sequences\n",
        "    sequence_stride=sequence_stride, # Adjust this to slide the output sequence from the input sequence\n",
        "    sampling_rate=sampling_rate,   # Period between successive individual timesteps\n",
        "    batch_size=2,\n",
        "    shuffle=False,\n",
        "    seed=1,\n",
        "    start_index=start_index_out,\n",
        "    end_index=None,\n",
        ")"
      ]
    },
    {
      "cell_type": "code",
      "execution_count": 55,
      "metadata": {
        "colab": {
          "base_uri": "https://localhost:8080/"
        },
        "id": "Sy7QLT0UDq0W",
        "outputId": "4017958c-8344-4ca4-e47c-9a06bf7397e9"
      },
      "outputs": [
        {
          "name": "stdout",
          "output_type": "stream",
          "text": [
            "Inputs: [[[0]\n",
            "  [1]\n",
            "  [2]\n",
            "  [3]]\n",
            "\n",
            " [[1]\n",
            "  [2]\n",
            "  [3]\n",
            "  [4]]]\n",
            "Targets: [[[1]\n",
            "  [2]\n",
            "  [3]\n",
            "  [4]]\n",
            "\n",
            " [[2]\n",
            "  [3]\n",
            "  [4]\n",
            "  [5]]]\n"
          ]
        }
      ],
      "source": [
        "# quick check of output\n",
        "for inputs, outputs in zip(data_gen_inp, data_gen_out):\n",
        "  print(f\"Inputs: {inputs}\")\n",
        "  print(f\"Targets: {outputs}\")\n",
        "  break"
      ]
    },
    {
      "cell_type": "markdown",
      "metadata": {
        "id": "_1L5-a5eb3TK"
      },
      "source": [
        "# Many-to-One LSTM\n",
        "(Process one time step at a time and only output the final hidden state)\n",
        "\n",
        "This approach is often used when you are primarily interested in the overall context of the sequence for making a single prediction at the end."
      ]
    },
    {
      "cell_type": "code",
      "execution_count": null,
      "metadata": {
        "id": "zUb6c5liFwG5"
      },
      "outputs": [],
      "source": [
        "# the length of the input feature\n",
        "n_input = 4 # you can change this! doesn't HAVE to be 4 months input\n",
        "\n",
        "# here goes our training data\n",
        "inpdata = trainds_scaled[:-n_input]\n",
        "outdata = trainds_scaled[n_input:]\n",
        "\n",
        "n_features = 1\n",
        "BATCHSIZE = 16\n",
        "\n",
        "data_gen = keras.utils.timeseries_dataset_from_array(\n",
        "    data=inpdata,\n",
        "    targets=outdata,\n",
        "    sequence_length=4, # Length of the data sequences\n",
        "    sequence_stride=1, # Period between successive output sequences\n",
        "    sampling_rate=1,   # Period between successive individual timesteps (problematic if > 1)\n",
        "    batch_size=BATCHSIZE,\n",
        "    shuffle=True,\n",
        "    seed=1,\n",
        "    start_index=None,\n",
        "    end_index=None,\n",
        ")\n",
        "\n",
        "# generators make using validation_split not possible when training, we need to define one now\n",
        "test_gen = keras.utils.timeseries_dataset_from_array(\n",
        "    data=testsds_scaled[:-n_input],\n",
        "    targets=testsds_scaled[n_input:],\n",
        "    sequence_length=4, # Length of the data sequences\n",
        "    sequence_stride=1, # Period between successive output sequences\n",
        "    sampling_rate=1,   # Period between successive individual timesteps (problematic if > 1)\n",
        "    batch_size=BATCHSIZE,\n",
        "    shuffle=True,\n",
        "    seed=1,\n",
        "    start_index=None,\n",
        "    end_index=None,\n",
        ")"
      ]
    },
    {
      "cell_type": "code",
      "execution_count": 73,
      "metadata": {
        "colab": {
          "base_uri": "https://localhost:8080/"
        },
        "id": "0KThyhWlzXq6",
        "outputId": "86fcb3aa-94ea-4677-a047-1676354c1c94"
      },
      "outputs": [
        {
          "name": "stdout",
          "output_type": "stream",
          "text": [
            "(728, 1) (728, 1) 1\n"
          ]
        }
      ],
      "source": [
        "# check shapes\n",
        "print(inpdata.shape, outdata.shape, n_features)"
      ]
    },
    {
      "cell_type": "code",
      "execution_count": 74,
      "metadata": {
        "colab": {
          "base_uri": "https://localhost:8080/"
        },
        "id": "782yjkdpPG_O",
        "outputId": "e7759871-b24c-453c-821c-237cf1b70221"
      },
      "outputs": [
        {
          "name": "stdout",
          "output_type": "stream",
          "text": [
            "Inputs: [[[0.11286682]\n",
            "  [0.15575621]\n",
            "  [0.19638826]\n",
            "  [0.19187359]]\n",
            "\n",
            " [[0.15575621]\n",
            "  [0.19638826]\n",
            "  [0.19187359]\n",
            "  [0.21670429]]\n",
            "\n",
            " [[0.19638826]\n",
            "  [0.19187359]\n",
            "  [0.21670429]\n",
            "  [0.26636569]]]\n",
            "Targets: [[0.21670429]\n",
            " [0.26636569]\n",
            " [0.33634312]]\n"
          ]
        }
      ],
      "source": [
        "for batch in data_gen:\n",
        "  inputs, targets = batch\n",
        "  print(f\"Inputs: {inputs[0:3]}\")\n",
        "  print(f\"Targets: {targets[0:3]}\")\n",
        "  break"
      ]
    },
    {
      "cell_type": "code",
      "execution_count": 85,
      "metadata": {
        "id": "dCWIVnYxmCau"
      },
      "outputs": [],
      "source": [
        "# many-to-one example\n",
        "# lets make our rnn!\n",
        "regressor = Sequential()\n",
        "\n",
        "# LSTM; input shape is 1 (for one time step at a time)\n",
        "# and n_features which is also 1 for our toy example\n",
        "regressor.add(keras.layers.Input(shape=(1, n_features), batch_size=BATCHSIZE))\n",
        "\n",
        "### NOTE BELOW:\n",
        "# If you want to process the entire sequence at once, change the input\n",
        "# shape above to (4, n_features) while keeping return_sequences=False below.\n",
        "\n",
        "# don't return sequence; just the final hidden state\n",
        "regressor.add(LSTM(units=50, return_sequences=False))\n",
        "\n",
        "# one neuron for output prediction\n",
        "regressor.add(Dense(1))\n",
        "regressor.add(Activation('linear'))\n",
        "\n",
        "# compile model\n",
        "regressor.compile(optimizer='adam', loss='mean_squared_error', metrics=['mse', 'mae'])"
      ]
    },
    {
      "cell_type": "markdown",
      "metadata": {
        "id": "chhKh8LQyKEp"
      },
      "source": [
        "Why Can You Use Different Shapes for the Input Layer?\n",
        "\n",
        "*   Incremental Memory Update (Shape (1, n_features)): This approach allows the LSTM to update its internal state step-by-step, which can be useful if the temporal dependencies are complex and need to be captured gradually (but is less efficient).\n",
        "*   Full Sequence Processing (Shape (4, n_features)): This allows the LSTM to capture dependencies across the entire sequence simultaneously, which can be more efficient and may lead to better performance if the model can effectively use the context, but may not capture gradual dependencies as effectively as processing one step at a time."
      ]
    },
    {
      "cell_type": "code",
      "execution_count": 86,
      "metadata": {
        "colab": {
          "base_uri": "https://localhost:8080/",
          "height": 225
        },
        "id": "h_XxXdklyjV6",
        "outputId": "eccff36b-c9bb-4dc9-9ecb-c17f4bceba0b"
      },
      "outputs": [
        {
          "data": {
            "text/html": [
              "<pre style=\"white-space:pre;overflow-x:auto;line-height:normal;font-family:Menlo,'DejaVu Sans Mono',consolas,'Courier New',monospace\"><span style=\"font-weight: bold\">Model: \"sequential_3\"</span>\n",
              "</pre>\n"
            ],
            "text/plain": [
              "\u001b[1mModel: \"sequential_3\"\u001b[0m\n"
            ]
          },
          "metadata": {},
          "output_type": "display_data"
        },
        {
          "data": {
            "text/html": [
              "<pre style=\"white-space:pre;overflow-x:auto;line-height:normal;font-family:Menlo,'DejaVu Sans Mono',consolas,'Courier New',monospace\">┏━━━━━━━━━━━━━━━━━━━━━━━━━━━━━━━━━┳━━━━━━━━━━━━━━━━━━━━━━━━┳━━━━━━━━━━━━━━━┓\n",
              "┃<span style=\"font-weight: bold\"> Layer (type)                    </span>┃<span style=\"font-weight: bold\"> Output Shape           </span>┃<span style=\"font-weight: bold\">       Param # </span>┃\n",
              "┡━━━━━━━━━━━━━━━━━━━━━━━━━━━━━━━━━╇━━━━━━━━━━━━━━━━━━━━━━━━╇━━━━━━━━━━━━━━━┩\n",
              "│ lstm_3 (<span style=\"color: #0087ff; text-decoration-color: #0087ff\">LSTM</span>)                   │ (<span style=\"color: #00af00; text-decoration-color: #00af00\">16</span>, <span style=\"color: #00af00; text-decoration-color: #00af00\">50</span>)               │        <span style=\"color: #00af00; text-decoration-color: #00af00\">10,400</span> │\n",
              "├─────────────────────────────────┼────────────────────────┼───────────────┤\n",
              "│ dense_3 (<span style=\"color: #0087ff; text-decoration-color: #0087ff\">Dense</span>)                 │ (<span style=\"color: #00af00; text-decoration-color: #00af00\">16</span>, <span style=\"color: #00af00; text-decoration-color: #00af00\">1</span>)                │            <span style=\"color: #00af00; text-decoration-color: #00af00\">51</span> │\n",
              "├─────────────────────────────────┼────────────────────────┼───────────────┤\n",
              "│ activation_3 (<span style=\"color: #0087ff; text-decoration-color: #0087ff\">Activation</span>)       │ (<span style=\"color: #00af00; text-decoration-color: #00af00\">16</span>, <span style=\"color: #00af00; text-decoration-color: #00af00\">1</span>)                │             <span style=\"color: #00af00; text-decoration-color: #00af00\">0</span> │\n",
              "└─────────────────────────────────┴────────────────────────┴───────────────┘\n",
              "</pre>\n"
            ],
            "text/plain": [
              "┏━━━━━━━━━━━━━━━━━━━━━━━━━━━━━━━━━┳━━━━━━━━━━━━━━━━━━━━━━━━┳━━━━━━━━━━━━━━━┓\n",
              "┃\u001b[1m \u001b[0m\u001b[1mLayer (type)                   \u001b[0m\u001b[1m \u001b[0m┃\u001b[1m \u001b[0m\u001b[1mOutput Shape          \u001b[0m\u001b[1m \u001b[0m┃\u001b[1m \u001b[0m\u001b[1m      Param #\u001b[0m\u001b[1m \u001b[0m┃\n",
              "┡━━━━━━━━━━━━━━━━━━━━━━━━━━━━━━━━━╇━━━━━━━━━━━━━━━━━━━━━━━━╇━━━━━━━━━━━━━━━┩\n",
              "│ lstm_3 (\u001b[38;5;33mLSTM\u001b[0m)                   │ (\u001b[38;5;34m16\u001b[0m, \u001b[38;5;34m50\u001b[0m)               │        \u001b[38;5;34m10,400\u001b[0m │\n",
              "├─────────────────────────────────┼────────────────────────┼───────────────┤\n",
              "│ dense_3 (\u001b[38;5;33mDense\u001b[0m)                 │ (\u001b[38;5;34m16\u001b[0m, \u001b[38;5;34m1\u001b[0m)                │            \u001b[38;5;34m51\u001b[0m │\n",
              "├─────────────────────────────────┼────────────────────────┼───────────────┤\n",
              "│ activation_3 (\u001b[38;5;33mActivation\u001b[0m)       │ (\u001b[38;5;34m16\u001b[0m, \u001b[38;5;34m1\u001b[0m)                │             \u001b[38;5;34m0\u001b[0m │\n",
              "└─────────────────────────────────┴────────────────────────┴───────────────┘\n"
            ]
          },
          "metadata": {},
          "output_type": "display_data"
        },
        {
          "data": {
            "text/html": [
              "<pre style=\"white-space:pre;overflow-x:auto;line-height:normal;font-family:Menlo,'DejaVu Sans Mono',consolas,'Courier New',monospace\"><span style=\"font-weight: bold\"> Total params: </span><span style=\"color: #00af00; text-decoration-color: #00af00\">10,451</span> (40.82 KB)\n",
              "</pre>\n"
            ],
            "text/plain": [
              "\u001b[1m Total params: \u001b[0m\u001b[38;5;34m10,451\u001b[0m (40.82 KB)\n"
            ]
          },
          "metadata": {},
          "output_type": "display_data"
        },
        {
          "data": {
            "text/html": [
              "<pre style=\"white-space:pre;overflow-x:auto;line-height:normal;font-family:Menlo,'DejaVu Sans Mono',consolas,'Courier New',monospace\"><span style=\"font-weight: bold\"> Trainable params: </span><span style=\"color: #00af00; text-decoration-color: #00af00\">10,451</span> (40.82 KB)\n",
              "</pre>\n"
            ],
            "text/plain": [
              "\u001b[1m Trainable params: \u001b[0m\u001b[38;5;34m10,451\u001b[0m (40.82 KB)\n"
            ]
          },
          "metadata": {},
          "output_type": "display_data"
        },
        {
          "data": {
            "text/html": [
              "<pre style=\"white-space:pre;overflow-x:auto;line-height:normal;font-family:Menlo,'DejaVu Sans Mono',consolas,'Courier New',monospace\"><span style=\"font-weight: bold\"> Non-trainable params: </span><span style=\"color: #00af00; text-decoration-color: #00af00\">0</span> (0.00 B)\n",
              "</pre>\n"
            ],
            "text/plain": [
              "\u001b[1m Non-trainable params: \u001b[0m\u001b[38;5;34m0\u001b[0m (0.00 B)\n"
            ]
          },
          "metadata": {},
          "output_type": "display_data"
        }
      ],
      "source": [
        "# what does graph look like?\n",
        "regressor.summary()"
      ]
    },
    {
      "cell_type": "code",
      "execution_count": 87,
      "metadata": {
        "colab": {
          "base_uri": "https://localhost:8080/"
        },
        "id": "Aue4JDCWyy9L",
        "outputId": "02abd34e-c8ad-4a94-e1cd-a00eecd286e8"
      },
      "outputs": [
        {
          "name": "stdout",
          "output_type": "stream",
          "text": [
            "Epoch 1/20\n",
            "\u001b[1m46/46\u001b[0m \u001b[32m━━━━━━━━━━━━━━━━━━━━\u001b[0m\u001b[37m\u001b[0m \u001b[1m1s\u001b[0m 6ms/step - loss: 0.1667 - mae: 0.3516 - mse: 0.1667 - val_loss: 0.0171 - val_mae: 0.1088 - val_mse: 0.0171\n",
            "Epoch 2/20\n",
            "\u001b[1m46/46\u001b[0m \u001b[32m━━━━━━━━━━━━━━━━━━━━\u001b[0m\u001b[37m\u001b[0m \u001b[1m0s\u001b[0m 4ms/step - loss: 0.0120 - mae: 0.0868 - mse: 0.0120 - val_loss: 0.0132 - val_mae: 0.0922 - val_mse: 0.0132\n",
            "Epoch 3/20\n",
            "\u001b[1m46/46\u001b[0m \u001b[32m━━━━━━━━━━━━━━━━━━━━\u001b[0m\u001b[37m\u001b[0m \u001b[1m0s\u001b[0m 3ms/step - loss: 0.0106 - mae: 0.0801 - mse: 0.0106 - val_loss: 0.0121 - val_mae: 0.0880 - val_mse: 0.0121\n",
            "Epoch 4/20\n",
            "\u001b[1m46/46\u001b[0m \u001b[32m━━━━━━━━━━━━━━━━━━━━\u001b[0m\u001b[37m\u001b[0m \u001b[1m0s\u001b[0m 3ms/step - loss: 0.0100 - mae: 0.0773 - mse: 0.0100 - val_loss: 0.0113 - val_mae: 0.0850 - val_mse: 0.0113\n",
            "Epoch 5/20\n",
            "\u001b[1m46/46\u001b[0m \u001b[32m━━━━━━━━━━━━━━━━━━━━\u001b[0m\u001b[37m\u001b[0m \u001b[1m0s\u001b[0m 3ms/step - loss: 0.0095 - mae: 0.0753 - mse: 0.0095 - val_loss: 0.0108 - val_mae: 0.0829 - val_mse: 0.0108\n",
            "Epoch 6/20\n",
            "\u001b[1m46/46\u001b[0m \u001b[32m━━━━━━━━━━━━━━━━━━━━\u001b[0m\u001b[37m\u001b[0m \u001b[1m0s\u001b[0m 3ms/step - loss: 0.0091 - mae: 0.0740 - mse: 0.0091 - val_loss: 0.0105 - val_mae: 0.0814 - val_mse: 0.0105\n",
            "Epoch 7/20\n",
            "\u001b[1m46/46\u001b[0m \u001b[32m━━━━━━━━━━━━━━━━━━━━\u001b[0m\u001b[37m\u001b[0m \u001b[1m0s\u001b[0m 3ms/step - loss: 0.0089 - mae: 0.0730 - mse: 0.0089 - val_loss: 0.0102 - val_mae: 0.0801 - val_mse: 0.0102\n",
            "Epoch 8/20\n",
            "\u001b[1m46/46\u001b[0m \u001b[32m━━━━━━━━━━━━━━━━━━━━\u001b[0m\u001b[37m\u001b[0m \u001b[1m0s\u001b[0m 3ms/step - loss: 0.0086 - mae: 0.0721 - mse: 0.0086 - val_loss: 0.0099 - val_mae: 0.0790 - val_mse: 0.0099\n",
            "Epoch 9/20\n",
            "\u001b[1m46/46\u001b[0m \u001b[32m━━━━━━━━━━━━━━━━━━━━\u001b[0m\u001b[37m\u001b[0m \u001b[1m0s\u001b[0m 3ms/step - loss: 0.0084 - mae: 0.0712 - mse: 0.0084 - val_loss: 0.0096 - val_mae: 0.0779 - val_mse: 0.0096\n",
            "Epoch 10/20\n",
            "\u001b[1m46/46\u001b[0m \u001b[32m━━━━━━━━━━━━━━━━━━━━\u001b[0m\u001b[37m\u001b[0m \u001b[1m0s\u001b[0m 3ms/step - loss: 0.0081 - mae: 0.0703 - mse: 0.0081 - val_loss: 0.0093 - val_mae: 0.0767 - val_mse: 0.0093\n",
            "Epoch 11/20\n",
            "\u001b[1m46/46\u001b[0m \u001b[32m━━━━━━━━━━━━━━━━━━━━\u001b[0m\u001b[37m\u001b[0m \u001b[1m0s\u001b[0m 3ms/step - loss: 0.0079 - mae: 0.0694 - mse: 0.0079 - val_loss: 0.0090 - val_mae: 0.0755 - val_mse: 0.0090\n",
            "Epoch 12/20\n",
            "\u001b[1m46/46\u001b[0m \u001b[32m━━━━━━━━━━━━━━━━━━━━\u001b[0m\u001b[37m\u001b[0m \u001b[1m0s\u001b[0m 3ms/step - loss: 0.0077 - mae: 0.0683 - mse: 0.0077 - val_loss: 0.0087 - val_mae: 0.0742 - val_mse: 0.0087\n",
            "Epoch 13/20\n",
            "\u001b[1m46/46\u001b[0m \u001b[32m━━━━━━━━━━━━━━━━━━━━\u001b[0m\u001b[37m\u001b[0m \u001b[1m0s\u001b[0m 3ms/step - loss: 0.0074 - mae: 0.0672 - mse: 0.0074 - val_loss: 0.0084 - val_mae: 0.0728 - val_mse: 0.0084\n",
            "Epoch 14/20\n",
            "\u001b[1m46/46\u001b[0m \u001b[32m━━━━━━━━━━━━━━━━━━━━\u001b[0m\u001b[37m\u001b[0m \u001b[1m0s\u001b[0m 3ms/step - loss: 0.0072 - mae: 0.0661 - mse: 0.0072 - val_loss: 0.0080 - val_mae: 0.0714 - val_mse: 0.0080\n",
            "Epoch 15/20\n",
            "\u001b[1m46/46\u001b[0m \u001b[32m━━━━━━━━━━━━━━━━━━━━\u001b[0m\u001b[37m\u001b[0m \u001b[1m0s\u001b[0m 3ms/step - loss: 0.0069 - mae: 0.0649 - mse: 0.0069 - val_loss: 0.0077 - val_mae: 0.0699 - val_mse: 0.0077\n",
            "Epoch 16/20\n",
            "\u001b[1m46/46\u001b[0m \u001b[32m━━━━━━━━━━━━━━━━━━━━\u001b[0m\u001b[37m\u001b[0m \u001b[1m0s\u001b[0m 3ms/step - loss: 0.0066 - mae: 0.0636 - mse: 0.0066 - val_loss: 0.0073 - val_mae: 0.0681 - val_mse: 0.0073\n",
            "Epoch 17/20\n",
            "\u001b[1m46/46\u001b[0m \u001b[32m━━━━━━━━━━━━━━━━━━━━\u001b[0m\u001b[37m\u001b[0m \u001b[1m0s\u001b[0m 3ms/step - loss: 0.0063 - mae: 0.0622 - mse: 0.0063 - val_loss: 0.0068 - val_mae: 0.0662 - val_mse: 0.0068\n",
            "Epoch 18/20\n",
            "\u001b[1m46/46\u001b[0m \u001b[32m━━━━━━━━━━━━━━━━━━━━\u001b[0m\u001b[37m\u001b[0m \u001b[1m0s\u001b[0m 3ms/step - loss: 0.0060 - mae: 0.0607 - mse: 0.0060 - val_loss: 0.0064 - val_mae: 0.0640 - val_mse: 0.0064\n",
            "Epoch 19/20\n",
            "\u001b[1m46/46\u001b[0m \u001b[32m━━━━━━━━━━━━━━━━━━━━\u001b[0m\u001b[37m\u001b[0m \u001b[1m0s\u001b[0m 3ms/step - loss: 0.0056 - mae: 0.0589 - mse: 0.0056 - val_loss: 0.0059 - val_mae: 0.0616 - val_mse: 0.0059\n",
            "Epoch 20/20\n",
            "\u001b[1m46/46\u001b[0m \u001b[32m━━━━━━━━━━━━━━━━━━━━\u001b[0m\u001b[37m\u001b[0m \u001b[1m0s\u001b[0m 3ms/step - loss: 0.0053 - mae: 0.0570 - mse: 0.0053 - val_loss: 0.0053 - val_mae: 0.0587 - val_mse: 0.0053\n"
          ]
        }
      ],
      "source": [
        "# train the lstm!\n",
        "EPOCHS = 20\n",
        "history = regressor.fit(data_gen, epochs=EPOCHS, validation_data=test_gen)"
      ]
    },
    {
      "cell_type": "code",
      "execution_count": 88,
      "metadata": {
        "colab": {
          "base_uri": "https://localhost:8080/",
          "height": 430
        },
        "id": "x3EcKOa8RO_j",
        "outputId": "b3dfb582-f44b-4c83-9db9-4f63226528c6"
      },
      "outputs": [
        {
          "data": {
            "image/png": "[encoded data removed]",
            "text/plain": [
              "<Figure size 640x480 with 1 Axes>"
            ]
          },
          "metadata": {},
          "output_type": "display_data"
        }
      ],
      "source": [
        "plt.plot(range(0,EPOCHS), history.history['loss'], c='k', label='training')\n",
        "plt.plot(range(0,EPOCHS), history.history['val_loss'], c='r', label='validation')\n",
        "plt.legend()\n",
        "plt.show()"
      ]
    },
    {
      "cell_type": "code",
      "execution_count": 89,
      "metadata": {
        "colab": {
          "base_uri": "https://localhost:8080/"
        },
        "id": "yD-8nXD4-rZu",
        "outputId": "2d3c8f9d-1725-44c1-f64b-ea18faae0824"
      },
      "outputs": [
        {
          "name": "stdout",
          "output_type": "stream",
          "text": [
            "Targets: (162, 1)\n"
          ]
        }
      ],
      "source": [
        "data_gen = keras.utils.timeseries_dataset_from_array(\n",
        "    data=inpdata,\n",
        "    targets=outdata,\n",
        "    sequence_length=4, # Length of the data sequences\n",
        "    sequence_stride=1, # Period between successive output sequences\n",
        "    sampling_rate=1,   # Period between successive individual timesteps (problematic if > 1)\n",
        "    batch_size=BATCHSIZE,\n",
        "    shuffle=False,\n",
        "    seed=1,\n",
        "    start_index=None,\n",
        "    end_index=None,\n",
        ")\n",
        "\n",
        "# generators make using validation_split not possible when training, we need to define one now\n",
        "test_gen = keras.utils.timeseries_dataset_from_array(\n",
        "    data=testsds_scaled[:-n_input],\n",
        "    targets=testsds_scaled[n_input:],\n",
        "    sequence_length=4, # Length of the data sequences\n",
        "    sequence_stride=1, # Period between successive output sequences\n",
        "    sampling_rate=1,   # Period between successive individual timesteps (problematic if > 1)\n",
        "    batch_size=len(testsds_scaled[:-n_input]),\n",
        "    shuffle=False,\n",
        "    seed=1,\n",
        "    start_index=None,\n",
        "    end_index=None,\n",
        ")\n",
        "\n",
        "for batch in test_gen:\n",
        "  _, y = batch\n",
        "  print(f\"Targets: {y.shape}\")\n",
        "  break"
      ]
    },
    {
      "cell_type": "code",
      "execution_count": 90,
      "metadata": {
        "colab": {
          "base_uri": "https://localhost:8080/"
        },
        "id": "DPA3UGBsmCXX",
        "outputId": "7a3c1304-f8bc-4662-e473-55a6318fe2fd"
      },
      "outputs": [
        {
          "name": "stdout",
          "output_type": "stream",
          "text": [
            "\u001b[1m1/1\u001b[0m \u001b[32m━━━━━━━━━━━━━━━━━━━━\u001b[0m\u001b[37m\u001b[0m \u001b[1m0s\u001b[0m 132ms/step\n"
          ]
        }
      ],
      "source": [
        "# predict using test data\n",
        "oni_predictions = regressor.predict(test_gen)"
      ]
    },
    {
      "cell_type": "code",
      "execution_count": 91,
      "metadata": {
        "colab": {
          "base_uri": "https://localhost:8080/"
        },
        "id": "dHY10TFu_Hp5",
        "outputId": "5ea9fa4b-17e9-4ffd-f70c-46cb6e39915d"
      },
      "outputs": [
        {
          "name": "stdout",
          "output_type": "stream",
          "text": [
            "(162, 1) (162, 1)\n"
          ]
        }
      ],
      "source": [
        "# quick check that we have a match of shapes\n",
        "print(oni_predictions.shape, y.shape)"
      ]
    },
    {
      "cell_type": "code",
      "execution_count": 92,
      "metadata": {
        "colab": {
          "base_uri": "https://localhost:8080/",
          "height": 435
        },
        "id": "ZPeSf6qzGrd1",
        "outputId": "715945b4-8d99-4024-c149-3b5f71907380"
      },
      "outputs": [
        {
          "data": {
            "image/png": "[encoded data removed]",
            "text/plain": [
              "<Figure size 640x480 with 1 Axes>"
            ]
          },
          "metadata": {},
          "output_type": "display_data"
        }
      ],
      "source": [
        "# how did we do!?\n",
        "plt.scatter(\n",
        "    sc.inverse_transform(y).reshape(-1),\n",
        "    sc.inverse_transform(oni_predictions).reshape(-1)\n",
        "    )\n",
        "plt.xlim([-3,3])\n",
        "plt.ylim([-3,3])\n",
        "plt.plot([-3,3],[-3,3], c='k', ls='--')\n",
        "plt.show()"
      ]
    },
    {
      "cell_type": "markdown",
      "metadata": {
        "id": "ydKfkPRzfuLD"
      },
      "source": [
        "# Many-to-Many LSTM"
      ]
    },
    {
      "cell_type": "code",
      "execution_count": 108,
      "metadata": {
        "id": "HyKsK1p2frBp"
      },
      "outputs": [
        {
          "name": "stderr",
          "output_type": "stream",
          "text": [
            "<>:6: SyntaxWarning: invalid escape sequence '\\s'\n",
            "<>:6: SyntaxWarning: invalid escape sequence '\\s'\n",
            "/var/folders/9g/q0wl89xx10lfrtcbvqg7pd1w0000gr/T/ipykernel_93844/1373274390.py:6: SyntaxWarning: invalid escape sequence '\\s'\n",
            "  sep='\\s+')\n"
          ]
        }
      ],
      "source": [
        "# redoing data preprocessing steps here more quickly\n",
        "\n",
        "# reading dataset from NOAA online\n",
        "dataset = pd.read_csv(\n",
        "    'http://www.cpc.ncep.noaa.gov/data/indices/oni.ascii.txt',\n",
        "    sep='\\s+')\n",
        "\n",
        "# drop any nans\n",
        "dataset = dataset.dropna(subset=[\"ANOM\"])\n",
        "\n",
        "# train test split by years\n",
        "trainds = dataset[dataset[\"YR\"]<=2010]\n",
        "testsds = dataset[dataset[\"YR\"]>2010]\n",
        "\n",
        "# grab anoms columns (ONI) and reset index\n",
        "# reshape to be (samples, features)\n",
        "# number of features here is just 1 (ONI)\n",
        "trainds = trainds.reset_index(drop=True)[\"ANOM\"].values.reshape(-1, 1)\n",
        "testsds = testsds.reset_index(drop=True)[\"ANOM\"].values.reshape(-1, 1)\n",
        "\n",
        "# Feature Scaling\n",
        "sc = MinMaxScaler(feature_range=(0,1))\n",
        "\n",
        "# do rescaling\n",
        "trainds_scaled = sc.fit_transform(trainds)\n",
        "testsds_scaled = sc.transform(testsds)"
      ]
    },
    {
      "cell_type": "code",
      "execution_count": 109,
      "metadata": {
        "id": "780eNEwefrJt"
      },
      "outputs": [],
      "source": [
        "inpdata = trainds_scaled\n",
        "outdata = trainds_scaled\n",
        "n_features = 1\n",
        "BATCHSIZE = 16\n",
        "\n",
        "# For many-to-many, we can set the timeseries generator to have no targets\n",
        "\n",
        "# Example1: Lx = Ly (concurrent output)\n",
        "#sequence_length_inp = 4\n",
        "#sequence_length_out = sequence_length_inp\n",
        "#start_index_out = None\n",
        "#sequence_stride = 1\n",
        "#sampling_rate = 1\n",
        "\n",
        "# Example2: Lx = Ly (input sequence, wait, output sequence)\n",
        "sequence_length_inp = 4\n",
        "sequence_length_out = 3\n",
        "start_index_out = sequence_length_inp\n",
        "sequence_stride = 1\n",
        "sampling_rate = 1\n",
        "\n",
        "# Example3: Lx = Ly (input sequence and slide output sequence)\n",
        "#sequence_length_inp = 4\n",
        "#sequence_length_out = sequence_length_inp\n",
        "#start_index_out = 2\n",
        "#sequence_stride = start_index_out\n",
        "#sampling_rate = start_index_out\n",
        "\n",
        "# data generators\n",
        "data_gen_inp = keras.utils.timeseries_dataset_from_array(\n",
        "    data=inpdata,\n",
        "    targets=None,\n",
        "    sequence_length=sequence_length_inp, # Length of the data sequences\n",
        "    sequence_stride=sequence_stride, # Adjust this to slide the output sequence from the input sequence\n",
        "    sampling_rate=sampling_rate,   # Period between successive individual timesteps\n",
        "    batch_size=BATCHSIZE,\n",
        "    shuffle=False,\n",
        "    seed=1,\n",
        "    start_index=None,\n",
        "    end_index=None,\n",
        ")\n",
        "\n",
        "data_gen_out = keras.utils.timeseries_dataset_from_array(\n",
        "    data=outdata,\n",
        "    targets=None,\n",
        "    sequence_length=sequence_length_out, # Length of the data sequences\n",
        "    sequence_stride=sequence_stride, # Adjust this to slide the output sequence from the input sequence\n",
        "    sampling_rate=sampling_rate,   # Period between successive individual timesteps\n",
        "    batch_size=BATCHSIZE,\n",
        "    shuffle=False,\n",
        "    seed=1,\n",
        "    start_index=start_index_out,\n",
        "    end_index=None,\n",
        ")"
      ]
    },
    {
      "cell_type": "code",
      "execution_count": 110,
      "metadata": {
        "colab": {
          "base_uri": "https://localhost:8080/"
        },
        "id": "UFMqsQTdfrM2",
        "outputId": "b16cfc58-c3a0-40f5-a95c-a7a31bccc4fd"
      },
      "outputs": [
        {
          "name": "stdout",
          "output_type": "stream",
          "text": [
            "Inputs: [[[0.11286682]\n",
            "  [0.15575621]\n",
            "  [0.19638826]\n",
            "  [0.19187359]]\n",
            "\n",
            " [[0.15575621]\n",
            "  [0.19638826]\n",
            "  [0.19187359]\n",
            "  [0.21670429]]\n",
            "\n",
            " [[0.19638826]\n",
            "  [0.19187359]\n",
            "  [0.21670429]\n",
            "  [0.26636569]]]\n",
            "Targets: [[[0.21670429]\n",
            "  [0.26636569]\n",
            "  [0.33634312]]\n",
            "\n",
            " [[0.26636569]\n",
            "  [0.33634312]\n",
            "  [0.36343115]]\n",
            "\n",
            " [[0.33634312]\n",
            "  [0.36343115]\n",
            "  [0.37020316]]]\n"
          ]
        }
      ],
      "source": [
        "# quick check of output\n",
        "for inputs, outputs in zip(data_gen_inp, data_gen_out):\n",
        "  print(f\"Inputs: {inputs[:3]}\")\n",
        "  print(f\"Targets: {outputs[:3]}\")\n",
        "  break"
      ]
    },
    {
      "cell_type": "code",
      "execution_count": 111,
      "metadata": {
        "colab": {
          "base_uri": "https://localhost:8080/",
          "height": 289
        },
        "id": "6FVy06vcfrPe",
        "outputId": "fcfa88f1-4793-4cfe-db27-2abd03ad8142"
      },
      "outputs": [
        {
          "data": {
            "text/html": [
              "<pre style=\"white-space:pre;overflow-x:auto;line-height:normal;font-family:Menlo,'DejaVu Sans Mono',consolas,'Courier New',monospace\"><span style=\"font-weight: bold\">Model: \"sequential_5\"</span>\n",
              "</pre>\n"
            ],
            "text/plain": [
              "\u001b[1mModel: \"sequential_5\"\u001b[0m\n"
            ]
          },
          "metadata": {},
          "output_type": "display_data"
        },
        {
          "data": {
            "text/html": [
              "<pre style=\"white-space:pre;overflow-x:auto;line-height:normal;font-family:Menlo,'DejaVu Sans Mono',consolas,'Courier New',monospace\">┏━━━━━━━━━━━━━━━━━━━━━━━━━━━━━━━━━┳━━━━━━━━━━━━━━━━━━━━━━━━┳━━━━━━━━━━━━━━━┓\n",
              "┃<span style=\"font-weight: bold\"> Layer (type)                    </span>┃<span style=\"font-weight: bold\"> Output Shape           </span>┃<span style=\"font-weight: bold\">       Param # </span>┃\n",
              "┡━━━━━━━━━━━━━━━━━━━━━━━━━━━━━━━━━╇━━━━━━━━━━━━━━━━━━━━━━━━╇━━━━━━━━━━━━━━━┩\n",
              "│ lstm_6 (<span style=\"color: #0087ff; text-decoration-color: #0087ff\">LSTM</span>)                   │ (<span style=\"color: #00af00; text-decoration-color: #00af00\">16</span>, <span style=\"color: #00af00; text-decoration-color: #00af00\">50</span>)               │        <span style=\"color: #00af00; text-decoration-color: #00af00\">10,400</span> │\n",
              "├─────────────────────────────────┼────────────────────────┼───────────────┤\n",
              "│ repeat_vector_1 (<span style=\"color: #0087ff; text-decoration-color: #0087ff\">RepeatVector</span>)  │ (<span style=\"color: #00af00; text-decoration-color: #00af00\">16</span>, <span style=\"color: #00af00; text-decoration-color: #00af00\">3</span>, <span style=\"color: #00af00; text-decoration-color: #00af00\">50</span>)            │             <span style=\"color: #00af00; text-decoration-color: #00af00\">0</span> │\n",
              "├─────────────────────────────────┼────────────────────────┼───────────────┤\n",
              "│ lstm_7 (<span style=\"color: #0087ff; text-decoration-color: #0087ff\">LSTM</span>)                   │ (<span style=\"color: #00af00; text-decoration-color: #00af00\">16</span>, <span style=\"color: #00af00; text-decoration-color: #00af00\">3</span>, <span style=\"color: #00af00; text-decoration-color: #00af00\">50</span>)            │        <span style=\"color: #00af00; text-decoration-color: #00af00\">20,200</span> │\n",
              "├─────────────────────────────────┼────────────────────────┼───────────────┤\n",
              "│ time_distributed_1              │ (<span style=\"color: #00af00; text-decoration-color: #00af00\">16</span>, <span style=\"color: #00af00; text-decoration-color: #00af00\">3</span>, <span style=\"color: #00af00; text-decoration-color: #00af00\">1</span>)             │            <span style=\"color: #00af00; text-decoration-color: #00af00\">51</span> │\n",
              "│ (<span style=\"color: #0087ff; text-decoration-color: #0087ff\">TimeDistributed</span>)               │                        │               │\n",
              "├─────────────────────────────────┼────────────────────────┼───────────────┤\n",
              "│ activation_5 (<span style=\"color: #0087ff; text-decoration-color: #0087ff\">Activation</span>)       │ (<span style=\"color: #00af00; text-decoration-color: #00af00\">16</span>, <span style=\"color: #00af00; text-decoration-color: #00af00\">3</span>, <span style=\"color: #00af00; text-decoration-color: #00af00\">1</span>)             │             <span style=\"color: #00af00; text-decoration-color: #00af00\">0</span> │\n",
              "└─────────────────────────────────┴────────────────────────┴───────────────┘\n",
              "</pre>\n"
            ],
            "text/plain": [
              "┏━━━━━━━━━━━━━━━━━━━━━━━━━━━━━━━━━┳━━━━━━━━━━━━━━━━━━━━━━━━┳━━━━━━━━━━━━━━━┓\n",
              "┃\u001b[1m \u001b[0m\u001b[1mLayer (type)                   \u001b[0m\u001b[1m \u001b[0m┃\u001b[1m \u001b[0m\u001b[1mOutput Shape          \u001b[0m\u001b[1m \u001b[0m┃\u001b[1m \u001b[0m\u001b[1m      Param #\u001b[0m\u001b[1m \u001b[0m┃\n",
              "┡━━━━━━━━━━━━━━━━━━━━━━━━━━━━━━━━━╇━━━━━━━━━━━━━━━━━━━━━━━━╇━━━━━━━━━━━━━━━┩\n",
              "│ lstm_6 (\u001b[38;5;33mLSTM\u001b[0m)                   │ (\u001b[38;5;34m16\u001b[0m, \u001b[38;5;34m50\u001b[0m)               │        \u001b[38;5;34m10,400\u001b[0m │\n",
              "├─────────────────────────────────┼────────────────────────┼───────────────┤\n",
              "│ repeat_vector_1 (\u001b[38;5;33mRepeatVector\u001b[0m)  │ (\u001b[38;5;34m16\u001b[0m, \u001b[38;5;34m3\u001b[0m, \u001b[38;5;34m50\u001b[0m)            │             \u001b[38;5;34m0\u001b[0m │\n",
              "├─────────────────────────────────┼────────────────────────┼───────────────┤\n",
              "│ lstm_7 (\u001b[38;5;33mLSTM\u001b[0m)                   │ (\u001b[38;5;34m16\u001b[0m, \u001b[38;5;34m3\u001b[0m, \u001b[38;5;34m50\u001b[0m)            │        \u001b[38;5;34m20,200\u001b[0m │\n",
              "├─────────────────────────────────┼────────────────────────┼───────────────┤\n",
              "│ time_distributed_1              │ (\u001b[38;5;34m16\u001b[0m, \u001b[38;5;34m3\u001b[0m, \u001b[38;5;34m1\u001b[0m)             │            \u001b[38;5;34m51\u001b[0m │\n",
              "│ (\u001b[38;5;33mTimeDistributed\u001b[0m)               │                        │               │\n",
              "├─────────────────────────────────┼────────────────────────┼───────────────┤\n",
              "│ activation_5 (\u001b[38;5;33mActivation\u001b[0m)       │ (\u001b[38;5;34m16\u001b[0m, \u001b[38;5;34m3\u001b[0m, \u001b[38;5;34m1\u001b[0m)             │             \u001b[38;5;34m0\u001b[0m │\n",
              "└─────────────────────────────────┴────────────────────────┴───────────────┘\n"
            ]
          },
          "metadata": {},
          "output_type": "display_data"
        },
        {
          "data": {
            "text/html": [
              "<pre style=\"white-space:pre;overflow-x:auto;line-height:normal;font-family:Menlo,'DejaVu Sans Mono',consolas,'Courier New',monospace\"><span style=\"font-weight: bold\"> Total params: </span><span style=\"color: #00af00; text-decoration-color: #00af00\">30,651</span> (119.73 KB)\n",
              "</pre>\n"
            ],
            "text/plain": [
              "\u001b[1m Total params: \u001b[0m\u001b[38;5;34m30,651\u001b[0m (119.73 KB)\n"
            ]
          },
          "metadata": {},
          "output_type": "display_data"
        },
        {
          "data": {
            "text/html": [
              "<pre style=\"white-space:pre;overflow-x:auto;line-height:normal;font-family:Menlo,'DejaVu Sans Mono',consolas,'Courier New',monospace\"><span style=\"font-weight: bold\"> Trainable params: </span><span style=\"color: #00af00; text-decoration-color: #00af00\">30,651</span> (119.73 KB)\n",
              "</pre>\n"
            ],
            "text/plain": [
              "\u001b[1m Trainable params: \u001b[0m\u001b[38;5;34m30,651\u001b[0m (119.73 KB)\n"
            ]
          },
          "metadata": {},
          "output_type": "display_data"
        },
        {
          "data": {
            "text/html": [
              "<pre style=\"white-space:pre;overflow-x:auto;line-height:normal;font-family:Menlo,'DejaVu Sans Mono',consolas,'Courier New',monospace\"><span style=\"font-weight: bold\"> Non-trainable params: </span><span style=\"color: #00af00; text-decoration-color: #00af00\">0</span> (0.00 B)\n",
              "</pre>\n"
            ],
            "text/plain": [
              "\u001b[1m Non-trainable params: \u001b[0m\u001b[38;5;34m0\u001b[0m (0.00 B)\n"
            ]
          },
          "metadata": {},
          "output_type": "display_data"
        }
      ],
      "source": [
        "# many-to-many encoder-decoder example\n",
        "\n",
        "# lets make our rnn!\n",
        "regressor = Sequential()\n",
        "\n",
        "# LSTM; the encoder stage treats each time step as an individual input\n",
        "regressor.add(\n",
        "    keras.layers.Input(shape=(1, n_features), batch_size=BATCHSIZE)\n",
        "    )\n",
        "\n",
        "# encoder is needed because we are using many to predict future manys\n",
        "# the LSTM layer will only output the final hidden state of the sequence\n",
        "regressor.add(LSTM(units=50, return_sequences=False))\n",
        "\n",
        "# repeat the encoder output to create an input sequence for\n",
        "# the decoder that is of the same length as the desired output sequence\n",
        "regressor.add(RepeatVector(sequence_length_out))\n",
        "\n",
        "# decoder to predict;\n",
        "# In contrast to the encoder, return_sequence is set to True for the decoder\n",
        "# because we want the LSTM to output a prediction at each time step of the output sequence\n",
        "regressor.add(LSTM(units=50, return_sequences=True))\n",
        "\n",
        "# predict 1 value per returned sequence value\n",
        "# TimeDistributed: apply to the output of the LSTM at each time step, allowing it to\n",
        "# make a prediction for each step in the output sequence.\n",
        "regressor.add(TimeDistributed(Dense(1)))\n",
        "regressor.add(Activation('linear'))\n",
        "\n",
        "# compile model\n",
        "regressor.compile(optimizer='adam', loss='mean_squared_error', metrics=['mse', 'mae'])\n",
        "\n",
        "# what does graph look like?\n",
        "regressor.summary()"
      ]
    },
    {
      "cell_type": "code",
      "execution_count": 112,
      "metadata": {
        "id": "Ku-AyPeBqmIp"
      },
      "outputs": [],
      "source": [
        "def combine_generators(gen1, gen2, batch_size_threshold=BATCHSIZE):\n",
        "  \"\"\"Combines two generators into one yielding tuples of (inputs, targets).\"\"\"\n",
        "  # Convert the datasets to iterators using iter()\n",
        "  gen1_iter = iter(gen1)\n",
        "  gen2_iter = iter(gen2)\n",
        "  while True:\n",
        "    try:\n",
        "      x = next(gen1_iter)  # Get the next batch from the first iterator\n",
        "      y = next(gen2_iter)  # Get the next batch from the second iterator\n",
        "\n",
        "      # Check if batch size is below threshold\n",
        "      if x.shape[0] < batch_size_threshold or y.shape[0] < batch_size_threshold:\n",
        "        break  # Stop if batch size is too small\n",
        "\n",
        "      yield x, y  # Yield the combined data\n",
        "    except StopIteration:\n",
        "        # Stop when one of the iterators is exhausted\n",
        "        break"
      ]
    },
    {
      "cell_type": "code",
      "execution_count": 113,
      "metadata": {
        "id": "TXjveufnqtk9"
      },
      "outputs": [],
      "source": [
        "# Combine the input and target data generators\n",
        "train_data_gen = combine_generators(data_gen_inp, data_gen_out)"
      ]
    },
    {
      "cell_type": "code",
      "execution_count": 114,
      "metadata": {
        "colab": {
          "base_uri": "https://localhost:8080/"
        },
        "id": "kaipkME-hYxO",
        "outputId": "2dc84107-c351-4caa-f469-f425b4863492"
      },
      "outputs": [
        {
          "name": "stdout",
          "output_type": "stream",
          "text": [
            "Epoch 1/20\n",
            "\u001b[1m46/46\u001b[0m \u001b[32m━━━━━━━━━━━━━━━━━━━━\u001b[0m\u001b[37m\u001b[0m \u001b[1m2s\u001b[0m 5ms/step - loss: 0.1457 - mae: 0.3326 - mse: 0.1457\n",
            "Epoch 2/20\n",
            "\u001b[1m46/46\u001b[0m \u001b[32m━━━━━━━━━━━━━━━━━━━━\u001b[0m\u001b[37m\u001b[0m \u001b[1m0s\u001b[0m 162us/step - loss: 0.0289 - mae: 0.1368 - mse: 0.0289\n",
            "Epoch 3/20\n",
            "\u001b[1m46/46\u001b[0m \u001b[32m━━━━━━━━━━━━━━━━━━━━\u001b[0m\u001b[37m\u001b[0m \u001b[1m0s\u001b[0m 165us/step - loss: 0.0280 - mae: 0.1345 - mse: 0.0280\n",
            "Epoch 4/20\n",
            "\u001b[1m46/46\u001b[0m \u001b[32m━━━━━━━━━━━━━━━━━━━━\u001b[0m\u001b[37m\u001b[0m \u001b[1m0s\u001b[0m 187us/step - loss: 0.0265 - mae: 0.1305 - mse: 0.0265\n",
            "Epoch 5/20\n",
            "\u001b[1m46/46\u001b[0m \u001b[32m━━━━━━━━━━━━━━━━━━━━\u001b[0m\u001b[37m\u001b[0m \u001b[1m0s\u001b[0m 156us/step - loss: 0.0248 - mae: 0.1260 - mse: 0.0248\n",
            "Epoch 6/20\n",
            "\u001b[1m46/46\u001b[0m \u001b[32m━━━━━━━━━━━━━━━━━━━━\u001b[0m\u001b[37m\u001b[0m \u001b[1m0s\u001b[0m 182us/step - loss: 0.0232 - mae: 0.1226 - mse: 0.0232\n",
            "Epoch 7/20\n",
            "\u001b[1m46/46\u001b[0m \u001b[32m━━━━━━━━━━━━━━━━━━━━\u001b[0m\u001b[37m\u001b[0m \u001b[1m0s\u001b[0m 157us/step - loss: 0.0219 - mae: 0.1206 - mse: 0.0219\n",
            "Epoch 8/20\n",
            "\u001b[1m46/46\u001b[0m \u001b[32m━━━━━━━━━━━━━━━━━━━━\u001b[0m\u001b[37m\u001b[0m \u001b[1m0s\u001b[0m 190us/step - loss: 0.0211 - mae: 0.1190 - mse: 0.0211\n",
            "Epoch 9/20\n"
          ]
        },
        {
          "name": "stderr",
          "output_type": "stream",
          "text": [
            "/Users/dcalhoun/miniforge3/envs/keras-tf-v2025/lib/python3.12/site-packages/keras/src/trainers/epoch_iterator.py:151: UserWarning: Your input ran out of data; interrupting training. Make sure that your dataset or generator can generate at least `steps_per_epoch * epochs` batches. You may need to use the `.repeat()` function when building your dataset.\n",
            "  self._interrupted_warning()\n"
          ]
        },
        {
          "name": "stdout",
          "output_type": "stream",
          "text": [
            "\u001b[1m46/46\u001b[0m \u001b[32m━━━━━━━━━━━━━━━━━━━━\u001b[0m\u001b[37m\u001b[0m \u001b[1m0s\u001b[0m 209us/step - loss: 0.0206 - mae: 0.1181 - mse: 0.0206\n",
            "Epoch 10/20\n",
            "\u001b[1m46/46\u001b[0m \u001b[32m━━━━━━━━━━━━━━━━━━━━\u001b[0m\u001b[37m\u001b[0m \u001b[1m0s\u001b[0m 204us/step - loss: 0.0201 - mae: 0.1168 - mse: 0.0201\n",
            "Epoch 11/20\n",
            "\u001b[1m46/46\u001b[0m \u001b[32m━━━━━━━━━━━━━━━━━━━━\u001b[0m\u001b[37m\u001b[0m \u001b[1m0s\u001b[0m 174us/step - loss: 0.0194 - mae: 0.1149 - mse: 0.0194\n",
            "Epoch 12/20\n",
            "\u001b[1m46/46\u001b[0m \u001b[32m━━━━━━━━━━━━━━━━━━━━\u001b[0m\u001b[37m\u001b[0m \u001b[1m0s\u001b[0m 201us/step - loss: 0.0184 - mae: 0.1123 - mse: 0.0184\n",
            "Epoch 13/20\n",
            "\u001b[1m46/46\u001b[0m \u001b[32m━━━━━━━━━━━━━━━━━━━━\u001b[0m\u001b[37m\u001b[0m \u001b[1m0s\u001b[0m 174us/step - loss: 0.0175 - mae: 0.1093 - mse: 0.0175\n",
            "Epoch 14/20\n",
            "\u001b[1m46/46\u001b[0m \u001b[32m━━━━━━━━━━━━━━━━━━━━\u001b[0m\u001b[37m\u001b[0m \u001b[1m0s\u001b[0m 160us/step - loss: 0.0165 - mae: 0.1065 - mse: 0.0165\n",
            "Epoch 15/20\n",
            "\u001b[1m46/46\u001b[0m \u001b[32m━━━━━━━━━━━━━━━━━━━━\u001b[0m\u001b[37m\u001b[0m \u001b[1m0s\u001b[0m 183us/step - loss: 0.0158 - mae: 0.1037 - mse: 0.0158\n",
            "Epoch 16/20\n",
            "\u001b[1m46/46\u001b[0m \u001b[32m━━━━━━━━━━━━━━━━━━━━\u001b[0m\u001b[37m\u001b[0m \u001b[1m0s\u001b[0m 164us/step - loss: 0.0151 - mae: 0.1012 - mse: 0.0151\n",
            "Epoch 17/20\n",
            "\u001b[1m46/46\u001b[0m \u001b[32m━━━━━━━━━━━━━━━━━━━━\u001b[0m\u001b[37m\u001b[0m \u001b[1m0s\u001b[0m 169us/step - loss: 0.0145 - mae: 0.0991 - mse: 0.0145\n",
            "Epoch 18/20\n",
            "\u001b[1m46/46\u001b[0m \u001b[32m━━━━━━━━━━━━━━━━━━━━\u001b[0m\u001b[37m\u001b[0m \u001b[1m0s\u001b[0m 161us/step - loss: 0.0139 - mae: 0.0970 - mse: 0.0139\n",
            "Epoch 19/20\n"
          ]
        },
        {
          "name": "stderr",
          "output_type": "stream",
          "text": [
            "2025-03-27 13:41:57.809090: I tensorflow/core/framework/local_rendezvous.cc:404] Local rendezvous is aborting with status: OUT_OF_RANGE: End of sequence\n",
            "\t [[{{node IteratorGetNext}}]]\n"
          ]
        },
        {
          "name": "stdout",
          "output_type": "stream",
          "text": [
            "\u001b[1m46/46\u001b[0m \u001b[32m━━━━━━━━━━━━━━━━━━━━\u001b[0m\u001b[37m\u001b[0m \u001b[1m0s\u001b[0m 189us/step - loss: 0.0133 - mae: 0.0949 - mse: 0.0133\n",
            "Epoch 20/20\n",
            "\u001b[1m46/46\u001b[0m \u001b[32m━━━━━━━━━━━━━━━━━━━━\u001b[0m\u001b[37m\u001b[0m \u001b[1m0s\u001b[0m 167us/step - loss: 0.0126 - mae: 0.0928 - mse: 0.0126\n"
          ]
        }
      ],
      "source": [
        "EPOCHS = 20\n",
        "# train the lstm!\n",
        "history = regressor.fit(\n",
        "    train_data_gen, epochs=EPOCHS, steps_per_epoch=len(data_gen_inp)\n",
        "    )"
      ]
    },
    {
      "cell_type": "code",
      "execution_count": 100,
      "metadata": {
        "colab": {
          "base_uri": "https://localhost:8080/",
          "height": 430
        },
        "id": "VaLGBasOuyeC",
        "outputId": "6efb4e37-536f-43a5-866b-bec1f62f0c00"
      },
      "outputs": [
        {
          "data": {
            "image/png": "[encoded data removed]",
            "text/plain": [
              "<Figure size 640x480 with 1 Axes>"
            ]
          },
          "metadata": {},
          "output_type": "display_data"
        }
      ],
      "source": [
        "plt.plot(range(0,EPOCHS), history.history['loss'], c='k', label='training')\n",
        "plt.legend()\n",
        "plt.show()"
      ]
    },
    {
      "cell_type": "code",
      "execution_count": 101,
      "metadata": {
        "id": "3_b36aCChZPy"
      },
      "outputs": [],
      "source": [
        "# here goes our testing data\n",
        "inpdata = testsds_scaled\n",
        "outdata = testsds_scaled\n",
        "n_features = 1\n",
        "BATCHSIZE = len(testsds_scaled)\n",
        "\n",
        "# For many-to-many, we can set the timeseries generator to have no targets\n",
        "\n",
        "# Example1: Lx = Ly (concurrent output)\n",
        "#sequence_length_inp = 4\n",
        "#sequence_length_out = sequence_length_inp\n",
        "#start_index_out = None\n",
        "#sequence_stride = 1\n",
        "#sampling_rate = 1\n",
        "\n",
        "# Example2: Lx = Ly (input sequence, wait, output sequence)\n",
        "sequence_length_inp = 4\n",
        "sequence_length_out = 3\n",
        "start_index_out = sequence_length_inp\n",
        "sequence_stride = 1\n",
        "sampling_rate = 1\n",
        "\n",
        "# Example3: Lx = Ly (input sequence and slide output sequence)\n",
        "#sequence_length_inp = 4\n",
        "#sequence_length_out = sequence_length_inp\n",
        "#start_index_out = 2\n",
        "#sequence_stride = start_index_out\n",
        "#sampling_rate = start_index_out\n",
        "\n",
        "# data generators\n",
        "test_gen_inp = keras.utils.timeseries_dataset_from_array(\n",
        "    data=inpdata,\n",
        "    targets=None,\n",
        "    sequence_length=sequence_length_inp, # Length of the data sequences\n",
        "    sequence_stride=sequence_stride, # Adjust this to slide the output sequence from the input sequence\n",
        "    sampling_rate=sampling_rate,   # Period between successive individual timesteps\n",
        "    batch_size=BATCHSIZE,\n",
        "    shuffle=False,\n",
        "    seed=1,\n",
        "    start_index=None,\n",
        "    end_index=None,\n",
        ")\n",
        "\n",
        "test_gen_out = keras.utils.timeseries_dataset_from_array(\n",
        "    data=outdata,\n",
        "    targets=None,\n",
        "    sequence_length=sequence_length_out, # Length of the data sequences\n",
        "    sequence_stride=sequence_stride, # Adjust this to slide the output sequence from the input sequence\n",
        "    sampling_rate=sampling_rate,   # Period between successive individual timesteps\n",
        "    batch_size=BATCHSIZE,\n",
        "    shuffle=False,\n",
        "    seed=1,\n",
        "    start_index=start_index_out,\n",
        "    end_index=None,\n",
        ")"
      ]
    },
    {
      "cell_type": "code",
      "execution_count": 102,
      "metadata": {
        "colab": {
          "base_uri": "https://localhost:8080/"
        },
        "id": "Pa9VaqHPiDoE",
        "outputId": "bdbba912-46b5-4e68-d165-9945ef77c886"
      },
      "outputs": [
        {
          "name": "stdout",
          "output_type": "stream",
          "text": [
            "Inputs: [[[0.13769752]\n",
            "  [0.18961625]\n",
            "  [0.248307  ]\n",
            "  [0.29345372]]\n",
            "\n",
            " [[0.18961625]\n",
            "  [0.248307  ]\n",
            "  [0.29345372]\n",
            "  [0.33408578]]\n",
            "\n",
            " [[0.248307  ]\n",
            "  [0.29345372]\n",
            "  [0.33408578]\n",
            "  [0.35891648]]]\n",
            "Targets: [[[0.33408578]\n",
            "  [0.35891648]\n",
            "  [0.34988713]]\n",
            "\n",
            " [[0.35891648]\n",
            "  [0.34988713]\n",
            "  [0.31828442]]\n",
            "\n",
            " [[0.34988713]\n",
            "  [0.31828442]\n",
            "  [0.27088036]]]\n"
          ]
        }
      ],
      "source": [
        "# quick check of output\n",
        "for inputs, outputs in zip(test_gen_inp, test_gen_out):\n",
        "  print(f\"Inputs: {inputs[:3]}\")\n",
        "  print(f\"Targets: {outputs[:3]}\")\n",
        "  break"
      ]
    },
    {
      "cell_type": "code",
      "execution_count": 103,
      "metadata": {
        "colab": {
          "base_uri": "https://localhost:8080/"
        },
        "id": "sUySWeQrvkHR",
        "outputId": "caaf5943-943f-4d2f-9346-18e4b42b8dd0"
      },
      "outputs": [
        {
          "name": "stdout",
          "output_type": "stream",
          "text": [
            "Targets: (163, 3, 1)\n"
          ]
        }
      ],
      "source": [
        "for batch in test_gen_out:\n",
        "  y = batch\n",
        "  print(f\"Targets: {y.shape}\")\n",
        "  break"
      ]
    },
    {
      "cell_type": "code",
      "execution_count": 104,
      "metadata": {
        "colab": {
          "base_uri": "https://localhost:8080/"
        },
        "id": "4ZQlHOxuh0Zy",
        "outputId": "4586e3f2-a47c-4f10-a171-8a93c5fd3601"
      },
      "outputs": [
        {
          "name": "stdout",
          "output_type": "stream",
          "text": [
            "WARNING:tensorflow:5 out of the last 15 calls to <function TensorFlowTrainer.make_predict_function.<locals>.one_step_on_data_distributed at 0x31331c360> triggered tf.function retracing. Tracing is expensive and the excessive number of tracings could be due to (1) creating @tf.function repeatedly in a loop, (2) passing tensors with different shapes, (3) passing Python objects instead of tensors. For (1), please define your @tf.function outside of the loop. For (2), @tf.function has reduce_retracing=True option that can avoid unnecessary retracing. For (3), please refer to https://www.tensorflow.org/guide/function#controlling_retracing and https://www.tensorflow.org/api_docs/python/tf/function for  more details.\n",
            "\u001b[1m1/1\u001b[0m \u001b[32m━━━━━━━━━━━━━━━━━━━━\u001b[0m\u001b[37m\u001b[0m \u001b[1m0s\u001b[0m 212ms/step\n"
          ]
        }
      ],
      "source": [
        "# make predictions\n",
        "oni_predictions = regressor.predict(test_gen_inp)"
      ]
    },
    {
      "cell_type": "code",
      "execution_count": 105,
      "metadata": {
        "colab": {
          "base_uri": "https://localhost:8080/"
        },
        "id": "tIHWVyFIFBxt",
        "outputId": "d704d7dd-75f1-432f-fbd8-88b63b80a4b8"
      },
      "outputs": [
        {
          "name": "stdout",
          "output_type": "stream",
          "text": [
            "(166, 3, 1) (163, 3, 1)\n"
          ]
        }
      ],
      "source": [
        "# check shapes match\n",
        "print(oni_predictions.shape, y.shape)"
      ]
    },
    {
      "cell_type": "code",
      "execution_count": 106,
      "metadata": {
        "colab": {
          "base_uri": "https://localhost:8080/",
          "height": 1000
        },
        "id": "WMaxU9aZkjFP",
        "outputId": "b2ce3c57-9aa1-449c-838b-ce3d013426ff"
      },
      "outputs": [
        {
          "data": {
            "image/png": "[encoded data removed]",
            "text/plain": [
              "<Figure size 640x480 with 1 Axes>"
            ]
          },
          "metadata": {},
          "output_type": "display_data"
        },
        {
          "data": {
            "image/png": "[encoded data removed]",
            "text/plain": [
              "<Figure size 640x480 with 1 Axes>"
            ]
          },
          "metadata": {},
          "output_type": "display_data"
        },
        {
          "data": {
            "image/png": "[encoded data removed]",
            "text/plain": [
              "<Figure size 640x480 with 1 Axes>"
            ]
          },
          "metadata": {},
          "output_type": "display_data"
        }
      ],
      "source": [
        "for i in range(0, y.shape[1]):\n",
        "    # how did we do!?\n",
        "    plt.scatter(\n",
        "        sc.inverse_transform(y[:160, i].numpy().reshape(-1, 1)).reshape(-1),\n",
        "        sc.inverse_transform(oni_predictions[:160, i].reshape(-1, 1)).reshape(-1)\n",
        "        )\n",
        "    plt.xlim([-3,3])\n",
        "    plt.ylim([-3,3])\n",
        "    plt.show()"
      ]
    },
    {
      "cell_type": "code",
      "execution_count": 42,
      "metadata": {
        "id": "aZz0E1tTmlaI"
      },
      "outputs": [],
      "source": []
    }
  ],
  "metadata": {
    "colab": {
      "authorship_tag": "ABX9TyNp3IaIWKUk3KzDVLxHcVc9",
      "include_colab_link": true,
      "mount_file_id": "1-tlc5GGh7ywSlvTy1btcndCkZMeoS3s2",
      "provenance": []
    },
    "kernelspec": {
      "display_name": "keras-tf-v2025",
      "language": "python",
      "name": "python3"
    },
    "language_info": {
      "codemirror_mode": {
        "name": "ipython",
        "version": 3
      },
      "file_extension": ".py",
      "mimetype": "text/x-python",
      "name": "python",
      "nbconvert_exporter": "python",
      "pygments_lexer": "ipython3",
      "version": "3.12.8"
    }
  },
  "nbformat": 4,
  "nbformat_minor": 0
}
