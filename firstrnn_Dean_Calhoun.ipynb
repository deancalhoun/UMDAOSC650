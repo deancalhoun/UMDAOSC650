{
  "cells": [
    {
      "cell_type": "markdown",
      "metadata": {
        "colab_type": "text",
        "id": "view-in-github"
      },
      "source": [
        "<a href=\"https://colab.research.google.com/github/mariajmolina/UMDAOSC650/blob/main/firstrnn.ipynb\" target=\"_parent\"><img src=\"https://colab.research.google.com/assets/colab-badge.svg\" alt=\"Open In Colab\"/></a>"
      ]
    },
    {
      "cell_type": "markdown",
      "metadata": {
        "id": "2wbxelrgNBGe"
      },
      "source": [
        "# LSTM\n",
        "\n",
        "An example using ONI (Oceanic Nino Index).\n",
        "\n",
        "Let's predict a future ONI value using four previous values.\n",
        "\n",
        "First, we will tackle a Many (4 input time steps) to One (1 future time step) framework.\n",
        "\n",
        "Second, we will tackle a Many (4 input time steps) to Many (Y future time steps) framework. The Many-to-Many framework does not need to be Tx==Ty (but can be)."
      ]
    },
    {
      "cell_type": "code",
      "execution_count": 2,
      "metadata": {
        "id": "p-cre9b5l0WQ"
      },
      "outputs": [],
      "source": [
        "import numpy as np\n",
        "import matplotlib.pyplot as plt\n",
        "import pandas as pd\n",
        "from sklearn.preprocessing import MinMaxScaler\n",
        "from keras.models import Sequential\n",
        "from keras.layers import LSTM, Dense, Dropout, Activation, TimeDistributed, RepeatVector\n",
        "import keras\n",
        "# from keras.src.preprocessing.sequence import TimeseriesGenerator\n",
        "# from google.colab import drive\n",
        "# drive.mount('/content/drive')"
      ]
    },
    {
      "cell_type": "code",
      "execution_count": 3,
      "metadata": {
        "id": "iKKGgzDJmBMD"
      },
      "outputs": [
        {
          "name": "stderr",
          "output_type": "stream",
          "text": [
            "/var/folders/9g/q0wl89xx10lfrtcbvqg7pd1w0000gr/T/ipykernel_73486/470975364.py:2: FutureWarning: The 'delim_whitespace' keyword in pd.read_csv is deprecated and will be removed in a future version. Use ``sep='\\s+'`` instead\n",
            "  dataset = pd.read_csv(\n"
          ]
        }
      ],
      "source": [
        "# reading dataset from NOAA online\n",
        "dataset = pd.read_csv(\n",
        "    'http://www.cpc.ncep.noaa.gov/data/indices/oni.ascii.txt',\n",
        "    delim_whitespace=True)"
      ]
    },
    {
      "cell_type": "code",
      "execution_count": 4,
      "metadata": {
        "colab": {
          "base_uri": "https://localhost:8080/",
          "height": 206
        },
        "id": "_lFFxKALqnlb",
        "outputId": "f114ade2-dfce-41ec-b878-32c3aa2429cf"
      },
      "outputs": [
        {
          "data": {
            "text/html": [
              "<div>\n",
              "<style scoped>\n",
              "    .dataframe tbody tr th:only-of-type {\n",
              "        vertical-align: middle;\n",
              "    }\n",
              "\n",
              "    .dataframe tbody tr th {\n",
              "        vertical-align: top;\n",
              "    }\n",
              "\n",
              "    .dataframe thead th {\n",
              "        text-align: right;\n",
              "    }\n",
              "</style>\n",
              "<table border=\"1\" class=\"dataframe\">\n",
              "  <thead>\n",
              "    <tr style=\"text-align: right;\">\n",
              "      <th></th>\n",
              "      <th>SEAS</th>\n",
              "      <th>YR</th>\n",
              "      <th>TOTAL</th>\n",
              "      <th>ANOM</th>\n",
              "    </tr>\n",
              "  </thead>\n",
              "  <tbody>\n",
              "    <tr>\n",
              "      <th>0</th>\n",
              "      <td>DJF</td>\n",
              "      <td>1950</td>\n",
              "      <td>24.72</td>\n",
              "      <td>-1.53</td>\n",
              "    </tr>\n",
              "    <tr>\n",
              "      <th>1</th>\n",
              "      <td>JFM</td>\n",
              "      <td>1950</td>\n",
              "      <td>25.17</td>\n",
              "      <td>-1.34</td>\n",
              "    </tr>\n",
              "    <tr>\n",
              "      <th>2</th>\n",
              "      <td>FMA</td>\n",
              "      <td>1950</td>\n",
              "      <td>25.75</td>\n",
              "      <td>-1.16</td>\n",
              "    </tr>\n",
              "    <tr>\n",
              "      <th>3</th>\n",
              "      <td>MAM</td>\n",
              "      <td>1950</td>\n",
              "      <td>26.12</td>\n",
              "      <td>-1.18</td>\n",
              "    </tr>\n",
              "    <tr>\n",
              "      <th>4</th>\n",
              "      <td>AMJ</td>\n",
              "      <td>1950</td>\n",
              "      <td>26.32</td>\n",
              "      <td>-1.07</td>\n",
              "    </tr>\n",
              "  </tbody>\n",
              "</table>\n",
              "</div>"
            ],
            "text/plain": [
              "  SEAS    YR  TOTAL  ANOM\n",
              "0  DJF  1950  24.72 -1.53\n",
              "1  JFM  1950  25.17 -1.34\n",
              "2  FMA  1950  25.75 -1.16\n",
              "3  MAM  1950  26.12 -1.18\n",
              "4  AMJ  1950  26.32 -1.07"
            ]
          },
          "execution_count": 4,
          "metadata": {},
          "output_type": "execute_result"
        }
      ],
      "source": [
        "# data features include seasons, year, total SST (C), and ONI (ENSO index)\n",
        "dataset.head()"
      ]
    },
    {
      "cell_type": "code",
      "execution_count": 5,
      "metadata": {
        "colab": {
          "base_uri": "https://localhost:8080/",
          "height": 206
        },
        "id": "ep-nRwNHrnsk",
        "outputId": "80b964d3-74d5-4a31-e489-13cc03efc720"
      },
      "outputs": [
        {
          "data": {
            "text/html": [
              "<div>\n",
              "<style scoped>\n",
              "    .dataframe tbody tr th:only-of-type {\n",
              "        vertical-align: middle;\n",
              "    }\n",
              "\n",
              "    .dataframe tbody tr th {\n",
              "        vertical-align: top;\n",
              "    }\n",
              "\n",
              "    .dataframe thead th {\n",
              "        text-align: right;\n",
              "    }\n",
              "</style>\n",
              "<table border=\"1\" class=\"dataframe\">\n",
              "  <thead>\n",
              "    <tr style=\"text-align: right;\">\n",
              "      <th></th>\n",
              "      <th>SEAS</th>\n",
              "      <th>YR</th>\n",
              "      <th>TOTAL</th>\n",
              "      <th>ANOM</th>\n",
              "    </tr>\n",
              "  </thead>\n",
              "  <tbody>\n",
              "    <tr>\n",
              "      <th>896</th>\n",
              "      <td>ASO</td>\n",
              "      <td>2024</td>\n",
              "      <td>26.55</td>\n",
              "      <td>-0.21</td>\n",
              "    </tr>\n",
              "    <tr>\n",
              "      <th>897</th>\n",
              "      <td>SON</td>\n",
              "      <td>2024</td>\n",
              "      <td>26.45</td>\n",
              "      <td>-0.26</td>\n",
              "    </tr>\n",
              "    <tr>\n",
              "      <th>898</th>\n",
              "      <td>OND</td>\n",
              "      <td>2024</td>\n",
              "      <td>26.30</td>\n",
              "      <td>-0.37</td>\n",
              "    </tr>\n",
              "    <tr>\n",
              "      <th>899</th>\n",
              "      <td>NDJ</td>\n",
              "      <td>2024</td>\n",
              "      <td>26.09</td>\n",
              "      <td>-0.53</td>\n",
              "    </tr>\n",
              "    <tr>\n",
              "      <th>900</th>\n",
              "      <td>DJF</td>\n",
              "      <td>2025</td>\n",
              "      <td>25.99</td>\n",
              "      <td>-0.64</td>\n",
              "    </tr>\n",
              "  </tbody>\n",
              "</table>\n",
              "</div>"
            ],
            "text/plain": [
              "    SEAS    YR  TOTAL  ANOM\n",
              "896  ASO  2024  26.55 -0.21\n",
              "897  SON  2024  26.45 -0.26\n",
              "898  OND  2024  26.30 -0.37\n",
              "899  NDJ  2024  26.09 -0.53\n",
              "900  DJF  2025  25.99 -0.64"
            ]
          },
          "execution_count": 5,
          "metadata": {},
          "output_type": "execute_result"
        }
      ],
      "source": [
        "dataset.tail()"
      ]
    },
    {
      "cell_type": "code",
      "execution_count": 6,
      "metadata": {
        "id": "5RcTG8sEqmbb"
      },
      "outputs": [],
      "source": [
        "# drop any nans\n",
        "dataset = dataset.dropna(subset=[\"ANOM\"])"
      ]
    },
    {
      "cell_type": "code",
      "execution_count": 7,
      "metadata": {
        "colab": {
          "base_uri": "https://localhost:8080/",
          "height": 300
        },
        "id": "EipN-1z-vGAZ",
        "outputId": "c0a829bc-e589-4063-dbbe-43084be27475"
      },
      "outputs": [
        {
          "data": {
            "text/html": [
              "<div>\n",
              "<style scoped>\n",
              "    .dataframe tbody tr th:only-of-type {\n",
              "        vertical-align: middle;\n",
              "    }\n",
              "\n",
              "    .dataframe tbody tr th {\n",
              "        vertical-align: top;\n",
              "    }\n",
              "\n",
              "    .dataframe thead th {\n",
              "        text-align: right;\n",
              "    }\n",
              "</style>\n",
              "<table border=\"1\" class=\"dataframe\">\n",
              "  <thead>\n",
              "    <tr style=\"text-align: right;\">\n",
              "      <th></th>\n",
              "      <th>YR</th>\n",
              "      <th>TOTAL</th>\n",
              "      <th>ANOM</th>\n",
              "    </tr>\n",
              "  </thead>\n",
              "  <tbody>\n",
              "    <tr>\n",
              "      <th>count</th>\n",
              "      <td>901.000000</td>\n",
              "      <td>901.000000</td>\n",
              "      <td>901.000000</td>\n",
              "    </tr>\n",
              "    <tr>\n",
              "      <th>mean</th>\n",
              "      <td>1987.042175</td>\n",
              "      <td>26.904517</td>\n",
              "      <td>0.012908</td>\n",
              "    </tr>\n",
              "    <tr>\n",
              "      <th>std</th>\n",
              "      <td>21.685694</td>\n",
              "      <td>0.943686</td>\n",
              "      <td>0.836209</td>\n",
              "    </tr>\n",
              "    <tr>\n",
              "      <th>min</th>\n",
              "      <td>1950.000000</td>\n",
              "      <td>24.380000</td>\n",
              "      <td>-2.030000</td>\n",
              "    </tr>\n",
              "    <tr>\n",
              "      <th>25%</th>\n",
              "      <td>1968.000000</td>\n",
              "      <td>26.230000</td>\n",
              "      <td>-0.570000</td>\n",
              "    </tr>\n",
              "    <tr>\n",
              "      <th>50%</th>\n",
              "      <td>1987.000000</td>\n",
              "      <td>26.950000</td>\n",
              "      <td>-0.050000</td>\n",
              "    </tr>\n",
              "    <tr>\n",
              "      <th>75%</th>\n",
              "      <td>2006.000000</td>\n",
              "      <td>27.540000</td>\n",
              "      <td>0.530000</td>\n",
              "    </tr>\n",
              "    <tr>\n",
              "      <th>max</th>\n",
              "      <td>2025.000000</td>\n",
              "      <td>29.260000</td>\n",
              "      <td>2.640000</td>\n",
              "    </tr>\n",
              "  </tbody>\n",
              "</table>\n",
              "</div>"
            ],
            "text/plain": [
              "                YR       TOTAL        ANOM\n",
              "count   901.000000  901.000000  901.000000\n",
              "mean   1987.042175   26.904517    0.012908\n",
              "std      21.685694    0.943686    0.836209\n",
              "min    1950.000000   24.380000   -2.030000\n",
              "25%    1968.000000   26.230000   -0.570000\n",
              "50%    1987.000000   26.950000   -0.050000\n",
              "75%    2006.000000   27.540000    0.530000\n",
              "max    2025.000000   29.260000    2.640000"
            ]
          },
          "execution_count": 7,
          "metadata": {},
          "output_type": "execute_result"
        }
      ],
      "source": [
        "# quick stats\n",
        "dataset.describe()"
      ]
    },
    {
      "cell_type": "code",
      "execution_count": 8,
      "metadata": {
        "colab": {
          "base_uri": "https://localhost:8080/",
          "height": 466
        },
        "id": "3QEaavkavtQG",
        "outputId": "f6e0e55e-4d3c-4322-edd3-08348bf1e1dc"
      },
      "outputs": [
        {
          "data": {
            "text/plain": [
              "<Axes: xlabel='YR'>"
            ]
          },
          "execution_count": 8,
          "metadata": {},
          "output_type": "execute_result"
        },
        {
          "data": {
            "image/png": "[encoded data removed]",
            "text/plain": [
              "<Figure size 640x480 with 1 Axes>"
            ]
          },
          "metadata": {},
          "output_type": "display_data"
        }
      ],
      "source": [
        "# quick viz\n",
        "# djf only\n",
        "dataset[dataset[\"SEAS\"]==\"DJF\"].plot(\"YR\",\"ANOM\")"
      ]
    },
    {
      "cell_type": "code",
      "execution_count": 8,
      "metadata": {
        "id": "NtRnXk5nwQbP"
      },
      "outputs": [],
      "source": [
        "# train test split by years\n",
        "trainds = dataset[dataset[\"YR\"]<=2010]\n",
        "testsds = dataset[dataset[\"YR\"]>2010]"
      ]
    },
    {
      "cell_type": "code",
      "execution_count": 9,
      "metadata": {
        "id": "_O7iYwVZvEyB"
      },
      "outputs": [],
      "source": [
        "# grab anoms columns (ONI) and reset index\n",
        "# reshape to be (samples, features)\n",
        "# number of features here is just 1 (ONI)\n",
        "trainds = trainds.reset_index(drop=True)[\"ANOM\"].values.reshape(-1, 1)\n",
        "testsds = testsds.reset_index(drop=True)[\"ANOM\"].values.reshape(-1, 1)"
      ]
    },
    {
      "cell_type": "code",
      "execution_count": 10,
      "metadata": {
        "colab": {
          "base_uri": "https://localhost:8080/"
        },
        "id": "-qRzFiAK5oln",
        "outputId": "bda0a662-bf21-41ec-bdae-ed8a3d2b0ac2"
      },
      "outputs": [
        {
          "name": "stdout",
          "output_type": "stream",
          "text": [
            "(732, 1) (157, 1)\n"
          ]
        }
      ],
      "source": [
        "# checking shapes -- make sure (samples, features)\n",
        "print(trainds.shape, testsds.shape)"
      ]
    },
    {
      "cell_type": "code",
      "execution_count": 11,
      "metadata": {
        "id": "7S-QdRBHmCjm"
      },
      "outputs": [],
      "source": [
        "# Feature Scaling\n",
        "sc = MinMaxScaler(feature_range=(0,1))"
      ]
    },
    {
      "cell_type": "code",
      "execution_count": 12,
      "metadata": {
        "id": "a6M2k9RF8cXZ"
      },
      "outputs": [],
      "source": [
        "# do rescaling\n",
        "trainds_scaled = sc.fit_transform(trainds)\n",
        "testsds_scaled = sc.transform(testsds)"
      ]
    },
    {
      "cell_type": "markdown",
      "metadata": {
        "id": "_1L5-a5eb3TK"
      },
      "source": [
        "# Many-to-One LSTM"
      ]
    },
    {
      "cell_type": "code",
      "execution_count": 13,
      "metadata": {
        "id": "zUb6c5liFwG5"
      },
      "outputs": [],
      "source": [
        "# for help with data manipulation for time series rnn training; we can use the time series generator from keras\n",
        "\n",
        "# dummy input for understanding\n",
        "# data = np.array([[i] for i in range(50)])\n",
        "\n",
        "# here goes our training data\n",
        "data = trainds_scaled\n",
        "\n",
        "# the shape of your target is your prediction shape (e.g., here we make it 1)\n",
        "target = data\n",
        "\n",
        "# the length of the input feature\n",
        "n_input=4 # you can change this! doesn't HAVE to be 4 months input\n",
        "n_features=data.shape[1]\n",
        "\n",
        "# this is the generator that will go into our rnn for training\n",
        "data_gen = TimeseriesGenerator(data,\n",
        "                               target,\n",
        "                               length=n_input,\n",
        "                               sampling_rate=1,\n",
        "                               batch_size=16, # you can try different batch sizes\n",
        "                               shuffle=True)"
      ]
    },
    {
      "cell_type": "code",
      "execution_count": 14,
      "metadata": {
        "colab": {
          "base_uri": "https://localhost:8080/"
        },
        "id": "FreObmKXt8Fc",
        "outputId": "44c280d5-77af-4abe-f80e-61b82c173c38"
      },
      "outputs": [
        {
          "name": "stdout",
          "output_type": "stream",
          "text": [
            "(732, 1) (732, 1) 1\n"
          ]
        }
      ],
      "source": [
        "# check shapes\n",
        "print(data.shape, target.shape, n_features)"
      ]
    },
    {
      "cell_type": "code",
      "execution_count": 15,
      "metadata": {
        "colab": {
          "base_uri": "https://localhost:8080/"
        },
        "id": "0KThyhWlzXq6",
        "outputId": "d178ec31-8a07-45b6-b74e-92351750704e"
      },
      "outputs": [
        {
          "name": "stdout",
          "output_type": "stream",
          "text": [
            "[[0.53724605]\n",
            " [0.51241535]\n",
            " [0.51241535]\n",
            " [0.48532731]] [0.4469526]\n",
            "(16, 4, 1) (16, 1)\n"
          ]
        }
      ],
      "source": [
        "# quick check of output\n",
        "batch_0 = data_gen[0]\n",
        "x, y = batch_0\n",
        "print(x[0], y[0])\n",
        "print(x.shape, y.shape)"
      ]
    },
    {
      "cell_type": "code",
      "execution_count": 16,
      "metadata": {
        "colab": {
          "base_uri": "https://localhost:8080/"
        },
        "id": "dCWIVnYxmCau",
        "outputId": "61cdd044-7e2d-4030-ce5e-43c0b05e757e"
      },
      "outputs": [
        {
          "name": "stdout",
          "output_type": "stream",
          "text": [
            "Model: \"sequential\"\n",
            "_________________________________________________________________\n",
            " Layer (type)                Output Shape              Param #   \n",
            "=================================================================\n",
            " lstm (LSTM)                 (16, 50)                  10400     \n",
            "                                                                 \n",
            " dense (Dense)               (16, 1)                   51        \n",
            "                                                                 \n",
            " activation (Activation)     (16, 1)                   0         \n",
            "                                                                 \n",
            "=================================================================\n",
            "Total params: 10451 (40.82 KB)\n",
            "Trainable params: 10451 (40.82 KB)\n",
            "Non-trainable params: 0 (0.00 Byte)\n",
            "_________________________________________________________________\n"
          ]
        }
      ],
      "source": [
        "# many-to-one example\n",
        "# lets make our rnn!\n",
        "regressor = Sequential()\n",
        "\n",
        "# LSTM; input shape is 1 (for one time step at a time) and n_features which is also 1 for our toy example\n",
        "regressor.add(keras.layers.Input(shape=(1, n_features), batch_size=16))\n",
        "\n",
        "# don't return sequence; just the last output of the input sequence\n",
        "regressor.add(LSTM(units=50, return_sequences=False))\n",
        "\n",
        "# one neuron for output prediction\n",
        "regressor.add(Dense(1))\n",
        "regressor.add(Activation('linear'))\n",
        "\n",
        "# compile model\n",
        "regressor.compile(optimizer='adam', loss='mean_squared_error', metrics=['mse', 'mae'])\n",
        "\n",
        "# what does graph look like?\n",
        "regressor.summary()"
      ]
    },
    {
      "cell_type": "code",
      "execution_count": 17,
      "metadata": {
        "colab": {
          "base_uri": "https://localhost:8080/"
        },
        "id": "Aue4JDCWyy9L",
        "outputId": "04c9b3b8-0760-45fe-dac4-db97a35fcc3e"
      },
      "outputs": [
        {
          "name": "stdout",
          "output_type": "stream",
          "text": [
            "Epoch 1/20\n",
            "46/46 [==============================] - 2s 5ms/step - loss: 0.0557 - mse: 0.0557 - mae: 0.1771\n",
            "Epoch 2/20\n",
            "46/46 [==============================] - 0s 4ms/step - loss: 0.0114 - mse: 0.0114 - mae: 0.0836\n",
            "Epoch 3/20\n",
            "46/46 [==============================] - 0s 4ms/step - loss: 0.0107 - mse: 0.0107 - mae: 0.0807\n",
            "Epoch 4/20\n",
            "46/46 [==============================] - 0s 4ms/step - loss: 0.0104 - mse: 0.0104 - mae: 0.0787\n",
            "Epoch 5/20\n",
            "46/46 [==============================] - 0s 4ms/step - loss: 0.0093 - mse: 0.0093 - mae: 0.0743\n",
            "Epoch 6/20\n",
            "46/46 [==============================] - 0s 4ms/step - loss: 0.0086 - mse: 0.0086 - mae: 0.0710\n",
            "Epoch 7/20\n",
            "46/46 [==============================] - 0s 4ms/step - loss: 0.0085 - mse: 0.0085 - mae: 0.0718\n",
            "Epoch 8/20\n",
            "46/46 [==============================] - 0s 4ms/step - loss: 0.0089 - mse: 0.0089 - mae: 0.0759\n",
            "Epoch 9/20\n",
            "46/46 [==============================] - 0s 5ms/step - loss: 0.0075 - mse: 0.0075 - mae: 0.0663\n",
            "Epoch 10/20\n",
            "46/46 [==============================] - 0s 5ms/step - loss: 0.0079 - mse: 0.0079 - mae: 0.0702\n",
            "Epoch 11/20\n",
            "46/46 [==============================] - 0s 5ms/step - loss: 0.0076 - mse: 0.0076 - mae: 0.0688\n",
            "Epoch 12/20\n",
            "46/46 [==============================] - 0s 7ms/step - loss: 0.0069 - mse: 0.0069 - mae: 0.0654\n",
            "Epoch 13/20\n",
            "46/46 [==============================] - 0s 7ms/step - loss: 0.0070 - mse: 0.0070 - mae: 0.0657\n",
            "Epoch 14/20\n",
            "46/46 [==============================] - 0s 6ms/step - loss: 0.0057 - mse: 0.0057 - mae: 0.0592\n",
            "Epoch 15/20\n",
            "46/46 [==============================] - 0s 7ms/step - loss: 0.0059 - mse: 0.0059 - mae: 0.0599\n",
            "Epoch 16/20\n",
            "46/46 [==============================] - 0s 7ms/step - loss: 0.0056 - mse: 0.0056 - mae: 0.0584\n",
            "Epoch 17/20\n",
            "46/46 [==============================] - 0s 4ms/step - loss: 0.0042 - mse: 0.0042 - mae: 0.0498\n",
            "Epoch 18/20\n",
            "46/46 [==============================] - 0s 4ms/step - loss: 0.0039 - mse: 0.0039 - mae: 0.0492\n",
            "Epoch 19/20\n",
            "46/46 [==============================] - 0s 4ms/step - loss: 0.0033 - mse: 0.0033 - mae: 0.0454\n",
            "Epoch 20/20\n",
            "46/46 [==============================] - 0s 4ms/step - loss: 0.0023 - mse: 0.0023 - mae: 0.0380\n"
          ]
        },
        {
          "data": {
            "text/plain": [
              "<keras.src.callbacks.History at 0x7f82e6c7d6c0>"
            ]
          },
          "execution_count": 17,
          "metadata": {},
          "output_type": "execute_result"
        }
      ],
      "source": [
        "# train the lstm!\n",
        "regressor.fit(data_gen, epochs=20)"
      ]
    },
    {
      "cell_type": "code",
      "execution_count": 18,
      "metadata": {
        "id": "VvqyVkKR9OgI"
      },
      "outputs": [],
      "source": [
        "# here goes our testing data that was already scaled\n",
        "testdata = testsds_scaled\n",
        "\n",
        "testtarget = testdata\n",
        "\n",
        "testdata_gen = TimeseriesGenerator(\n",
        "    testdata,\n",
        "    testtarget,\n",
        "    length=n_input,\n",
        "    sampling_rate=1,\n",
        "    batch_size=testdata.shape[0], # all samples\n",
        "    shuffle=False)"
      ]
    },
    {
      "cell_type": "code",
      "execution_count": 19,
      "metadata": {
        "colab": {
          "base_uri": "https://localhost:8080/"
        },
        "id": "yD-8nXD4-rZu",
        "outputId": "0ec63bbe-6301-4741-92e0-a08e748e192c"
      },
      "outputs": [
        {
          "name": "stdout",
          "output_type": "stream",
          "text": [
            "[[0.13769752]\n",
            " [0.18961625]\n",
            " [0.248307  ]\n",
            " [0.29345372]] [0.33408578]\n",
            "(153, 4, 1) (153, 1)\n"
          ]
        }
      ],
      "source": [
        "# quick check of output\n",
        "batch_0 = testdata_gen[0]\n",
        "x, y = batch_0\n",
        "print(x[0], y[0])\n",
        "print(x.shape, y.shape)"
      ]
    },
    {
      "cell_type": "code",
      "execution_count": 20,
      "metadata": {
        "colab": {
          "base_uri": "https://localhost:8080/"
        },
        "id": "DPA3UGBsmCXX",
        "outputId": "b23e0f12-72fe-4e57-e6d2-9f8f3d706386"
      },
      "outputs": [
        {
          "name": "stdout",
          "output_type": "stream",
          "text": [
            "1/1 [==============================] - 1s 1s/step\n"
          ]
        }
      ],
      "source": [
        "# predict using test data\n",
        "oni_predictions = regressor.predict(testdata_gen)"
      ]
    },
    {
      "cell_type": "code",
      "execution_count": 21,
      "metadata": {
        "colab": {
          "base_uri": "https://localhost:8080/"
        },
        "id": "dHY10TFu_Hp5",
        "outputId": "299ca18f-af15-4321-ef66-290c57c6d41b"
      },
      "outputs": [
        {
          "name": "stdout",
          "output_type": "stream",
          "text": [
            "(153, 1) (153, 1)\n"
          ]
        }
      ],
      "source": [
        "# quick check that we have a match of shapes\n",
        "print(oni_predictions.shape, y.shape)"
      ]
    },
    {
      "cell_type": "code",
      "execution_count": 22,
      "metadata": {
        "colab": {
          "base_uri": "https://localhost:8080/",
          "height": 435
        },
        "id": "ZPeSf6qzGrd1",
        "outputId": "6e7bba32-1720-49d8-99e9-a6553ed28dc9"
      },
      "outputs": [
        {
          "data": {
            "image/png": "[encoded data removed]",
            "text/plain": [
              "<Figure size 640x480 with 1 Axes>"
            ]
          },
          "metadata": {},
          "output_type": "display_data"
        }
      ],
      "source": [
        "# how did we do!?\n",
        "plt.scatter(\n",
        "    sc.inverse_transform(y).reshape(-1),\n",
        "    sc.inverse_transform(oni_predictions).reshape(-1)\n",
        "    )\n",
        "plt.xlim([-3,3])\n",
        "plt.ylim([-3,3])\n",
        "plt.show()"
      ]
    },
    {
      "cell_type": "markdown",
      "metadata": {
        "id": "ydKfkPRzfuLD"
      },
      "source": [
        "# Many-to-Many LSTM"
      ]
    },
    {
      "cell_type": "code",
      "execution_count": 23,
      "metadata": {
        "id": "HyKsK1p2frBp"
      },
      "outputs": [],
      "source": [
        "# redoing data preprocessing steps here more quickly\n",
        "\n",
        "# reading dataset from NOAA online\n",
        "dataset = pd.read_csv(\n",
        "    'http://www.cpc.ncep.noaa.gov/data/indices/oni.ascii.txt',\n",
        "    delim_whitespace=True)\n",
        "\n",
        "# drop any nans\n",
        "dataset = dataset.dropna(subset=[\"ANOM\"])\n",
        "\n",
        "# train test split by years\n",
        "trainds = dataset[dataset[\"YR\"]<=2010]\n",
        "testsds = dataset[dataset[\"YR\"]>2010]\n",
        "\n",
        "# grab anoms columns (ONI) and reset index\n",
        "# reshape to be (samples, features)\n",
        "# number of features here is just 1 (ONI)\n",
        "trainds = trainds.reset_index(drop=True)[\"ANOM\"].values.reshape(-1, 1)\n",
        "testsds = testsds.reset_index(drop=True)[\"ANOM\"].values.reshape(-1, 1)\n",
        "\n",
        "# Feature Scaling\n",
        "sc = MinMaxScaler(feature_range=(0,1))\n",
        "\n",
        "# do rescaling\n",
        "trainds_scaled = sc.fit_transform(trainds)\n",
        "testsds_scaled = sc.transform(testsds)"
      ]
    },
    {
      "cell_type": "code",
      "execution_count": 24,
      "metadata": {
        "id": "780eNEwefrJt"
      },
      "outputs": [],
      "source": [
        "# for help with data manipulation for time series rnn training; we can use the time series generator from keras\n",
        "\n",
        "# dummy input for understanding\n",
        "# data = np.array([[i] for i in range(50)])\n",
        "\n",
        "# here goes our training data\n",
        "data = trainds_scaled\n",
        "\n",
        "# the shape of your target is your prediction shape\n",
        "target = np.concatenate((np.roll(data, 0, axis=0),\n",
        "                         np.roll(data, -1, axis=0),\n",
        "                         np.roll(data, -2, axis=0),\n",
        "                         #np.roll(data, -3, axis=0)\n",
        "                        ), axis=1)\n",
        "\n",
        "# the length of the input feature\n",
        "n_input=4\n",
        "n_features=data.shape[1]\n",
        "n_pred=target.shape[1]\n",
        "\n",
        "# this is the generator that will go into our rnn for training\n",
        "data_gen = TimeseriesGenerator(data,\n",
        "                               target,\n",
        "                               length=n_input,\n",
        "                               sampling_rate=1,\n",
        "                               batch_size=16,\n",
        "                               shuffle=True)"
      ]
    },
    {
      "cell_type": "code",
      "execution_count": 25,
      "metadata": {
        "colab": {
          "base_uri": "https://localhost:8080/"
        },
        "id": "UFMqsQTdfrM2",
        "outputId": "3b36c3c0-76c0-4a28-feec-b049909d4cea"
      },
      "outputs": [
        {
          "name": "stdout",
          "output_type": "stream",
          "text": [
            "[[0.37923251]\n",
            " [0.4717833 ]\n",
            " [0.55079007]\n",
            " [0.60948081]] [0.66591422 0.71331828 0.76749436]\n",
            "(16, 4, 1) (16, 3) 1\n"
          ]
        }
      ],
      "source": [
        "# quick check of output\n",
        "batch_0 = data_gen[0]\n",
        "x, y = batch_0\n",
        "print(x[0], y[0])\n",
        "print(x.shape, y.shape, n_features)"
      ]
    },
    {
      "cell_type": "code",
      "execution_count": 26,
      "metadata": {
        "colab": {
          "base_uri": "https://localhost:8080/"
        },
        "id": "6FVy06vcfrPe",
        "outputId": "29636342-b45f-4831-b945-ddb633d27d89"
      },
      "outputs": [
        {
          "name": "stdout",
          "output_type": "stream",
          "text": [
            "Model: \"sequential_1\"\n",
            "_________________________________________________________________\n",
            " Layer (type)                Output Shape              Param #   \n",
            "=================================================================\n",
            " lstm_1 (LSTM)               (16, 50)                  10400     \n",
            "                                                                 \n",
            " repeat_vector (RepeatVecto  (16, 3, 50)               0         \n",
            " r)                                                              \n",
            "                                                                 \n",
            " lstm_2 (LSTM)               (16, 3, 50)               20200     \n",
            "                                                                 \n",
            " time_distributed (TimeDist  (16, 3, 1)                51        \n",
            " ributed)                                                        \n",
            "                                                                 \n",
            " activation_1 (Activation)   (16, 3, 1)                0         \n",
            "                                                                 \n",
            "=================================================================\n",
            "Total params: 30651 (119.73 KB)\n",
            "Trainable params: 30651 (119.73 KB)\n",
            "Non-trainable params: 0 (0.00 Byte)\n",
            "_________________________________________________________________\n"
          ]
        }
      ],
      "source": [
        "# many-to-one example\n",
        "\n",
        "# lets make our rnn!\n",
        "regressor = Sequential()\n",
        "\n",
        "# LSTM; input shape is 1 (for one time step at a time) and n_features which is also 1 for our toy example\n",
        "regressor.add(keras.layers.Input(shape=(1, n_features), batch_size=16))\n",
        "\n",
        "# encoder is needed because we are using many to predict future manys\n",
        "# return sequence\n",
        "regressor.add(LSTM(units=50, return_sequences=False))\n",
        "\n",
        "# one neuron for output prediction needs to be repeated for each future many prediction\n",
        "regressor.add(RepeatVector(n_pred))\n",
        "\n",
        "# decoder to predict; return each prediction so return_sequence=True\n",
        "# return sequence\n",
        "regressor.add(LSTM(units=50, return_sequences=True))\n",
        "\n",
        "# predict 1 value per returned sequence value\n",
        "regressor.add(TimeDistributed(Dense(1)))\n",
        "regressor.add(Activation('linear'))\n",
        "\n",
        "# compile model\n",
        "regressor.compile(optimizer='adam', loss='mean_squared_error', metrics=['mse', 'mae'])\n",
        "\n",
        "# what does graph look like?\n",
        "regressor.summary()"
      ]
    },
    {
      "cell_type": "code",
      "execution_count": 27,
      "metadata": {
        "colab": {
          "base_uri": "https://localhost:8080/"
        },
        "id": "kaipkME-hYxO",
        "outputId": "d3b9c523-3e5a-47a0-db8d-11ae679b27c6"
      },
      "outputs": [
        {
          "name": "stdout",
          "output_type": "stream",
          "text": [
            "Epoch 1/20\n",
            "46/46 [==============================] - 6s 13ms/step - loss: 0.0764 - mse: 0.0764 - mae: 0.2227\n",
            "Epoch 2/20\n",
            "46/46 [==============================] - 1s 14ms/step - loss: 0.0258 - mse: 0.0258 - mae: 0.1262\n",
            "Epoch 3/20\n",
            "46/46 [==============================] - 1s 15ms/step - loss: 0.0155 - mse: 0.0155 - mae: 0.0965\n",
            "Epoch 4/20\n",
            "46/46 [==============================] - 1s 13ms/step - loss: 0.0146 - mse: 0.0146 - mae: 0.0930\n",
            "Epoch 5/20\n",
            "46/46 [==============================] - 1s 14ms/step - loss: 0.0157 - mse: 0.0157 - mae: 0.0954\n",
            "Epoch 6/20\n",
            "46/46 [==============================] - 1s 15ms/step - loss: 0.0142 - mse: 0.0142 - mae: 0.0920\n",
            "Epoch 7/20\n",
            "46/46 [==============================] - 1s 16ms/step - loss: 0.0125 - mse: 0.0125 - mae: 0.0860\n",
            "Epoch 8/20\n",
            "46/46 [==============================] - 1s 19ms/step - loss: 0.0109 - mse: 0.0109 - mae: 0.0814\n",
            "Epoch 9/20\n",
            "46/46 [==============================] - 1s 12ms/step - loss: 0.0103 - mse: 0.0103 - mae: 0.0787\n",
            "Epoch 10/20\n",
            "46/46 [==============================] - 1s 15ms/step - loss: 0.0068 - mse: 0.0068 - mae: 0.0642\n",
            "Epoch 11/20\n",
            "46/46 [==============================] - 0s 8ms/step - loss: 0.0061 - mse: 0.0061 - mae: 0.0596\n",
            "Epoch 12/20\n",
            "46/46 [==============================] - 0s 10ms/step - loss: 0.0066 - mse: 0.0066 - mae: 0.0626\n",
            "Epoch 13/20\n",
            "46/46 [==============================] - 1s 14ms/step - loss: 0.0054 - mse: 0.0054 - mae: 0.0573\n",
            "Epoch 14/20\n",
            "46/46 [==============================] - 1s 14ms/step - loss: 0.0052 - mse: 0.0052 - mae: 0.0550\n",
            "Epoch 15/20\n",
            "46/46 [==============================] - 1s 11ms/step - loss: 0.0057 - mse: 0.0057 - mae: 0.0572\n",
            "Epoch 16/20\n",
            "46/46 [==============================] - 1s 11ms/step - loss: 0.0059 - mse: 0.0059 - mae: 0.0590\n",
            "Epoch 17/20\n",
            "46/46 [==============================] - 0s 9ms/step - loss: 0.0058 - mse: 0.0058 - mae: 0.0579\n",
            "Epoch 18/20\n",
            "46/46 [==============================] - 0s 7ms/step - loss: 0.0056 - mse: 0.0056 - mae: 0.0572\n",
            "Epoch 19/20\n",
            "46/46 [==============================] - 0s 7ms/step - loss: 0.0053 - mse: 0.0053 - mae: 0.0551\n",
            "Epoch 20/20\n",
            "46/46 [==============================] - 0s 7ms/step - loss: 0.0052 - mse: 0.0052 - mae: 0.0550\n"
          ]
        },
        {
          "data": {
            "text/plain": [
              "<keras.src.callbacks.History at 0x7f82d76d6d10>"
            ]
          },
          "execution_count": 27,
          "metadata": {},
          "output_type": "execute_result"
        }
      ],
      "source": [
        "# train the lstm!\n",
        "regressor.fit(data_gen, epochs=20)"
      ]
    },
    {
      "cell_type": "code",
      "execution_count": 28,
      "metadata": {
        "id": "3_b36aCChZPy"
      },
      "outputs": [],
      "source": [
        "# here goes our testing data\n",
        "testdata = testsds_scaled\n",
        "\n",
        "# make sure you make this match your training target\n",
        "testtarget = np.concatenate((\n",
        "    np.roll(testdata, 0, axis=0),\n",
        "    np.roll(testdata, -1, axis=0),\n",
        "    np.roll(testdata, -2, axis=0),\n",
        "    #np.roll(testdata, -3, axis=0)\n",
        "    ), axis=1)\n",
        "\n",
        "testdata_gen = TimeseriesGenerator(\n",
        "    testdata,\n",
        "    testtarget,\n",
        "    length=n_input,\n",
        "    sampling_rate=1,\n",
        "    batch_size=testdata.shape[0], # all samples\n",
        "    shuffle=False)"
      ]
    },
    {
      "cell_type": "code",
      "execution_count": 29,
      "metadata": {
        "colab": {
          "base_uri": "https://localhost:8080/"
        },
        "id": "Pa9VaqHPiDoE",
        "outputId": "ff6da512-1858-4061-f51a-0153990fc1ec"
      },
      "outputs": [
        {
          "name": "stdout",
          "output_type": "stream",
          "text": [
            "[[0.13769752]\n",
            " [0.18961625]\n",
            " [0.248307  ]\n",
            " [0.29345372]] [0.33408578 0.35891648 0.34988713]\n",
            "(153, 4, 1) (153, 3)\n"
          ]
        }
      ],
      "source": [
        "# quick check of output\n",
        "batch_0 = testdata_gen[0]\n",
        "x, y = batch_0\n",
        "print(x[0], y[0])\n",
        "print(x.shape, y.shape)"
      ]
    },
    {
      "cell_type": "code",
      "execution_count": 30,
      "metadata": {
        "colab": {
          "base_uri": "https://localhost:8080/"
        },
        "id": "4ZQlHOxuh0Zy",
        "outputId": "c845e2e4-e9b6-432a-e951-7753e5219060"
      },
      "outputs": [
        {
          "name": "stdout",
          "output_type": "stream",
          "text": [
            "1/1 [==============================] - 2s 2s/step\n"
          ]
        }
      ],
      "source": [
        "# make predictions\n",
        "oni_predictions = regressor.predict(testdata_gen)"
      ]
    },
    {
      "cell_type": "code",
      "execution_count": 31,
      "metadata": {
        "colab": {
          "base_uri": "https://localhost:8080/"
        },
        "id": "tIHWVyFIFBxt",
        "outputId": "4093be74-8b58-4622-bdb1-d48b0f0beeca"
      },
      "outputs": [
        {
          "name": "stdout",
          "output_type": "stream",
          "text": [
            "(153, 3, 1) (153, 3)\n"
          ]
        }
      ],
      "source": [
        "# check shapes match\n",
        "print(oni_predictions.shape, y.shape)"
      ]
    },
    {
      "cell_type": "code",
      "execution_count": 32,
      "metadata": {
        "colab": {
          "base_uri": "https://localhost:8080/",
          "height": 1000
        },
        "id": "WMaxU9aZkjFP",
        "outputId": "221d0cf8-8071-4c0f-9510-2b0c664ae98f"
      },
      "outputs": [
        {
          "data": {
            "image/png": "[encoded data removed]",
            "text/plain": [
              "<Figure size 640x480 with 1 Axes>"
            ]
          },
          "metadata": {},
          "output_type": "display_data"
        },
        {
          "data": {
            "image/png": "[encoded data removed]",
            "text/plain": [
              "<Figure size 640x480 with 1 Axes>"
            ]
          },
          "metadata": {},
          "output_type": "display_data"
        },
        {
          "data": {
            "image/png": "[encoded data removed]",
            "text/plain": [
              "<Figure size 640x480 with 1 Axes>"
            ]
          },
          "metadata": {},
          "output_type": "display_data"
        }
      ],
      "source": [
        "for i in range(0, n_pred):\n",
        "    # how did we do!?\n",
        "    plt.scatter(\n",
        "        sc.inverse_transform(y[:, i].reshape(-1, 1)).reshape(-1),\n",
        "        sc.inverse_transform(oni_predictions[:, i].reshape(-1, 1)).reshape(-1)\n",
        "        )\n",
        "    plt.xlim([-3,3])\n",
        "    plt.ylim([-3,3])\n",
        "    plt.show()"
      ]
    },
    {
      "cell_type": "code",
      "execution_count": 34,
      "metadata": {
        "id": "aZz0E1tTmlaI"
      },
      "outputs": [],
      "source": []
    }
  ],
  "metadata": {
    "colab": {
      "authorship_tag": "ABX9TyN+hpnsBubXAIjnV+hGhMqO",
      "include_colab_link": true,
      "mount_file_id": "1-tlc5GGh7ywSlvTy1btcndCkZMeoS3s2",
      "provenance": [],
      "toc_visible": true
    },
    "kernelspec": {
      "display_name": "keras-tf-v2025",
      "language": "python",
      "name": "python3"
    },
    "language_info": {
      "codemirror_mode": {
        "name": "ipython",
        "version": 3
      },
      "file_extension": ".py",
      "mimetype": "text/x-python",
      "name": "python",
      "nbconvert_exporter": "python",
      "pygments_lexer": "ipython3",
      "version": "3.12.8"
    }
  },
  "nbformat": 4,
  "nbformat_minor": 0
}
