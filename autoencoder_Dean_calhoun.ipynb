{
  "cells": [
    {
      "cell_type": "markdown",
      "metadata": {
        "colab_type": "text",
        "id": "view-in-github"
      },
      "source": [
        "<a href=\"https://colab.research.google.com/github/mariajmolina/UMDAOSC650/blob/main/autoencoder.ipynb\" target=\"_parent\"><img src=\"https://colab.research.google.com/assets/colab-badge.svg\" alt=\"Open In Colab\"/></a>"
      ]
    },
    {
      "cell_type": "code",
      "execution_count": 1,
      "metadata": {
        "id": "7IgRdMrZBxRF"
      },
      "outputs": [],
      "source": [
        "import numpy as np\n",
        "import matplotlib.pyplot as plt\n",
        "import xarray as xr\n",
        "from sklearn.preprocessing import StandardScaler\n",
        "from sklearn.model_selection import train_test_split\n",
        "from sklearn.metrics import mean_squared_error\n",
        "import keras\n",
        "from keras import layers\n",
        "import tensorflow as tf"
      ]
    },
    {
      "cell_type": "code",
      "execution_count": 2,
      "metadata": {
        "id": "Y-RbDEG114eE"
      },
      "outputs": [],
      "source": [
        "# Set the seed using keras.utils.set_random_seed. This will set:\n",
        "# 1) `numpy` seed\n",
        "# 2) backend random seed\n",
        "# 3) `python` random seed\n",
        "keras.utils.set_random_seed(812)"
      ]
    },
    {
      "cell_type": "code",
      "execution_count": 3,
      "metadata": {
        "colab": {
          "base_uri": "https://localhost:8080/"
        },
        "id": "a6Z5jbwtB58E",
        "outputId": "ea77ebe7-3241-4915-c9ef-8b8e43c9f329"
      },
      "outputs": [
        {
          "name": "stdout",
          "output_type": "stream",
          "text": [
            "--2025-04-08 16:03:54--  https://zenodo.org/records/10576726/files/current_SP3hourly_20110427.nc\n",
            "Resolving zenodo.org (zenodo.org)... 188.185.48.194, 188.185.45.92, 188.185.43.25, ...\n",
            "Connecting to zenodo.org (zenodo.org)|188.185.48.194|:443... connected.\n",
            "HTTP request sent, awaiting response... 200 OK\n",
            "Length: 109400556 (104M) [application/octet-stream]\n",
            "Saving to: ‘current_SP3hourly_20110427.nc’\n",
            "\n",
            "current_SP3hourly_2 100%[===================>] 104.33M  21.0MB/s    in 12s     \n",
            "\n",
            "2025-04-08 16:04:06 (9.02 MB/s) - ‘current_SP3hourly_20110427.nc’ saved [109400556/109400556]\n",
            "\n"
          ]
        }
      ],
      "source": [
        "! wget https://zenodo.org/records/10576726/files/current_SP3hourly_20110427.nc"
      ]
    },
    {
      "cell_type": "code",
      "execution_count": 3,
      "metadata": {
        "id": "kvvqhZ8HB8Ot"
      },
      "outputs": [],
      "source": [
        "# import dataset (netcdf)\n",
        "ds = xr.open_dataset('current_SP3hourly_20110427.nc')"
      ]
    },
    {
      "cell_type": "code",
      "execution_count": 4,
      "metadata": {
        "colab": {
          "base_uri": "https://localhost:8080/",
          "height": 489
        },
        "id": "dG2dD1ig-hhO",
        "outputId": "166329f6-6de0-45ef-9820-cf707aa0fe37"
      },
      "outputs": [
        {
          "data": {
            "text/html": [
              "<div><svg style=\"position: absolute; width: 0; height: 0; overflow: hidden\">\n",
              "<defs>\n",
              "<symbol id=\"icon-database\" viewBox=\"0 0 32 32\">\n",
              "<path d=\"M16 0c-8.837 0-16 2.239-16 5v4c0 2.761 7.163 5 16 5s16-2.239 16-5v-4c0-2.761-7.163-5-16-5z\"></path>\n",
              "<path d=\"M16 17c-8.837 0-16-2.239-16-5v6c0 2.761 7.163 5 16 5s16-2.239 16-5v-6c0 2.761-7.163 5-16 5z\"></path>\n",
              "<path d=\"M16 26c-8.837 0-16-2.239-16-5v6c0 2.761 7.163 5 16 5s16-2.239 16-5v-6c0 2.761-7.163 5-16 5z\"></path>\n",
              "</symbol>\n",
              "<symbol id=\"icon-file-text2\" viewBox=\"0 0 32 32\">\n",
              "<path d=\"M28.681 7.159c-0.694-0.947-1.662-2.053-2.724-3.116s-2.169-2.030-3.116-2.724c-1.612-1.182-2.393-1.319-2.841-1.319h-15.5c-1.378 0-2.5 1.121-2.5 2.5v27c0 1.378 1.122 2.5 2.5 2.5h23c1.378 0 2.5-1.122 2.5-2.5v-19.5c0-0.448-0.137-1.23-1.319-2.841zM24.543 5.457c0.959 0.959 1.712 1.825 2.268 2.543h-4.811v-4.811c0.718 0.556 1.584 1.309 2.543 2.268zM28 29.5c0 0.271-0.229 0.5-0.5 0.5h-23c-0.271 0-0.5-0.229-0.5-0.5v-27c0-0.271 0.229-0.5 0.5-0.5 0 0 15.499-0 15.5 0v7c0 0.552 0.448 1 1 1h7v19.5z\"></path>\n",
              "<path d=\"M23 26h-14c-0.552 0-1-0.448-1-1s0.448-1 1-1h14c0.552 0 1 0.448 1 1s-0.448 1-1 1z\"></path>\n",
              "<path d=\"M23 22h-14c-0.552 0-1-0.448-1-1s0.448-1 1-1h14c0.552 0 1 0.448 1 1s-0.448 1-1 1z\"></path>\n",
              "<path d=\"M23 18h-14c-0.552 0-1-0.448-1-1s0.448-1 1-1h14c0.552 0 1 0.448 1 1s-0.448 1-1 1z\"></path>\n",
              "</symbol>\n",
              "</defs>\n",
              "</svg>\n",
              "<style>/* CSS stylesheet for displaying xarray objects in jupyterlab.\n",
              " *\n",
              " */\n",
              "\n",
              ":root {\n",
              "  --xr-font-color0: var(--jp-content-font-color0, rgba(0, 0, 0, 1));\n",
              "  --xr-font-color2: var(--jp-content-font-color2, rgba(0, 0, 0, 0.54));\n",
              "  --xr-font-color3: var(--jp-content-font-color3, rgba(0, 0, 0, 0.38));\n",
              "  --xr-border-color: var(--jp-border-color2, #e0e0e0);\n",
              "  --xr-disabled-color: var(--jp-layout-color3, #bdbdbd);\n",
              "  --xr-background-color: var(--jp-layout-color0, white);\n",
              "  --xr-background-color-row-even: var(--jp-layout-color1, white);\n",
              "  --xr-background-color-row-odd: var(--jp-layout-color2, #eeeeee);\n",
              "}\n",
              "\n",
              "html[theme=\"dark\"],\n",
              "html[data-theme=\"dark\"],\n",
              "body[data-theme=\"dark\"],\n",
              "body.vscode-dark {\n",
              "  --xr-font-color0: rgba(255, 255, 255, 1);\n",
              "  --xr-font-color2: rgba(255, 255, 255, 0.54);\n",
              "  --xr-font-color3: rgba(255, 255, 255, 0.38);\n",
              "  --xr-border-color: #1f1f1f;\n",
              "  --xr-disabled-color: #515151;\n",
              "  --xr-background-color: #111111;\n",
              "  --xr-background-color-row-even: #111111;\n",
              "  --xr-background-color-row-odd: #313131;\n",
              "}\n",
              "\n",
              ".xr-wrap {\n",
              "  display: block !important;\n",
              "  min-width: 300px;\n",
              "  max-width: 700px;\n",
              "}\n",
              "\n",
              ".xr-text-repr-fallback {\n",
              "  /* fallback to plain text repr when CSS is not injected (untrusted notebook) */\n",
              "  display: none;\n",
              "}\n",
              "\n",
              ".xr-header {\n",
              "  padding-top: 6px;\n",
              "  padding-bottom: 6px;\n",
              "  margin-bottom: 4px;\n",
              "  border-bottom: solid 1px var(--xr-border-color);\n",
              "}\n",
              "\n",
              ".xr-header > div,\n",
              ".xr-header > ul {\n",
              "  display: inline;\n",
              "  margin-top: 0;\n",
              "  margin-bottom: 0;\n",
              "}\n",
              "\n",
              ".xr-obj-type,\n",
              ".xr-array-name {\n",
              "  margin-left: 2px;\n",
              "  margin-right: 10px;\n",
              "}\n",
              "\n",
              ".xr-obj-type {\n",
              "  color: var(--xr-font-color2);\n",
              "}\n",
              "\n",
              ".xr-sections {\n",
              "  padding-left: 0 !important;\n",
              "  display: grid;\n",
              "  grid-template-columns: 150px auto auto 1fr 0 20px 0 20px;\n",
              "}\n",
              "\n",
              ".xr-section-item {\n",
              "  display: contents;\n",
              "}\n",
              "\n",
              ".xr-section-item input {\n",
              "  display: inline-block;\n",
              "  opacity: 0;\n",
              "  height: 0;\n",
              "}\n",
              "\n",
              ".xr-section-item input + label {\n",
              "  color: var(--xr-disabled-color);\n",
              "}\n",
              "\n",
              ".xr-section-item input:enabled + label {\n",
              "  cursor: pointer;\n",
              "  color: var(--xr-font-color2);\n",
              "}\n",
              "\n",
              ".xr-section-item input:focus + label {\n",
              "  border: 2px solid var(--xr-font-color0);\n",
              "}\n",
              "\n",
              ".xr-section-item input:enabled + label:hover {\n",
              "  color: var(--xr-font-color0);\n",
              "}\n",
              "\n",
              ".xr-section-summary {\n",
              "  grid-column: 1;\n",
              "  color: var(--xr-font-color2);\n",
              "  font-weight: 500;\n",
              "}\n",
              "\n",
              ".xr-section-summary > span {\n",
              "  display: inline-block;\n",
              "  padding-left: 0.5em;\n",
              "}\n",
              "\n",
              ".xr-section-summary-in:disabled + label {\n",
              "  color: var(--xr-font-color2);\n",
              "}\n",
              "\n",
              ".xr-section-summary-in + label:before {\n",
              "  display: inline-block;\n",
              "  content: \"►\";\n",
              "  font-size: 11px;\n",
              "  width: 15px;\n",
              "  text-align: center;\n",
              "}\n",
              "\n",
              ".xr-section-summary-in:disabled + label:before {\n",
              "  color: var(--xr-disabled-color);\n",
              "}\n",
              "\n",
              ".xr-section-summary-in:checked + label:before {\n",
              "  content: \"▼\";\n",
              "}\n",
              "\n",
              ".xr-section-summary-in:checked + label > span {\n",
              "  display: none;\n",
              "}\n",
              "\n",
              ".xr-section-summary,\n",
              ".xr-section-inline-details {\n",
              "  padding-top: 4px;\n",
              "  padding-bottom: 4px;\n",
              "}\n",
              "\n",
              ".xr-section-inline-details {\n",
              "  grid-column: 2 / -1;\n",
              "}\n",
              "\n",
              ".xr-section-details {\n",
              "  display: none;\n",
              "  grid-column: 1 / -1;\n",
              "  margin-bottom: 5px;\n",
              "}\n",
              "\n",
              ".xr-section-summary-in:checked ~ .xr-section-details {\n",
              "  display: contents;\n",
              "}\n",
              "\n",
              ".xr-array-wrap {\n",
              "  grid-column: 1 / -1;\n",
              "  display: grid;\n",
              "  grid-template-columns: 20px auto;\n",
              "}\n",
              "\n",
              ".xr-array-wrap > label {\n",
              "  grid-column: 1;\n",
              "  vertical-align: top;\n",
              "}\n",
              "\n",
              ".xr-preview {\n",
              "  color: var(--xr-font-color3);\n",
              "}\n",
              "\n",
              ".xr-array-preview,\n",
              ".xr-array-data {\n",
              "  padding: 0 5px !important;\n",
              "  grid-column: 2;\n",
              "}\n",
              "\n",
              ".xr-array-data,\n",
              ".xr-array-in:checked ~ .xr-array-preview {\n",
              "  display: none;\n",
              "}\n",
              "\n",
              ".xr-array-in:checked ~ .xr-array-data,\n",
              ".xr-array-preview {\n",
              "  display: inline-block;\n",
              "}\n",
              "\n",
              ".xr-dim-list {\n",
              "  display: inline-block !important;\n",
              "  list-style: none;\n",
              "  padding: 0 !important;\n",
              "  margin: 0;\n",
              "}\n",
              "\n",
              ".xr-dim-list li {\n",
              "  display: inline-block;\n",
              "  padding: 0;\n",
              "  margin: 0;\n",
              "}\n",
              "\n",
              ".xr-dim-list:before {\n",
              "  content: \"(\";\n",
              "}\n",
              "\n",
              ".xr-dim-list:after {\n",
              "  content: \")\";\n",
              "}\n",
              "\n",
              ".xr-dim-list li:not(:last-child):after {\n",
              "  content: \",\";\n",
              "  padding-right: 5px;\n",
              "}\n",
              "\n",
              ".xr-has-index {\n",
              "  font-weight: bold;\n",
              "}\n",
              "\n",
              ".xr-var-list,\n",
              ".xr-var-item {\n",
              "  display: contents;\n",
              "}\n",
              "\n",
              ".xr-var-item > div,\n",
              ".xr-var-item label,\n",
              ".xr-var-item > .xr-var-name span {\n",
              "  background-color: var(--xr-background-color-row-even);\n",
              "  margin-bottom: 0;\n",
              "}\n",
              "\n",
              ".xr-var-item > .xr-var-name:hover span {\n",
              "  padding-right: 5px;\n",
              "}\n",
              "\n",
              ".xr-var-list > li:nth-child(odd) > div,\n",
              ".xr-var-list > li:nth-child(odd) > label,\n",
              ".xr-var-list > li:nth-child(odd) > .xr-var-name span {\n",
              "  background-color: var(--xr-background-color-row-odd);\n",
              "}\n",
              "\n",
              ".xr-var-name {\n",
              "  grid-column: 1;\n",
              "}\n",
              "\n",
              ".xr-var-dims {\n",
              "  grid-column: 2;\n",
              "}\n",
              "\n",
              ".xr-var-dtype {\n",
              "  grid-column: 3;\n",
              "  text-align: right;\n",
              "  color: var(--xr-font-color2);\n",
              "}\n",
              "\n",
              ".xr-var-preview {\n",
              "  grid-column: 4;\n",
              "}\n",
              "\n",
              ".xr-index-preview {\n",
              "  grid-column: 2 / 5;\n",
              "  color: var(--xr-font-color2);\n",
              "}\n",
              "\n",
              ".xr-var-name,\n",
              ".xr-var-dims,\n",
              ".xr-var-dtype,\n",
              ".xr-preview,\n",
              ".xr-attrs dt {\n",
              "  white-space: nowrap;\n",
              "  overflow: hidden;\n",
              "  text-overflow: ellipsis;\n",
              "  padding-right: 10px;\n",
              "}\n",
              "\n",
              ".xr-var-name:hover,\n",
              ".xr-var-dims:hover,\n",
              ".xr-var-dtype:hover,\n",
              ".xr-attrs dt:hover {\n",
              "  overflow: visible;\n",
              "  width: auto;\n",
              "  z-index: 1;\n",
              "}\n",
              "\n",
              ".xr-var-attrs,\n",
              ".xr-var-data,\n",
              ".xr-index-data {\n",
              "  display: none;\n",
              "  background-color: var(--xr-background-color) !important;\n",
              "  padding-bottom: 5px !important;\n",
              "}\n",
              "\n",
              ".xr-var-attrs-in:checked ~ .xr-var-attrs,\n",
              ".xr-var-data-in:checked ~ .xr-var-data,\n",
              ".xr-index-data-in:checked ~ .xr-index-data {\n",
              "  display: block;\n",
              "}\n",
              "\n",
              ".xr-var-data > table {\n",
              "  float: right;\n",
              "}\n",
              "\n",
              ".xr-var-name span,\n",
              ".xr-var-data,\n",
              ".xr-index-name div,\n",
              ".xr-index-data,\n",
              ".xr-attrs {\n",
              "  padding-left: 25px !important;\n",
              "}\n",
              "\n",
              ".xr-attrs,\n",
              ".xr-var-attrs,\n",
              ".xr-var-data,\n",
              ".xr-index-data {\n",
              "  grid-column: 1 / -1;\n",
              "}\n",
              "\n",
              "dl.xr-attrs {\n",
              "  padding: 0;\n",
              "  margin: 0;\n",
              "  display: grid;\n",
              "  grid-template-columns: 125px auto;\n",
              "}\n",
              "\n",
              ".xr-attrs dt,\n",
              ".xr-attrs dd {\n",
              "  padding: 0;\n",
              "  margin: 0;\n",
              "  float: left;\n",
              "  padding-right: 10px;\n",
              "  width: auto;\n",
              "}\n",
              "\n",
              ".xr-attrs dt {\n",
              "  font-weight: normal;\n",
              "  grid-column: 1;\n",
              "}\n",
              "\n",
              ".xr-attrs dt:hover span {\n",
              "  display: inline-block;\n",
              "  background: var(--xr-background-color);\n",
              "  padding-right: 10px;\n",
              "}\n",
              "\n",
              ".xr-attrs dd {\n",
              "  grid-column: 2;\n",
              "  white-space: pre-wrap;\n",
              "  word-break: break-all;\n",
              "}\n",
              "\n",
              ".xr-icon-database,\n",
              ".xr-icon-file-text2,\n",
              ".xr-no-icon {\n",
              "  display: inline-block;\n",
              "  vertical-align: middle;\n",
              "  width: 1em;\n",
              "  height: 1.5em !important;\n",
              "  stroke-width: 0;\n",
              "  stroke: currentColor;\n",
              "  fill: currentColor;\n",
              "}\n",
              "</style><pre class='xr-text-repr-fallback'>&lt;xarray.Dataset&gt; Size: 109MB\n",
              "Dimensions:      (starttime: 2224, y: 32, x: 32)\n",
              "Coordinates:\n",
              "  * starttime    (starttime) float64 18kB 9.264e+04 9.264e+04 ... 9.266e+04\n",
              "    endtime      (starttime) float64 18kB ...\n",
              "    x_speed      (starttime) int64 18kB ...\n",
              "    y_speed      (starttime) int64 18kB ...\n",
              "Dimensions without coordinates: y, x\n",
              "Data variables:\n",
              "    uh25_grid    (starttime, y, x) float32 9MB ...\n",
              "    uh03_grid    (starttime, y, x) float32 9MB ...\n",
              "    ctt_grid     (starttime, y, x) float32 9MB ...\n",
              "    dbz_grid     (starttime, y, x) float32 9MB ...\n",
              "    mask         (starttime, y, x) int64 18MB ...\n",
              "    row_indices  (starttime, y, x) int64 18MB ...\n",
              "    col_indices  (starttime, y, x) int64 18MB ...\n",
              "    lats         (starttime, y, x) float32 9MB ...\n",
              "    lons         (starttime, y, x) float32 9MB ...</pre><div class='xr-wrap' style='display:none'><div class='xr-header'><div class='xr-obj-type'>xarray.Dataset</div></div><ul class='xr-sections'><li class='xr-section-item'><input id='section-4fc941dd-46af-4486-a5ae-92022b4380b5' class='xr-section-summary-in' type='checkbox' disabled ><label for='section-4fc941dd-46af-4486-a5ae-92022b4380b5' class='xr-section-summary'  title='Expand/collapse section'>Dimensions:</label><div class='xr-section-inline-details'><ul class='xr-dim-list'><li><span class='xr-has-index'>starttime</span>: 2224</li><li><span>y</span>: 32</li><li><span>x</span>: 32</li></ul></div><div class='xr-section-details'></div></li><li class='xr-section-item'><input id='section-a06ae32a-ea0d-4f89-8cef-29d1e3e2e59e' class='xr-section-summary-in' type='checkbox'  checked><label for='section-a06ae32a-ea0d-4f89-8cef-29d1e3e2e59e' class='xr-section-summary' >Coordinates: <span>(4)</span></label><div class='xr-section-inline-details'></div><div class='xr-section-details'><ul class='xr-var-list'><li class='xr-var-item'><div class='xr-var-name'><span class='xr-has-index'>starttime</span></div><div class='xr-var-dims'>(starttime)</div><div class='xr-var-dtype'>float64</div><div class='xr-var-preview xr-preview'>9.264e+04 9.264e+04 ... 9.266e+04</div><input id='attrs-065580fa-5f1c-4195-b01a-23be7b42240c' class='xr-var-attrs-in' type='checkbox' disabled><label for='attrs-065580fa-5f1c-4195-b01a-23be7b42240c' title='Show/Hide attributes'><svg class='icon xr-icon-file-text2'><use xlink:href='#icon-file-text2'></use></svg></label><input id='data-09a731e3-b39a-461b-9836-efd07ecd0dae' class='xr-var-data-in' type='checkbox'><label for='data-09a731e3-b39a-461b-9836-efd07ecd0dae' title='Show/Hide data repr'><svg class='icon xr-icon-database'><use xlink:href='#icon-database'></use></svg></label><div class='xr-var-attrs'><dl class='xr-attrs'></dl></div><div class='xr-var-data'><pre>array([92640., 92640., 92640., ..., 92661., 92661., 92661.])</pre></div></li><li class='xr-var-item'><div class='xr-var-name'><span>endtime</span></div><div class='xr-var-dims'>(starttime)</div><div class='xr-var-dtype'>float64</div><div class='xr-var-preview xr-preview'>...</div><input id='attrs-e3be0c83-59e8-4856-a62e-35d6c90c5bd6' class='xr-var-attrs-in' type='checkbox' disabled><label for='attrs-e3be0c83-59e8-4856-a62e-35d6c90c5bd6' title='Show/Hide attributes'><svg class='icon xr-icon-file-text2'><use xlink:href='#icon-file-text2'></use></svg></label><input id='data-af7e2388-2125-489d-915c-da1352950f01' class='xr-var-data-in' type='checkbox'><label for='data-af7e2388-2125-489d-915c-da1352950f01' title='Show/Hide data repr'><svg class='icon xr-icon-database'><use xlink:href='#icon-database'></use></svg></label><div class='xr-var-attrs'><dl class='xr-attrs'></dl></div><div class='xr-var-data'><pre>[2224 values with dtype=float64]</pre></div></li><li class='xr-var-item'><div class='xr-var-name'><span>x_speed</span></div><div class='xr-var-dims'>(starttime)</div><div class='xr-var-dtype'>int64</div><div class='xr-var-preview xr-preview'>...</div><input id='attrs-22d62e2e-48ec-47b3-8f4c-9a48fb281a3a' class='xr-var-attrs-in' type='checkbox' disabled><label for='attrs-22d62e2e-48ec-47b3-8f4c-9a48fb281a3a' title='Show/Hide attributes'><svg class='icon xr-icon-file-text2'><use xlink:href='#icon-file-text2'></use></svg></label><input id='data-810eca51-32e6-430b-8bbf-abdb8b446aa8' class='xr-var-data-in' type='checkbox'><label for='data-810eca51-32e6-430b-8bbf-abdb8b446aa8' title='Show/Hide data repr'><svg class='icon xr-icon-database'><use xlink:href='#icon-database'></use></svg></label><div class='xr-var-attrs'><dl class='xr-attrs'></dl></div><div class='xr-var-data'><pre>[2224 values with dtype=int64]</pre></div></li><li class='xr-var-item'><div class='xr-var-name'><span>y_speed</span></div><div class='xr-var-dims'>(starttime)</div><div class='xr-var-dtype'>int64</div><div class='xr-var-preview xr-preview'>...</div><input id='attrs-51621c31-8e27-468c-8f4d-6ff4bdffdac3' class='xr-var-attrs-in' type='checkbox' disabled><label for='attrs-51621c31-8e27-468c-8f4d-6ff4bdffdac3' title='Show/Hide attributes'><svg class='icon xr-icon-file-text2'><use xlink:href='#icon-file-text2'></use></svg></label><input id='data-fa248574-da15-4883-a345-349a6f00c19e' class='xr-var-data-in' type='checkbox'><label for='data-fa248574-da15-4883-a345-349a6f00c19e' title='Show/Hide data repr'><svg class='icon xr-icon-database'><use xlink:href='#icon-database'></use></svg></label><div class='xr-var-attrs'><dl class='xr-attrs'></dl></div><div class='xr-var-data'><pre>[2224 values with dtype=int64]</pre></div></li></ul></div></li><li class='xr-section-item'><input id='section-bb5e6715-7a1a-4f01-833e-16da239a5237' class='xr-section-summary-in' type='checkbox'  checked><label for='section-bb5e6715-7a1a-4f01-833e-16da239a5237' class='xr-section-summary' >Data variables: <span>(9)</span></label><div class='xr-section-inline-details'></div><div class='xr-section-details'><ul class='xr-var-list'><li class='xr-var-item'><div class='xr-var-name'><span>uh25_grid</span></div><div class='xr-var-dims'>(starttime, y, x)</div><div class='xr-var-dtype'>float32</div><div class='xr-var-preview xr-preview'>...</div><input id='attrs-0a1df952-f3bf-4dac-94e1-8263c3077ce2' class='xr-var-attrs-in' type='checkbox' disabled><label for='attrs-0a1df952-f3bf-4dac-94e1-8263c3077ce2' title='Show/Hide attributes'><svg class='icon xr-icon-file-text2'><use xlink:href='#icon-file-text2'></use></svg></label><input id='data-f2da51f2-7242-43fc-a005-1a464bb48f80' class='xr-var-data-in' type='checkbox'><label for='data-f2da51f2-7242-43fc-a005-1a464bb48f80' title='Show/Hide data repr'><svg class='icon xr-icon-database'><use xlink:href='#icon-database'></use></svg></label><div class='xr-var-attrs'><dl class='xr-attrs'></dl></div><div class='xr-var-data'><pre>[2277376 values with dtype=float32]</pre></div></li><li class='xr-var-item'><div class='xr-var-name'><span>uh03_grid</span></div><div class='xr-var-dims'>(starttime, y, x)</div><div class='xr-var-dtype'>float32</div><div class='xr-var-preview xr-preview'>...</div><input id='attrs-1099ca73-0ef4-47eb-beec-c7da57eede97' class='xr-var-attrs-in' type='checkbox' disabled><label for='attrs-1099ca73-0ef4-47eb-beec-c7da57eede97' title='Show/Hide attributes'><svg class='icon xr-icon-file-text2'><use xlink:href='#icon-file-text2'></use></svg></label><input id='data-4a971f4a-803c-4130-a107-72a5dd2d7fe2' class='xr-var-data-in' type='checkbox'><label for='data-4a971f4a-803c-4130-a107-72a5dd2d7fe2' title='Show/Hide data repr'><svg class='icon xr-icon-database'><use xlink:href='#icon-database'></use></svg></label><div class='xr-var-attrs'><dl class='xr-attrs'></dl></div><div class='xr-var-data'><pre>[2277376 values with dtype=float32]</pre></div></li><li class='xr-var-item'><div class='xr-var-name'><span>ctt_grid</span></div><div class='xr-var-dims'>(starttime, y, x)</div><div class='xr-var-dtype'>float32</div><div class='xr-var-preview xr-preview'>...</div><input id='attrs-b66ea658-55d2-414a-80fa-58151909774e' class='xr-var-attrs-in' type='checkbox' disabled><label for='attrs-b66ea658-55d2-414a-80fa-58151909774e' title='Show/Hide attributes'><svg class='icon xr-icon-file-text2'><use xlink:href='#icon-file-text2'></use></svg></label><input id='data-99428eb3-1f66-4cf9-b6b2-6574341f9a51' class='xr-var-data-in' type='checkbox'><label for='data-99428eb3-1f66-4cf9-b6b2-6574341f9a51' title='Show/Hide data repr'><svg class='icon xr-icon-database'><use xlink:href='#icon-database'></use></svg></label><div class='xr-var-attrs'><dl class='xr-attrs'></dl></div><div class='xr-var-data'><pre>[2277376 values with dtype=float32]</pre></div></li><li class='xr-var-item'><div class='xr-var-name'><span>dbz_grid</span></div><div class='xr-var-dims'>(starttime, y, x)</div><div class='xr-var-dtype'>float32</div><div class='xr-var-preview xr-preview'>...</div><input id='attrs-3d8553d8-7df0-4b2c-a8e3-7eb8010baabe' class='xr-var-attrs-in' type='checkbox' disabled><label for='attrs-3d8553d8-7df0-4b2c-a8e3-7eb8010baabe' title='Show/Hide attributes'><svg class='icon xr-icon-file-text2'><use xlink:href='#icon-file-text2'></use></svg></label><input id='data-63a5a826-b49a-4639-8e9e-934ac816e60e' class='xr-var-data-in' type='checkbox'><label for='data-63a5a826-b49a-4639-8e9e-934ac816e60e' title='Show/Hide data repr'><svg class='icon xr-icon-database'><use xlink:href='#icon-database'></use></svg></label><div class='xr-var-attrs'><dl class='xr-attrs'></dl></div><div class='xr-var-data'><pre>[2277376 values with dtype=float32]</pre></div></li><li class='xr-var-item'><div class='xr-var-name'><span>mask</span></div><div class='xr-var-dims'>(starttime, y, x)</div><div class='xr-var-dtype'>int64</div><div class='xr-var-preview xr-preview'>...</div><input id='attrs-b59aa316-b4ba-4d8d-be24-f11f07598a62' class='xr-var-attrs-in' type='checkbox' disabled><label for='attrs-b59aa316-b4ba-4d8d-be24-f11f07598a62' title='Show/Hide attributes'><svg class='icon xr-icon-file-text2'><use xlink:href='#icon-file-text2'></use></svg></label><input id='data-c744f064-de85-4ea9-88ff-295b3c4bf983' class='xr-var-data-in' type='checkbox'><label for='data-c744f064-de85-4ea9-88ff-295b3c4bf983' title='Show/Hide data repr'><svg class='icon xr-icon-database'><use xlink:href='#icon-database'></use></svg></label><div class='xr-var-attrs'><dl class='xr-attrs'></dl></div><div class='xr-var-data'><pre>[2277376 values with dtype=int64]</pre></div></li><li class='xr-var-item'><div class='xr-var-name'><span>row_indices</span></div><div class='xr-var-dims'>(starttime, y, x)</div><div class='xr-var-dtype'>int64</div><div class='xr-var-preview xr-preview'>...</div><input id='attrs-bc9a3fd3-4259-423f-9548-44f7293844dd' class='xr-var-attrs-in' type='checkbox' disabled><label for='attrs-bc9a3fd3-4259-423f-9548-44f7293844dd' title='Show/Hide attributes'><svg class='icon xr-icon-file-text2'><use xlink:href='#icon-file-text2'></use></svg></label><input id='data-472e9adf-66cd-489f-ba93-08f255dbe053' class='xr-var-data-in' type='checkbox'><label for='data-472e9adf-66cd-489f-ba93-08f255dbe053' title='Show/Hide data repr'><svg class='icon xr-icon-database'><use xlink:href='#icon-database'></use></svg></label><div class='xr-var-attrs'><dl class='xr-attrs'></dl></div><div class='xr-var-data'><pre>[2277376 values with dtype=int64]</pre></div></li><li class='xr-var-item'><div class='xr-var-name'><span>col_indices</span></div><div class='xr-var-dims'>(starttime, y, x)</div><div class='xr-var-dtype'>int64</div><div class='xr-var-preview xr-preview'>...</div><input id='attrs-e16363e9-1d43-4149-a073-b5fcdcb89aae' class='xr-var-attrs-in' type='checkbox' disabled><label for='attrs-e16363e9-1d43-4149-a073-b5fcdcb89aae' title='Show/Hide attributes'><svg class='icon xr-icon-file-text2'><use xlink:href='#icon-file-text2'></use></svg></label><input id='data-3f66a308-4635-4764-ae47-8241f974c6b6' class='xr-var-data-in' type='checkbox'><label for='data-3f66a308-4635-4764-ae47-8241f974c6b6' title='Show/Hide data repr'><svg class='icon xr-icon-database'><use xlink:href='#icon-database'></use></svg></label><div class='xr-var-attrs'><dl class='xr-attrs'></dl></div><div class='xr-var-data'><pre>[2277376 values with dtype=int64]</pre></div></li><li class='xr-var-item'><div class='xr-var-name'><span>lats</span></div><div class='xr-var-dims'>(starttime, y, x)</div><div class='xr-var-dtype'>float32</div><div class='xr-var-preview xr-preview'>...</div><input id='attrs-df674356-441d-41a3-9501-a50fda90b7d9' class='xr-var-attrs-in' type='checkbox' disabled><label for='attrs-df674356-441d-41a3-9501-a50fda90b7d9' title='Show/Hide attributes'><svg class='icon xr-icon-file-text2'><use xlink:href='#icon-file-text2'></use></svg></label><input id='data-b9a8acfd-d88c-4471-b07d-342e3e7b8363' class='xr-var-data-in' type='checkbox'><label for='data-b9a8acfd-d88c-4471-b07d-342e3e7b8363' title='Show/Hide data repr'><svg class='icon xr-icon-database'><use xlink:href='#icon-database'></use></svg></label><div class='xr-var-attrs'><dl class='xr-attrs'></dl></div><div class='xr-var-data'><pre>[2277376 values with dtype=float32]</pre></div></li><li class='xr-var-item'><div class='xr-var-name'><span>lons</span></div><div class='xr-var-dims'>(starttime, y, x)</div><div class='xr-var-dtype'>float32</div><div class='xr-var-preview xr-preview'>...</div><input id='attrs-1ededd87-f553-4cbf-8be8-d7d6365cd150' class='xr-var-attrs-in' type='checkbox' disabled><label for='attrs-1ededd87-f553-4cbf-8be8-d7d6365cd150' title='Show/Hide attributes'><svg class='icon xr-icon-file-text2'><use xlink:href='#icon-file-text2'></use></svg></label><input id='data-0a4dff51-3208-4e81-8ef9-836913159e2d' class='xr-var-data-in' type='checkbox'><label for='data-0a4dff51-3208-4e81-8ef9-836913159e2d' title='Show/Hide data repr'><svg class='icon xr-icon-database'><use xlink:href='#icon-database'></use></svg></label><div class='xr-var-attrs'><dl class='xr-attrs'></dl></div><div class='xr-var-data'><pre>[2277376 values with dtype=float32]</pre></div></li></ul></div></li><li class='xr-section-item'><input id='section-fbd7be60-bba2-4e96-8cba-f1cb74a0b11b' class='xr-section-summary-in' type='checkbox'  ><label for='section-fbd7be60-bba2-4e96-8cba-f1cb74a0b11b' class='xr-section-summary' >Indexes: <span>(1)</span></label><div class='xr-section-inline-details'></div><div class='xr-section-details'><ul class='xr-var-list'><li class='xr-var-item'><div class='xr-index-name'><div>starttime</div></div><div class='xr-index-preview'>PandasIndex</div><input type='checkbox' disabled/><label></label><input id='index-42eeb236-6e23-44ec-82ad-1ae7c79d86d7' class='xr-index-data-in' type='checkbox'/><label for='index-42eeb236-6e23-44ec-82ad-1ae7c79d86d7' title='Show/Hide index repr'><svg class='icon xr-icon-database'><use xlink:href='#icon-database'></use></svg></label><div class='xr-index-data'><pre>PandasIndex(Index([92640.0, 92640.0, 92640.0, 92640.0, 92640.0, 92640.0, 92640.0, 92640.0,\n",
              "       92640.0, 92640.0,\n",
              "       ...\n",
              "       92661.0, 92661.0, 92661.0, 92661.0, 92661.0, 92661.0, 92661.0, 92661.0,\n",
              "       92661.0, 92661.0],\n",
              "      dtype=&#x27;float64&#x27;, name=&#x27;starttime&#x27;, length=2224))</pre></div></li></ul></div></li><li class='xr-section-item'><input id='section-28dcf28b-c709-481f-8d95-17630c507e31' class='xr-section-summary-in' type='checkbox' disabled ><label for='section-28dcf28b-c709-481f-8d95-17630c507e31' class='xr-section-summary'  title='Expand/collapse section'>Attributes: <span>(0)</span></label><div class='xr-section-inline-details'></div><div class='xr-section-details'><dl class='xr-attrs'></dl></div></li></ul></div></div>"
            ],
            "text/plain": [
              "<xarray.Dataset> Size: 109MB\n",
              "Dimensions:      (starttime: 2224, y: 32, x: 32)\n",
              "Coordinates:\n",
              "  * starttime    (starttime) float64 18kB 9.264e+04 9.264e+04 ... 9.266e+04\n",
              "    endtime      (starttime) float64 18kB ...\n",
              "    x_speed      (starttime) int64 18kB ...\n",
              "    y_speed      (starttime) int64 18kB ...\n",
              "Dimensions without coordinates: y, x\n",
              "Data variables:\n",
              "    uh25_grid    (starttime, y, x) float32 9MB ...\n",
              "    uh03_grid    (starttime, y, x) float32 9MB ...\n",
              "    ctt_grid     (starttime, y, x) float32 9MB ...\n",
              "    dbz_grid     (starttime, y, x) float32 9MB ...\n",
              "    mask         (starttime, y, x) int64 18MB ...\n",
              "    row_indices  (starttime, y, x) int64 18MB ...\n",
              "    col_indices  (starttime, y, x) int64 18MB ...\n",
              "    lats         (starttime, y, x) float32 9MB ...\n",
              "    lons         (starttime, y, x) float32 9MB ..."
            ]
          },
          "execution_count": 4,
          "metadata": {},
          "output_type": "execute_result"
        }
      ],
      "source": [
        "ds"
      ]
    },
    {
      "cell_type": "markdown",
      "metadata": {
        "id": "wVklUrN4Ekw2"
      },
      "source": [
        "## ANN Autoencoder"
      ]
    },
    {
      "cell_type": "markdown",
      "metadata": {
        "id": "qqoNw_88CTV3"
      },
      "source": [
        "We will again use the previous data, but this time we will focus on reconstructing one input variable (feature)."
      ]
    },
    {
      "cell_type": "code",
      "execution_count": 5,
      "metadata": {
        "colab": {
          "base_uri": "https://localhost:8080/",
          "height": 264
        },
        "id": "x1tCi9N9_Fhu",
        "outputId": "3d4c4fe6-8773-49b3-c1cb-a68bf4fbc54b"
      },
      "outputs": [
        {
          "data": {
            "text/html": [
              "<div><svg style=\"position: absolute; width: 0; height: 0; overflow: hidden\">\n",
              "<defs>\n",
              "<symbol id=\"icon-database\" viewBox=\"0 0 32 32\">\n",
              "<path d=\"M16 0c-8.837 0-16 2.239-16 5v4c0 2.761 7.163 5 16 5s16-2.239 16-5v-4c0-2.761-7.163-5-16-5z\"></path>\n",
              "<path d=\"M16 17c-8.837 0-16-2.239-16-5v6c0 2.761 7.163 5 16 5s16-2.239 16-5v-6c0 2.761-7.163 5-16 5z\"></path>\n",
              "<path d=\"M16 26c-8.837 0-16-2.239-16-5v6c0 2.761 7.163 5 16 5s16-2.239 16-5v-6c0 2.761-7.163 5-16 5z\"></path>\n",
              "</symbol>\n",
              "<symbol id=\"icon-file-text2\" viewBox=\"0 0 32 32\">\n",
              "<path d=\"M28.681 7.159c-0.694-0.947-1.662-2.053-2.724-3.116s-2.169-2.030-3.116-2.724c-1.612-1.182-2.393-1.319-2.841-1.319h-15.5c-1.378 0-2.5 1.121-2.5 2.5v27c0 1.378 1.122 2.5 2.5 2.5h23c1.378 0 2.5-1.122 2.5-2.5v-19.5c0-0.448-0.137-1.23-1.319-2.841zM24.543 5.457c0.959 0.959 1.712 1.825 2.268 2.543h-4.811v-4.811c0.718 0.556 1.584 1.309 2.543 2.268zM28 29.5c0 0.271-0.229 0.5-0.5 0.5h-23c-0.271 0-0.5-0.229-0.5-0.5v-27c0-0.271 0.229-0.5 0.5-0.5 0 0 15.499-0 15.5 0v7c0 0.552 0.448 1 1 1h7v19.5z\"></path>\n",
              "<path d=\"M23 26h-14c-0.552 0-1-0.448-1-1s0.448-1 1-1h14c0.552 0 1 0.448 1 1s-0.448 1-1 1z\"></path>\n",
              "<path d=\"M23 22h-14c-0.552 0-1-0.448-1-1s0.448-1 1-1h14c0.552 0 1 0.448 1 1s-0.448 1-1 1z\"></path>\n",
              "<path d=\"M23 18h-14c-0.552 0-1-0.448-1-1s0.448-1 1-1h14c0.552 0 1 0.448 1 1s-0.448 1-1 1z\"></path>\n",
              "</symbol>\n",
              "</defs>\n",
              "</svg>\n",
              "<style>/* CSS stylesheet for displaying xarray objects in jupyterlab.\n",
              " *\n",
              " */\n",
              "\n",
              ":root {\n",
              "  --xr-font-color0: var(--jp-content-font-color0, rgba(0, 0, 0, 1));\n",
              "  --xr-font-color2: var(--jp-content-font-color2, rgba(0, 0, 0, 0.54));\n",
              "  --xr-font-color3: var(--jp-content-font-color3, rgba(0, 0, 0, 0.38));\n",
              "  --xr-border-color: var(--jp-border-color2, #e0e0e0);\n",
              "  --xr-disabled-color: var(--jp-layout-color3, #bdbdbd);\n",
              "  --xr-background-color: var(--jp-layout-color0, white);\n",
              "  --xr-background-color-row-even: var(--jp-layout-color1, white);\n",
              "  --xr-background-color-row-odd: var(--jp-layout-color2, #eeeeee);\n",
              "}\n",
              "\n",
              "html[theme=\"dark\"],\n",
              "html[data-theme=\"dark\"],\n",
              "body[data-theme=\"dark\"],\n",
              "body.vscode-dark {\n",
              "  --xr-font-color0: rgba(255, 255, 255, 1);\n",
              "  --xr-font-color2: rgba(255, 255, 255, 0.54);\n",
              "  --xr-font-color3: rgba(255, 255, 255, 0.38);\n",
              "  --xr-border-color: #1f1f1f;\n",
              "  --xr-disabled-color: #515151;\n",
              "  --xr-background-color: #111111;\n",
              "  --xr-background-color-row-even: #111111;\n",
              "  --xr-background-color-row-odd: #313131;\n",
              "}\n",
              "\n",
              ".xr-wrap {\n",
              "  display: block !important;\n",
              "  min-width: 300px;\n",
              "  max-width: 700px;\n",
              "}\n",
              "\n",
              ".xr-text-repr-fallback {\n",
              "  /* fallback to plain text repr when CSS is not injected (untrusted notebook) */\n",
              "  display: none;\n",
              "}\n",
              "\n",
              ".xr-header {\n",
              "  padding-top: 6px;\n",
              "  padding-bottom: 6px;\n",
              "  margin-bottom: 4px;\n",
              "  border-bottom: solid 1px var(--xr-border-color);\n",
              "}\n",
              "\n",
              ".xr-header > div,\n",
              ".xr-header > ul {\n",
              "  display: inline;\n",
              "  margin-top: 0;\n",
              "  margin-bottom: 0;\n",
              "}\n",
              "\n",
              ".xr-obj-type,\n",
              ".xr-array-name {\n",
              "  margin-left: 2px;\n",
              "  margin-right: 10px;\n",
              "}\n",
              "\n",
              ".xr-obj-type {\n",
              "  color: var(--xr-font-color2);\n",
              "}\n",
              "\n",
              ".xr-sections {\n",
              "  padding-left: 0 !important;\n",
              "  display: grid;\n",
              "  grid-template-columns: 150px auto auto 1fr 0 20px 0 20px;\n",
              "}\n",
              "\n",
              ".xr-section-item {\n",
              "  display: contents;\n",
              "}\n",
              "\n",
              ".xr-section-item input {\n",
              "  display: inline-block;\n",
              "  opacity: 0;\n",
              "  height: 0;\n",
              "}\n",
              "\n",
              ".xr-section-item input + label {\n",
              "  color: var(--xr-disabled-color);\n",
              "}\n",
              "\n",
              ".xr-section-item input:enabled + label {\n",
              "  cursor: pointer;\n",
              "  color: var(--xr-font-color2);\n",
              "}\n",
              "\n",
              ".xr-section-item input:focus + label {\n",
              "  border: 2px solid var(--xr-font-color0);\n",
              "}\n",
              "\n",
              ".xr-section-item input:enabled + label:hover {\n",
              "  color: var(--xr-font-color0);\n",
              "}\n",
              "\n",
              ".xr-section-summary {\n",
              "  grid-column: 1;\n",
              "  color: var(--xr-font-color2);\n",
              "  font-weight: 500;\n",
              "}\n",
              "\n",
              ".xr-section-summary > span {\n",
              "  display: inline-block;\n",
              "  padding-left: 0.5em;\n",
              "}\n",
              "\n",
              ".xr-section-summary-in:disabled + label {\n",
              "  color: var(--xr-font-color2);\n",
              "}\n",
              "\n",
              ".xr-section-summary-in + label:before {\n",
              "  display: inline-block;\n",
              "  content: \"►\";\n",
              "  font-size: 11px;\n",
              "  width: 15px;\n",
              "  text-align: center;\n",
              "}\n",
              "\n",
              ".xr-section-summary-in:disabled + label:before {\n",
              "  color: var(--xr-disabled-color);\n",
              "}\n",
              "\n",
              ".xr-section-summary-in:checked + label:before {\n",
              "  content: \"▼\";\n",
              "}\n",
              "\n",
              ".xr-section-summary-in:checked + label > span {\n",
              "  display: none;\n",
              "}\n",
              "\n",
              ".xr-section-summary,\n",
              ".xr-section-inline-details {\n",
              "  padding-top: 4px;\n",
              "  padding-bottom: 4px;\n",
              "}\n",
              "\n",
              ".xr-section-inline-details {\n",
              "  grid-column: 2 / -1;\n",
              "}\n",
              "\n",
              ".xr-section-details {\n",
              "  display: none;\n",
              "  grid-column: 1 / -1;\n",
              "  margin-bottom: 5px;\n",
              "}\n",
              "\n",
              ".xr-section-summary-in:checked ~ .xr-section-details {\n",
              "  display: contents;\n",
              "}\n",
              "\n",
              ".xr-array-wrap {\n",
              "  grid-column: 1 / -1;\n",
              "  display: grid;\n",
              "  grid-template-columns: 20px auto;\n",
              "}\n",
              "\n",
              ".xr-array-wrap > label {\n",
              "  grid-column: 1;\n",
              "  vertical-align: top;\n",
              "}\n",
              "\n",
              ".xr-preview {\n",
              "  color: var(--xr-font-color3);\n",
              "}\n",
              "\n",
              ".xr-array-preview,\n",
              ".xr-array-data {\n",
              "  padding: 0 5px !important;\n",
              "  grid-column: 2;\n",
              "}\n",
              "\n",
              ".xr-array-data,\n",
              ".xr-array-in:checked ~ .xr-array-preview {\n",
              "  display: none;\n",
              "}\n",
              "\n",
              ".xr-array-in:checked ~ .xr-array-data,\n",
              ".xr-array-preview {\n",
              "  display: inline-block;\n",
              "}\n",
              "\n",
              ".xr-dim-list {\n",
              "  display: inline-block !important;\n",
              "  list-style: none;\n",
              "  padding: 0 !important;\n",
              "  margin: 0;\n",
              "}\n",
              "\n",
              ".xr-dim-list li {\n",
              "  display: inline-block;\n",
              "  padding: 0;\n",
              "  margin: 0;\n",
              "}\n",
              "\n",
              ".xr-dim-list:before {\n",
              "  content: \"(\";\n",
              "}\n",
              "\n",
              ".xr-dim-list:after {\n",
              "  content: \")\";\n",
              "}\n",
              "\n",
              ".xr-dim-list li:not(:last-child):after {\n",
              "  content: \",\";\n",
              "  padding-right: 5px;\n",
              "}\n",
              "\n",
              ".xr-has-index {\n",
              "  font-weight: bold;\n",
              "}\n",
              "\n",
              ".xr-var-list,\n",
              ".xr-var-item {\n",
              "  display: contents;\n",
              "}\n",
              "\n",
              ".xr-var-item > div,\n",
              ".xr-var-item label,\n",
              ".xr-var-item > .xr-var-name span {\n",
              "  background-color: var(--xr-background-color-row-even);\n",
              "  margin-bottom: 0;\n",
              "}\n",
              "\n",
              ".xr-var-item > .xr-var-name:hover span {\n",
              "  padding-right: 5px;\n",
              "}\n",
              "\n",
              ".xr-var-list > li:nth-child(odd) > div,\n",
              ".xr-var-list > li:nth-child(odd) > label,\n",
              ".xr-var-list > li:nth-child(odd) > .xr-var-name span {\n",
              "  background-color: var(--xr-background-color-row-odd);\n",
              "}\n",
              "\n",
              ".xr-var-name {\n",
              "  grid-column: 1;\n",
              "}\n",
              "\n",
              ".xr-var-dims {\n",
              "  grid-column: 2;\n",
              "}\n",
              "\n",
              ".xr-var-dtype {\n",
              "  grid-column: 3;\n",
              "  text-align: right;\n",
              "  color: var(--xr-font-color2);\n",
              "}\n",
              "\n",
              ".xr-var-preview {\n",
              "  grid-column: 4;\n",
              "}\n",
              "\n",
              ".xr-index-preview {\n",
              "  grid-column: 2 / 5;\n",
              "  color: var(--xr-font-color2);\n",
              "}\n",
              "\n",
              ".xr-var-name,\n",
              ".xr-var-dims,\n",
              ".xr-var-dtype,\n",
              ".xr-preview,\n",
              ".xr-attrs dt {\n",
              "  white-space: nowrap;\n",
              "  overflow: hidden;\n",
              "  text-overflow: ellipsis;\n",
              "  padding-right: 10px;\n",
              "}\n",
              "\n",
              ".xr-var-name:hover,\n",
              ".xr-var-dims:hover,\n",
              ".xr-var-dtype:hover,\n",
              ".xr-attrs dt:hover {\n",
              "  overflow: visible;\n",
              "  width: auto;\n",
              "  z-index: 1;\n",
              "}\n",
              "\n",
              ".xr-var-attrs,\n",
              ".xr-var-data,\n",
              ".xr-index-data {\n",
              "  display: none;\n",
              "  background-color: var(--xr-background-color) !important;\n",
              "  padding-bottom: 5px !important;\n",
              "}\n",
              "\n",
              ".xr-var-attrs-in:checked ~ .xr-var-attrs,\n",
              ".xr-var-data-in:checked ~ .xr-var-data,\n",
              ".xr-index-data-in:checked ~ .xr-index-data {\n",
              "  display: block;\n",
              "}\n",
              "\n",
              ".xr-var-data > table {\n",
              "  float: right;\n",
              "}\n",
              "\n",
              ".xr-var-name span,\n",
              ".xr-var-data,\n",
              ".xr-index-name div,\n",
              ".xr-index-data,\n",
              ".xr-attrs {\n",
              "  padding-left: 25px !important;\n",
              "}\n",
              "\n",
              ".xr-attrs,\n",
              ".xr-var-attrs,\n",
              ".xr-var-data,\n",
              ".xr-index-data {\n",
              "  grid-column: 1 / -1;\n",
              "}\n",
              "\n",
              "dl.xr-attrs {\n",
              "  padding: 0;\n",
              "  margin: 0;\n",
              "  display: grid;\n",
              "  grid-template-columns: 125px auto;\n",
              "}\n",
              "\n",
              ".xr-attrs dt,\n",
              ".xr-attrs dd {\n",
              "  padding: 0;\n",
              "  margin: 0;\n",
              "  float: left;\n",
              "  padding-right: 10px;\n",
              "  width: auto;\n",
              "}\n",
              "\n",
              ".xr-attrs dt {\n",
              "  font-weight: normal;\n",
              "  grid-column: 1;\n",
              "}\n",
              "\n",
              ".xr-attrs dt:hover span {\n",
              "  display: inline-block;\n",
              "  background: var(--xr-background-color);\n",
              "  padding-right: 10px;\n",
              "}\n",
              "\n",
              ".xr-attrs dd {\n",
              "  grid-column: 2;\n",
              "  white-space: pre-wrap;\n",
              "  word-break: break-all;\n",
              "}\n",
              "\n",
              ".xr-icon-database,\n",
              ".xr-icon-file-text2,\n",
              ".xr-no-icon {\n",
              "  display: inline-block;\n",
              "  vertical-align: middle;\n",
              "  width: 1em;\n",
              "  height: 1.5em !important;\n",
              "  stroke-width: 0;\n",
              "  stroke: currentColor;\n",
              "  fill: currentColor;\n",
              "}\n",
              "</style><pre class='xr-text-repr-fallback'>&lt;xarray.DataArray &#x27;dbz_grid&#x27; (starttime: 2224, y: 32, x: 32)&gt; Size: 9MB\n",
              "[2277376 values with dtype=float32]\n",
              "Coordinates:\n",
              "  * starttime  (starttime) float64 18kB 9.264e+04 9.264e+04 ... 9.266e+04\n",
              "    endtime    (starttime) float64 18kB ...\n",
              "    x_speed    (starttime) int64 18kB ...\n",
              "    y_speed    (starttime) int64 18kB ...\n",
              "Dimensions without coordinates: y, x</pre><div class='xr-wrap' style='display:none'><div class='xr-header'><div class='xr-obj-type'>xarray.DataArray</div><div class='xr-array-name'>'dbz_grid'</div><ul class='xr-dim-list'><li><span class='xr-has-index'>starttime</span>: 2224</li><li><span>y</span>: 32</li><li><span>x</span>: 32</li></ul></div><ul class='xr-sections'><li class='xr-section-item'><div class='xr-array-wrap'><input id='section-c3454322-8955-4fd4-ab24-d3bbe738580f' class='xr-array-in' type='checkbox' checked><label for='section-c3454322-8955-4fd4-ab24-d3bbe738580f' title='Show/hide data repr'><svg class='icon xr-icon-database'><use xlink:href='#icon-database'></use></svg></label><div class='xr-array-preview xr-preview'><span>...</span></div><div class='xr-array-data'><pre>[2277376 values with dtype=float32]</pre></div></div></li><li class='xr-section-item'><input id='section-db2e91ab-79c6-49f5-beed-16d0d70ee756' class='xr-section-summary-in' type='checkbox'  checked><label for='section-db2e91ab-79c6-49f5-beed-16d0d70ee756' class='xr-section-summary' >Coordinates: <span>(4)</span></label><div class='xr-section-inline-details'></div><div class='xr-section-details'><ul class='xr-var-list'><li class='xr-var-item'><div class='xr-var-name'><span class='xr-has-index'>starttime</span></div><div class='xr-var-dims'>(starttime)</div><div class='xr-var-dtype'>float64</div><div class='xr-var-preview xr-preview'>9.264e+04 9.264e+04 ... 9.266e+04</div><input id='attrs-883f4007-bda1-410c-aa89-9f20006680f6' class='xr-var-attrs-in' type='checkbox' disabled><label for='attrs-883f4007-bda1-410c-aa89-9f20006680f6' title='Show/Hide attributes'><svg class='icon xr-icon-file-text2'><use xlink:href='#icon-file-text2'></use></svg></label><input id='data-fa20cc67-2bea-485d-ade5-a6b9db1e81f0' class='xr-var-data-in' type='checkbox'><label for='data-fa20cc67-2bea-485d-ade5-a6b9db1e81f0' title='Show/Hide data repr'><svg class='icon xr-icon-database'><use xlink:href='#icon-database'></use></svg></label><div class='xr-var-attrs'><dl class='xr-attrs'></dl></div><div class='xr-var-data'><pre>array([92640., 92640., 92640., ..., 92661., 92661., 92661.])</pre></div></li><li class='xr-var-item'><div class='xr-var-name'><span>endtime</span></div><div class='xr-var-dims'>(starttime)</div><div class='xr-var-dtype'>float64</div><div class='xr-var-preview xr-preview'>...</div><input id='attrs-5f4a99b5-7f3d-4536-bd20-79deea271321' class='xr-var-attrs-in' type='checkbox' disabled><label for='attrs-5f4a99b5-7f3d-4536-bd20-79deea271321' title='Show/Hide attributes'><svg class='icon xr-icon-file-text2'><use xlink:href='#icon-file-text2'></use></svg></label><input id='data-edbf4eee-0322-4391-b6e5-318669a3233f' class='xr-var-data-in' type='checkbox'><label for='data-edbf4eee-0322-4391-b6e5-318669a3233f' title='Show/Hide data repr'><svg class='icon xr-icon-database'><use xlink:href='#icon-database'></use></svg></label><div class='xr-var-attrs'><dl class='xr-attrs'></dl></div><div class='xr-var-data'><pre>[2224 values with dtype=float64]</pre></div></li><li class='xr-var-item'><div class='xr-var-name'><span>x_speed</span></div><div class='xr-var-dims'>(starttime)</div><div class='xr-var-dtype'>int64</div><div class='xr-var-preview xr-preview'>...</div><input id='attrs-928e1a06-fdd2-4ff3-901a-144692ae6047' class='xr-var-attrs-in' type='checkbox' disabled><label for='attrs-928e1a06-fdd2-4ff3-901a-144692ae6047' title='Show/Hide attributes'><svg class='icon xr-icon-file-text2'><use xlink:href='#icon-file-text2'></use></svg></label><input id='data-2b6b4c6a-446f-4080-afa4-5dd27a8be6fe' class='xr-var-data-in' type='checkbox'><label for='data-2b6b4c6a-446f-4080-afa4-5dd27a8be6fe' title='Show/Hide data repr'><svg class='icon xr-icon-database'><use xlink:href='#icon-database'></use></svg></label><div class='xr-var-attrs'><dl class='xr-attrs'></dl></div><div class='xr-var-data'><pre>[2224 values with dtype=int64]</pre></div></li><li class='xr-var-item'><div class='xr-var-name'><span>y_speed</span></div><div class='xr-var-dims'>(starttime)</div><div class='xr-var-dtype'>int64</div><div class='xr-var-preview xr-preview'>...</div><input id='attrs-a58b2ac8-eb8c-4278-b6ca-d6633e197404' class='xr-var-attrs-in' type='checkbox' disabled><label for='attrs-a58b2ac8-eb8c-4278-b6ca-d6633e197404' title='Show/Hide attributes'><svg class='icon xr-icon-file-text2'><use xlink:href='#icon-file-text2'></use></svg></label><input id='data-2c9ac427-c71f-4d30-a105-3d0274035067' class='xr-var-data-in' type='checkbox'><label for='data-2c9ac427-c71f-4d30-a105-3d0274035067' title='Show/Hide data repr'><svg class='icon xr-icon-database'><use xlink:href='#icon-database'></use></svg></label><div class='xr-var-attrs'><dl class='xr-attrs'></dl></div><div class='xr-var-data'><pre>[2224 values with dtype=int64]</pre></div></li></ul></div></li><li class='xr-section-item'><input id='section-78809a42-13c9-4a47-8544-0a198686d2cc' class='xr-section-summary-in' type='checkbox'  ><label for='section-78809a42-13c9-4a47-8544-0a198686d2cc' class='xr-section-summary' >Indexes: <span>(1)</span></label><div class='xr-section-inline-details'></div><div class='xr-section-details'><ul class='xr-var-list'><li class='xr-var-item'><div class='xr-index-name'><div>starttime</div></div><div class='xr-index-preview'>PandasIndex</div><input type='checkbox' disabled/><label></label><input id='index-0c3c811b-01ff-479f-8534-23ce1a9e9d4c' class='xr-index-data-in' type='checkbox'/><label for='index-0c3c811b-01ff-479f-8534-23ce1a9e9d4c' title='Show/Hide index repr'><svg class='icon xr-icon-database'><use xlink:href='#icon-database'></use></svg></label><div class='xr-index-data'><pre>PandasIndex(Index([92640.0, 92640.0, 92640.0, 92640.0, 92640.0, 92640.0, 92640.0, 92640.0,\n",
              "       92640.0, 92640.0,\n",
              "       ...\n",
              "       92661.0, 92661.0, 92661.0, 92661.0, 92661.0, 92661.0, 92661.0, 92661.0,\n",
              "       92661.0, 92661.0],\n",
              "      dtype=&#x27;float64&#x27;, name=&#x27;starttime&#x27;, length=2224))</pre></div></li></ul></div></li><li class='xr-section-item'><input id='section-3979e7f8-d040-4a39-a819-8f4a270cc75b' class='xr-section-summary-in' type='checkbox' disabled ><label for='section-3979e7f8-d040-4a39-a819-8f4a270cc75b' class='xr-section-summary'  title='Expand/collapse section'>Attributes: <span>(0)</span></label><div class='xr-section-inline-details'></div><div class='xr-section-details'><dl class='xr-attrs'></dl></div></li></ul></div></div>"
            ],
            "text/plain": [
              "<xarray.DataArray 'dbz_grid' (starttime: 2224, y: 32, x: 32)> Size: 9MB\n",
              "[2277376 values with dtype=float32]\n",
              "Coordinates:\n",
              "  * starttime  (starttime) float64 18kB 9.264e+04 9.264e+04 ... 9.266e+04\n",
              "    endtime    (starttime) float64 18kB ...\n",
              "    x_speed    (starttime) int64 18kB ...\n",
              "    y_speed    (starttime) int64 18kB ...\n",
              "Dimensions without coordinates: y, x"
            ]
          },
          "execution_count": 5,
          "metadata": {},
          "output_type": "execute_result"
        }
      ],
      "source": [
        "# selecting a variable\n",
        "ds['dbz_grid']"
      ]
    },
    {
      "cell_type": "code",
      "execution_count": 6,
      "metadata": {
        "colab": {
          "base_uri": "https://localhost:8080/"
        },
        "id": "Dg1nX786FXrR",
        "outputId": "fba08281-3566-45ea-981f-7848a065a70d"
      },
      "outputs": [
        {
          "name": "stdout",
          "output_type": "stream",
          "text": [
            "(2224, 1024)\n"
          ]
        }
      ],
      "source": [
        "# reshape data to be samples, features\n",
        "features_data = ds['dbz_grid'].stack(new_dim=([\"y\", \"x\"])).values\n",
        "print(features_data.shape)"
      ]
    },
    {
      "cell_type": "code",
      "execution_count": 7,
      "metadata": {
        "colab": {
          "base_uri": "https://localhost:8080/"
        },
        "id": "2vcr9t3cIsXN",
        "outputId": "0a9e1410-b006-41a4-e3b3-b88c43687d5d"
      },
      "outputs": [
        {
          "data": {
            "text/plain": [
              "(2224, 1024)"
            ]
          },
          "execution_count": 7,
          "metadata": {},
          "output_type": "execute_result"
        }
      ],
      "source": [
        "features_data.shape"
      ]
    },
    {
      "cell_type": "code",
      "execution_count": 8,
      "metadata": {
        "id": "b7dfQyq4JIbF"
      },
      "outputs": [],
      "source": [
        "# split dataset into training and testing set\n",
        "X_train, X_test, y_train, y_test = train_test_split(\n",
        "    features_data,\n",
        "    features_data,\n",
        "    test_size=0.3,\n",
        "    shuffle=False,\n",
        "    random_state=42)"
      ]
    },
    {
      "cell_type": "code",
      "execution_count": 9,
      "metadata": {
        "id": "ffojuEJYJISv"
      },
      "outputs": [],
      "source": [
        "# now rescale your data\n",
        "scaler = StandardScaler()\n",
        "scaler.fit(X_train)\n",
        "X_train = scaler.transform(X_train) # input\n",
        "X_test = scaler.transform(X_test) # input\n",
        "y_train = scaler.transform(y_train) # label\n",
        "y_test = scaler.transform(y_test) # label"
      ]
    },
    {
      "cell_type": "code",
      "execution_count": 10,
      "metadata": {
        "colab": {
          "base_uri": "https://localhost:8080/"
        },
        "id": "3WNN1oQYKvbq",
        "outputId": "b2bafdf1-0c12-4e53-bfde-81ee418e3d96"
      },
      "outputs": [
        {
          "name": "stdout",
          "output_type": "stream",
          "text": [
            "(1556, 1024) (668, 1024) (1556, 1024) (668, 1024)\n"
          ]
        }
      ],
      "source": [
        "# check shapes\n",
        "print(X_train.shape, X_test.shape, y_train.shape, y_test.shape)"
      ]
    },
    {
      "cell_type": "markdown",
      "metadata": {
        "id": "5O158_4LJRmb"
      },
      "source": [
        "## A simple autoencoder can be constructed as typical NNs, by adding sequential layers:"
      ]
    },
    {
      "cell_type": "code",
      "execution_count": 184,
      "metadata": {
        "colab": {
          "base_uri": "https://localhost:8080/",
          "height": 321
        },
        "id": "n4JnAwI1J9Bk",
        "outputId": "9f6fcbc4-9d16-4158-865c-8bc147ff1b5d"
      },
      "outputs": [
        {
          "data": {
            "text/html": [
              "<pre style=\"white-space:pre;overflow-x:auto;line-height:normal;font-family:Menlo,'DejaVu Sans Mono',consolas,'Courier New',monospace\"><span style=\"font-weight: bold\">Model: \"sequential_14\"</span>\n",
              "</pre>\n"
            ],
            "text/plain": [
              "\u001b[1mModel: \"sequential_14\"\u001b[0m\n"
            ]
          },
          "metadata": {},
          "output_type": "display_data"
        },
        {
          "data": {
            "text/html": [
              "<pre style=\"white-space:pre;overflow-x:auto;line-height:normal;font-family:Menlo,'DejaVu Sans Mono',consolas,'Courier New',monospace\">┏━━━━━━━━━━━━━━━━━━━━━━━━━━━━━━━━━┳━━━━━━━━━━━━━━━━━━━━━━━━┳━━━━━━━━━━━━━━━┓\n",
              "┃<span style=\"font-weight: bold\"> Layer (type)                    </span>┃<span style=\"font-weight: bold\"> Output Shape           </span>┃<span style=\"font-weight: bold\">       Param # </span>┃\n",
              "┡━━━━━━━━━━━━━━━━━━━━━━━━━━━━━━━━━╇━━━━━━━━━━━━━━━━━━━━━━━━╇━━━━━━━━━━━━━━━┩\n",
              "│ dense_90 (<span style=\"color: #0087ff; text-decoration-color: #0087ff\">Dense</span>)                │ (<span style=\"color: #00d7ff; text-decoration-color: #00d7ff\">None</span>, <span style=\"color: #00af00; text-decoration-color: #00af00\">256</span>)            │       <span style=\"color: #00af00; text-decoration-color: #00af00\">262,400</span> │\n",
              "├─────────────────────────────────┼────────────────────────┼───────────────┤\n",
              "│ dense_91 (<span style=\"color: #0087ff; text-decoration-color: #0087ff\">Dense</span>)                │ (<span style=\"color: #00d7ff; text-decoration-color: #00d7ff\">None</span>, <span style=\"color: #00af00; text-decoration-color: #00af00\">64</span>)             │        <span style=\"color: #00af00; text-decoration-color: #00af00\">16,448</span> │\n",
              "├─────────────────────────────────┼────────────────────────┼───────────────┤\n",
              "│ dense_92 (<span style=\"color: #0087ff; text-decoration-color: #0087ff\">Dense</span>)                │ (<span style=\"color: #00d7ff; text-decoration-color: #00d7ff\">None</span>, <span style=\"color: #00af00; text-decoration-color: #00af00\">32</span>)             │         <span style=\"color: #00af00; text-decoration-color: #00af00\">2,080</span> │\n",
              "├─────────────────────────────────┼────────────────────────┼───────────────┤\n",
              "│ dense_93 (<span style=\"color: #0087ff; text-decoration-color: #0087ff\">Dense</span>)                │ (<span style=\"color: #00d7ff; text-decoration-color: #00d7ff\">None</span>, <span style=\"color: #00af00; text-decoration-color: #00af00\">64</span>)             │         <span style=\"color: #00af00; text-decoration-color: #00af00\">2,112</span> │\n",
              "├─────────────────────────────────┼────────────────────────┼───────────────┤\n",
              "│ dense_94 (<span style=\"color: #0087ff; text-decoration-color: #0087ff\">Dense</span>)                │ (<span style=\"color: #00d7ff; text-decoration-color: #00d7ff\">None</span>, <span style=\"color: #00af00; text-decoration-color: #00af00\">256</span>)            │        <span style=\"color: #00af00; text-decoration-color: #00af00\">16,640</span> │\n",
              "├─────────────────────────────────┼────────────────────────┼───────────────┤\n",
              "│ dense_95 (<span style=\"color: #0087ff; text-decoration-color: #0087ff\">Dense</span>)                │ (<span style=\"color: #00d7ff; text-decoration-color: #00d7ff\">None</span>, <span style=\"color: #00af00; text-decoration-color: #00af00\">1024</span>)           │       <span style=\"color: #00af00; text-decoration-color: #00af00\">263,168</span> │\n",
              "└─────────────────────────────────┴────────────────────────┴───────────────┘\n",
              "</pre>\n"
            ],
            "text/plain": [
              "┏━━━━━━━━━━━━━━━━━━━━━━━━━━━━━━━━━┳━━━━━━━━━━━━━━━━━━━━━━━━┳━━━━━━━━━━━━━━━┓\n",
              "┃\u001b[1m \u001b[0m\u001b[1mLayer (type)                   \u001b[0m\u001b[1m \u001b[0m┃\u001b[1m \u001b[0m\u001b[1mOutput Shape          \u001b[0m\u001b[1m \u001b[0m┃\u001b[1m \u001b[0m\u001b[1m      Param #\u001b[0m\u001b[1m \u001b[0m┃\n",
              "┡━━━━━━━━━━━━━━━━━━━━━━━━━━━━━━━━━╇━━━━━━━━━━━━━━━━━━━━━━━━╇━━━━━━━━━━━━━━━┩\n",
              "│ dense_90 (\u001b[38;5;33mDense\u001b[0m)                │ (\u001b[38;5;45mNone\u001b[0m, \u001b[38;5;34m256\u001b[0m)            │       \u001b[38;5;34m262,400\u001b[0m │\n",
              "├─────────────────────────────────┼────────────────────────┼───────────────┤\n",
              "│ dense_91 (\u001b[38;5;33mDense\u001b[0m)                │ (\u001b[38;5;45mNone\u001b[0m, \u001b[38;5;34m64\u001b[0m)             │        \u001b[38;5;34m16,448\u001b[0m │\n",
              "├─────────────────────────────────┼────────────────────────┼───────────────┤\n",
              "│ dense_92 (\u001b[38;5;33mDense\u001b[0m)                │ (\u001b[38;5;45mNone\u001b[0m, \u001b[38;5;34m32\u001b[0m)             │         \u001b[38;5;34m2,080\u001b[0m │\n",
              "├─────────────────────────────────┼────────────────────────┼───────────────┤\n",
              "│ dense_93 (\u001b[38;5;33mDense\u001b[0m)                │ (\u001b[38;5;45mNone\u001b[0m, \u001b[38;5;34m64\u001b[0m)             │         \u001b[38;5;34m2,112\u001b[0m │\n",
              "├─────────────────────────────────┼────────────────────────┼───────────────┤\n",
              "│ dense_94 (\u001b[38;5;33mDense\u001b[0m)                │ (\u001b[38;5;45mNone\u001b[0m, \u001b[38;5;34m256\u001b[0m)            │        \u001b[38;5;34m16,640\u001b[0m │\n",
              "├─────────────────────────────────┼────────────────────────┼───────────────┤\n",
              "│ dense_95 (\u001b[38;5;33mDense\u001b[0m)                │ (\u001b[38;5;45mNone\u001b[0m, \u001b[38;5;34m1024\u001b[0m)           │       \u001b[38;5;34m263,168\u001b[0m │\n",
              "└─────────────────────────────────┴────────────────────────┴───────────────┘\n"
            ]
          },
          "metadata": {},
          "output_type": "display_data"
        },
        {
          "data": {
            "text/html": [
              "<pre style=\"white-space:pre;overflow-x:auto;line-height:normal;font-family:Menlo,'DejaVu Sans Mono',consolas,'Courier New',monospace\"><span style=\"font-weight: bold\"> Total params: </span><span style=\"color: #00af00; text-decoration-color: #00af00\">562,848</span> (2.15 MB)\n",
              "</pre>\n"
            ],
            "text/plain": [
              "\u001b[1m Total params: \u001b[0m\u001b[38;5;34m562,848\u001b[0m (2.15 MB)\n"
            ]
          },
          "metadata": {},
          "output_type": "display_data"
        },
        {
          "data": {
            "text/html": [
              "<pre style=\"white-space:pre;overflow-x:auto;line-height:normal;font-family:Menlo,'DejaVu Sans Mono',consolas,'Courier New',monospace\"><span style=\"font-weight: bold\"> Trainable params: </span><span style=\"color: #00af00; text-decoration-color: #00af00\">562,848</span> (2.15 MB)\n",
              "</pre>\n"
            ],
            "text/plain": [
              "\u001b[1m Trainable params: \u001b[0m\u001b[38;5;34m562,848\u001b[0m (2.15 MB)\n"
            ]
          },
          "metadata": {},
          "output_type": "display_data"
        },
        {
          "data": {
            "text/html": [
              "<pre style=\"white-space:pre;overflow-x:auto;line-height:normal;font-family:Menlo,'DejaVu Sans Mono',consolas,'Courier New',monospace\"><span style=\"font-weight: bold\"> Non-trainable params: </span><span style=\"color: #00af00; text-decoration-color: #00af00\">0</span> (0.00 B)\n",
              "</pre>\n"
            ],
            "text/plain": [
              "\u001b[1m Non-trainable params: \u001b[0m\u001b[38;5;34m0\u001b[0m (0.00 B)\n"
            ]
          },
          "metadata": {},
          "output_type": "display_data"
        }
      ],
      "source": [
        "# create fully connected autoencoder\n",
        "model = keras.Sequential()\n",
        "\n",
        "# input\n",
        "model.add(keras.Input(shape=(1024,))) # features\n",
        "\n",
        "# encoder\n",
        "# hidden layers\n",
        "model.add(layers.Dense(256, activation=\"relu\"))\n",
        "model.add(layers.Dense(64, activation=\"relu\"))\n",
        "\n",
        "# desired dimensions\n",
        "model.add(layers.Dense(32, activation=\"linear\")) # bottleneck\n",
        "\n",
        "# decoder\n",
        "model.add(layers.Dense(64, activation=\"relu\"))\n",
        "model.add(layers.Dense(256, activation=\"relu\"))\n",
        "\n",
        "# Finally, we add last layer\n",
        "model.add(layers.Dense(1024, activation='linear')) # back to the original shape\n",
        "\n",
        "# print model summary\n",
        "model.summary()"
      ]
    },
    {
      "cell_type": "code",
      "execution_count": 185,
      "metadata": {
        "id": "NTMiTP9ELYO9"
      },
      "outputs": [],
      "source": [
        "# define list of metrics\n",
        "METRICS = [\n",
        "    keras.metrics.MeanSquaredError(name='mean_squared_error'),\n",
        "    keras.metrics.RootMeanSquaredError(name='root_mean_squared_error'),\n",
        "    keras.metrics.MeanAbsoluteError(name='mean_absolute_error'),\n",
        "    keras.metrics.MeanAbsolutePercentageError(name=\"mean_absolute_percentage_error\"),\n",
        "    keras.metrics.R2Score()\n",
        "]\n",
        "\n",
        "# compile your nn\n",
        "model.compile(\n",
        "    optimizer=keras.optimizers.Adam(learning_rate=0.001),\n",
        "    loss=\"mean_squared_error\",\n",
        "    metrics=METRICS\n",
        ")\n",
        "\n",
        "# set hyperparameters\n",
        "BATCH_SIZE = 32\n",
        "EPOCHS = 20"
      ]
    },
    {
      "cell_type": "code",
      "execution_count": 186,
      "metadata": {
        "colab": {
          "base_uri": "https://localhost:8080/"
        },
        "id": "y5dS4BDILYLA",
        "outputId": "4de2ed61-328b-42b9-bc14-76a8652c5a65"
      },
      "outputs": [
        {
          "name": "stdout",
          "output_type": "stream",
          "text": [
            "Epoch 1/20\n",
            "\u001b[1m44/44\u001b[0m \u001b[32m━━━━━━━━━━━━━━━━━━━━\u001b[0m\u001b[37m\u001b[0m \u001b[1m2s\u001b[0m 10ms/step - loss: 0.7446 - mean_absolute_error: 0.6598 - mean_absolute_percentage_error: 504.0757 - mean_squared_error: 0.7446 - r2_score: 0.2316 - root_mean_squared_error: 0.8595 - val_loss: 0.4112 - val_mean_absolute_error: 0.4720 - val_mean_absolute_percentage_error: 366.0416 - val_mean_squared_error: 0.4112 - val_r2_score: 0.6054 - val_root_mean_squared_error: 0.6412\n",
            "Epoch 2/20\n",
            "\u001b[1m44/44\u001b[0m \u001b[32m━━━━━━━━━━━━━━━━━━━━\u001b[0m\u001b[37m\u001b[0m \u001b[1m0s\u001b[0m 5ms/step - loss: 0.3761 - mean_absolute_error: 0.4405 - mean_absolute_percentage_error: 561.6165 - mean_squared_error: 0.3761 - r2_score: 0.6102 - root_mean_squared_error: 0.6131 - val_loss: 0.3514 - val_mean_absolute_error: 0.4309 - val_mean_absolute_percentage_error: 327.5178 - val_mean_squared_error: 0.3514 - val_r2_score: 0.6628 - val_root_mean_squared_error: 0.5928\n",
            "Epoch 3/20\n",
            "\u001b[1m44/44\u001b[0m \u001b[32m━━━━━━━━━━━━━━━━━━━━\u001b[0m\u001b[37m\u001b[0m \u001b[1m0s\u001b[0m 5ms/step - loss: 0.3148 - mean_absolute_error: 0.4010 - mean_absolute_percentage_error: 455.3383 - mean_squared_error: 0.3148 - r2_score: 0.6734 - root_mean_squared_error: 0.5609 - val_loss: 0.3038 - val_mean_absolute_error: 0.3966 - val_mean_absolute_percentage_error: 282.3323 - val_mean_squared_error: 0.3038 - val_r2_score: 0.7102 - val_root_mean_squared_error: 0.5512\n",
            "Epoch 4/20\n",
            "\u001b[1m44/44\u001b[0m \u001b[32m━━━━━━━━━━━━━━━━━━━━\u001b[0m\u001b[37m\u001b[0m \u001b[1m0s\u001b[0m 5ms/step - loss: 0.2784 - mean_absolute_error: 0.3760 - mean_absolute_percentage_error: 555.3489 - mean_squared_error: 0.2784 - r2_score: 0.7116 - root_mean_squared_error: 0.5276 - val_loss: 0.2922 - val_mean_absolute_error: 0.3856 - val_mean_absolute_percentage_error: 277.3506 - val_mean_squared_error: 0.2922 - val_r2_score: 0.7218 - val_root_mean_squared_error: 0.5405\n",
            "Epoch 5/20\n",
            "\u001b[1m44/44\u001b[0m \u001b[32m━━━━━━━━━━━━━━━━━━━━\u001b[0m\u001b[37m\u001b[0m \u001b[1m0s\u001b[0m 5ms/step - loss: 0.2617 - mean_absolute_error: 0.3641 - mean_absolute_percentage_error: 573.6525 - mean_squared_error: 0.2617 - r2_score: 0.7289 - root_mean_squared_error: 0.5116 - val_loss: 0.2839 - val_mean_absolute_error: 0.3778 - val_mean_absolute_percentage_error: 298.3914 - val_mean_squared_error: 0.2839 - val_r2_score: 0.7296 - val_root_mean_squared_error: 0.5329\n",
            "Epoch 6/20\n",
            "\u001b[1m44/44\u001b[0m \u001b[32m━━━━━━━━━━━━━━━━━━━━\u001b[0m\u001b[37m\u001b[0m \u001b[1m0s\u001b[0m 6ms/step - loss: 0.2474 - mean_absolute_error: 0.3541 - mean_absolute_percentage_error: 601.7081 - mean_squared_error: 0.2474 - r2_score: 0.7434 - root_mean_squared_error: 0.4973 - val_loss: 0.2709 - val_mean_absolute_error: 0.3699 - val_mean_absolute_percentage_error: 306.6752 - val_mean_squared_error: 0.2709 - val_r2_score: 0.7413 - val_root_mean_squared_error: 0.5204\n",
            "Epoch 7/20\n",
            "\u001b[1m44/44\u001b[0m \u001b[32m━━━━━━━━━━━━━━━━━━━━\u001b[0m\u001b[37m\u001b[0m \u001b[1m0s\u001b[0m 5ms/step - loss: 0.2355 - mean_absolute_error: 0.3462 - mean_absolute_percentage_error: 597.8942 - mean_squared_error: 0.2355 - r2_score: 0.7558 - root_mean_squared_error: 0.4853 - val_loss: 0.2639 - val_mean_absolute_error: 0.3660 - val_mean_absolute_percentage_error: 266.3684 - val_mean_squared_error: 0.2639 - val_r2_score: 0.7480 - val_root_mean_squared_error: 0.5137\n",
            "Epoch 8/20\n",
            "\u001b[1m44/44\u001b[0m \u001b[32m━━━━━━━━━━━━━━━━━━━━\u001b[0m\u001b[37m\u001b[0m \u001b[1m0s\u001b[0m 4ms/step - loss: 0.2248 - mean_absolute_error: 0.3382 - mean_absolute_percentage_error: 580.8240 - mean_squared_error: 0.2248 - r2_score: 0.7671 - root_mean_squared_error: 0.4741 - val_loss: 0.2622 - val_mean_absolute_error: 0.3638 - val_mean_absolute_percentage_error: 270.1038 - val_mean_squared_error: 0.2622 - val_r2_score: 0.7488 - val_root_mean_squared_error: 0.5121\n",
            "Epoch 9/20\n",
            "\u001b[1m44/44\u001b[0m \u001b[32m━━━━━━━━━━━━━━━━━━━━\u001b[0m\u001b[37m\u001b[0m \u001b[1m0s\u001b[0m 4ms/step - loss: 0.2166 - mean_absolute_error: 0.3319 - mean_absolute_percentage_error: 503.6161 - mean_squared_error: 0.2166 - r2_score: 0.7757 - root_mean_squared_error: 0.4653 - val_loss: 0.2582 - val_mean_absolute_error: 0.3613 - val_mean_absolute_percentage_error: 248.2054 - val_mean_squared_error: 0.2582 - val_r2_score: 0.7542 - val_root_mean_squared_error: 0.5082\n",
            "Epoch 10/20\n",
            "\u001b[1m44/44\u001b[0m \u001b[32m━━━━━━━━━━━━━━━━━━━━\u001b[0m\u001b[37m\u001b[0m \u001b[1m0s\u001b[0m 4ms/step - loss: 0.2091 - mean_absolute_error: 0.3268 - mean_absolute_percentage_error: 434.7927 - mean_squared_error: 0.2091 - r2_score: 0.7834 - root_mean_squared_error: 0.4573 - val_loss: 0.2502 - val_mean_absolute_error: 0.3557 - val_mean_absolute_percentage_error: 257.6956 - val_mean_squared_error: 0.2502 - val_r2_score: 0.7616 - val_root_mean_squared_error: 0.5002\n",
            "Epoch 11/20\n",
            "\u001b[1m44/44\u001b[0m \u001b[32m━━━━━━━━━━━━━━━━━━━━\u001b[0m\u001b[37m\u001b[0m \u001b[1m0s\u001b[0m 5ms/step - loss: 0.2003 - mean_absolute_error: 0.3189 - mean_absolute_percentage_error: 524.8073 - mean_squared_error: 0.2003 - r2_score: 0.7924 - root_mean_squared_error: 0.4475 - val_loss: 0.2480 - val_mean_absolute_error: 0.3546 - val_mean_absolute_percentage_error: 255.6171 - val_mean_squared_error: 0.2480 - val_r2_score: 0.7636 - val_root_mean_squared_error: 0.4980\n",
            "Epoch 12/20\n",
            "\u001b[1m44/44\u001b[0m \u001b[32m━━━━━━━━━━━━━━━━━━━━\u001b[0m\u001b[37m\u001b[0m \u001b[1m0s\u001b[0m 4ms/step - loss: 0.1959 - mean_absolute_error: 0.3159 - mean_absolute_percentage_error: 462.1767 - mean_squared_error: 0.1959 - r2_score: 0.7971 - root_mean_squared_error: 0.4426 - val_loss: 0.2416 - val_mean_absolute_error: 0.3500 - val_mean_absolute_percentage_error: 261.3753 - val_mean_squared_error: 0.2416 - val_r2_score: 0.7692 - val_root_mean_squared_error: 0.4916\n",
            "Epoch 13/20\n",
            "\u001b[1m44/44\u001b[0m \u001b[32m━━━━━━━━━━━━━━━━━━━━\u001b[0m\u001b[37m\u001b[0m \u001b[1m0s\u001b[0m 7ms/step - loss: 0.1910 - mean_absolute_error: 0.3129 - mean_absolute_percentage_error: 412.0938 - mean_squared_error: 0.1910 - r2_score: 0.8020 - root_mean_squared_error: 0.4370 - val_loss: 0.2398 - val_mean_absolute_error: 0.3496 - val_mean_absolute_percentage_error: 243.7296 - val_mean_squared_error: 0.2398 - val_r2_score: 0.7704 - val_root_mean_squared_error: 0.4897\n",
            "Epoch 14/20\n",
            "\u001b[1m44/44\u001b[0m \u001b[32m━━━━━━━━━━━━━━━━━━━━\u001b[0m\u001b[37m\u001b[0m \u001b[1m0s\u001b[0m 6ms/step - loss: 0.1849 - mean_absolute_error: 0.3079 - mean_absolute_percentage_error: 437.6155 - mean_squared_error: 0.1849 - r2_score: 0.8083 - root_mean_squared_error: 0.4299 - val_loss: 0.2360 - val_mean_absolute_error: 0.3469 - val_mean_absolute_percentage_error: 245.4616 - val_mean_squared_error: 0.2360 - val_r2_score: 0.7744 - val_root_mean_squared_error: 0.4858\n",
            "Epoch 15/20\n",
            "\u001b[1m44/44\u001b[0m \u001b[32m━━━━━━━━━━━━━━━━━━━━\u001b[0m\u001b[37m\u001b[0m \u001b[1m0s\u001b[0m 5ms/step - loss: 0.1800 - mean_absolute_error: 0.3036 - mean_absolute_percentage_error: 397.0147 - mean_squared_error: 0.1800 - r2_score: 0.8134 - root_mean_squared_error: 0.4242 - val_loss: 0.2429 - val_mean_absolute_error: 0.3508 - val_mean_absolute_percentage_error: 262.5548 - val_mean_squared_error: 0.2429 - val_r2_score: 0.7679 - val_root_mean_squared_error: 0.4928\n",
            "Epoch 16/20\n",
            "\u001b[1m44/44\u001b[0m \u001b[32m━━━━━━━━━━━━━━━━━━━━\u001b[0m\u001b[37m\u001b[0m \u001b[1m0s\u001b[0m 5ms/step - loss: 0.1806 - mean_absolute_error: 0.3047 - mean_absolute_percentage_error: 417.0552 - mean_squared_error: 0.1806 - r2_score: 0.8127 - root_mean_squared_error: 0.4250 - val_loss: 0.2427 - val_mean_absolute_error: 0.3506 - val_mean_absolute_percentage_error: 292.7314 - val_mean_squared_error: 0.2427 - val_r2_score: 0.7678 - val_root_mean_squared_error: 0.4927\n",
            "Epoch 17/20\n",
            "\u001b[1m44/44\u001b[0m \u001b[32m━━━━━━━━━━━━━━━━━━━━\u001b[0m\u001b[37m\u001b[0m \u001b[1m0s\u001b[0m 6ms/step - loss: 0.1827 - mean_absolute_error: 0.3076 - mean_absolute_percentage_error: 422.6274 - mean_squared_error: 0.1827 - r2_score: 0.8106 - root_mean_squared_error: 0.4275 - val_loss: 0.2373 - val_mean_absolute_error: 0.3477 - val_mean_absolute_percentage_error: 290.6152 - val_mean_squared_error: 0.2373 - val_r2_score: 0.7724 - val_root_mean_squared_error: 0.4871\n",
            "Epoch 18/20\n",
            "\u001b[1m44/44\u001b[0m \u001b[32m━━━━━━━━━━━━━━━━━━━━\u001b[0m\u001b[37m\u001b[0m \u001b[1m0s\u001b[0m 6ms/step - loss: 0.1766 - mean_absolute_error: 0.3024 - mean_absolute_percentage_error: 548.5184 - mean_squared_error: 0.1766 - r2_score: 0.8169 - root_mean_squared_error: 0.4202 - val_loss: 0.2386 - val_mean_absolute_error: 0.3483 - val_mean_absolute_percentage_error: 256.5174 - val_mean_squared_error: 0.2386 - val_r2_score: 0.7711 - val_root_mean_squared_error: 0.4884\n",
            "Epoch 19/20\n",
            "\u001b[1m44/44\u001b[0m \u001b[32m━━━━━━━━━━━━━━━━━━━━\u001b[0m\u001b[37m\u001b[0m \u001b[1m0s\u001b[0m 4ms/step - loss: 0.1769 - mean_absolute_error: 0.3036 - mean_absolute_percentage_error: 542.7279 - mean_squared_error: 0.1769 - r2_score: 0.8166 - root_mean_squared_error: 0.4206 - val_loss: 0.2416 - val_mean_absolute_error: 0.3499 - val_mean_absolute_percentage_error: 267.2846 - val_mean_squared_error: 0.2416 - val_r2_score: 0.7676 - val_root_mean_squared_error: 0.4915\n",
            "Epoch 20/20\n",
            "\u001b[1m44/44\u001b[0m \u001b[32m━━━━━━━━━━━━━━━━━━━━\u001b[0m\u001b[37m\u001b[0m \u001b[1m0s\u001b[0m 4ms/step - loss: 0.1782 - mean_absolute_error: 0.3050 - mean_absolute_percentage_error: 503.2746 - mean_squared_error: 0.1782 - r2_score: 0.8154 - root_mean_squared_error: 0.4221 - val_loss: 0.2427 - val_mean_absolute_error: 0.3505 - val_mean_absolute_percentage_error: 271.2784 - val_mean_squared_error: 0.2427 - val_r2_score: 0.7668 - val_root_mean_squared_error: 0.4926\n"
          ]
        }
      ],
      "source": [
        "# train the NN now\n",
        "history = model.fit(\n",
        "    x=X_train,\n",
        "    y=y_train,\n",
        "    batch_size=BATCH_SIZE,\n",
        "    epochs=EPOCHS,\n",
        "    validation_split=0.1,\n",
        "    shuffle=True,\n",
        ")"
      ]
    },
    {
      "cell_type": "code",
      "execution_count": 187,
      "metadata": {
        "colab": {
          "base_uri": "https://localhost:8080/",
          "height": 430
        },
        "id": "KIo2XzMzX7xU",
        "outputId": "8880c8a0-243c-4e77-f17a-668cef05a092"
      },
      "outputs": [
        {
          "data": {
            "image/png": "[encoded data removed]",
            "text/plain": [
              "<Figure size 640x480 with 1 Axes>"
            ]
          },
          "metadata": {},
          "output_type": "display_data"
        }
      ],
      "source": [
        "# visualize training and validation curves\n",
        "plt.plot(history.history[\"mean_squared_error\"], c='k', label='training')\n",
        "plt.plot(history.history[\"val_mean_squared_error\"], c='r', label='validation')\n",
        "plt.legend()\n",
        "plt.show()"
      ]
    },
    {
      "cell_type": "code",
      "execution_count": 188,
      "metadata": {
        "colab": {
          "base_uri": "https://localhost:8080/",
          "height": 430
        },
        "id": "W3Z_lSlmw-ag",
        "outputId": "24bc4ff2-b6bb-4f2c-8ba1-dd9bb50f535e"
      },
      "outputs": [
        {
          "data": {
            "image/png": "[encoded data removed]",
            "text/plain": [
              "<Figure size 640x480 with 1 Axes>"
            ]
          },
          "metadata": {},
          "output_type": "display_data"
        }
      ],
      "source": [
        "# visualize training and validation curves\n",
        "plt.plot(history.history[\"mean_absolute_percentage_error\"], c='k')\n",
        "plt.plot(history.history[\"val_mean_absolute_percentage_error\"], c='r')\n",
        "plt.show()"
      ]
    },
    {
      "cell_type": "code",
      "execution_count": 189,
      "metadata": {
        "colab": {
          "base_uri": "https://localhost:8080/"
        },
        "id": "wuwjUjxQFpH0",
        "outputId": "329c75c0-601f-48da-91c1-fe050e9d9250"
      },
      "outputs": [
        {
          "name": "stdout",
          "output_type": "stream",
          "text": [
            "\u001b[1m21/21\u001b[0m \u001b[32m━━━━━━━━━━━━━━━━━━━━\u001b[0m\u001b[37m\u001b[0m \u001b[1m0s\u001b[0m 3ms/step\n"
          ]
        }
      ],
      "source": [
        "# evaluation mode\n",
        "y_pred = model.predict(X_test)"
      ]
    },
    {
      "cell_type": "code",
      "execution_count": 190,
      "metadata": {
        "colab": {
          "base_uri": "https://localhost:8080/"
        },
        "id": "bP_iZHp-FpE8",
        "outputId": "5fcba079-5857-45df-8c9e-ccdc3e15252d"
      },
      "outputs": [
        {
          "data": {
            "text/plain": [
              "(668, 1024)"
            ]
          },
          "execution_count": 190,
          "metadata": {},
          "output_type": "execute_result"
        }
      ],
      "source": [
        "# check prediction shape matches test data shape\n",
        "y_pred.shape"
      ]
    },
    {
      "cell_type": "code",
      "execution_count": 191,
      "metadata": {
        "colab": {
          "base_uri": "https://localhost:8080/"
        },
        "id": "G05BTQjzFpB3",
        "outputId": "23852fe4-cb1a-498d-c2d3-d42df96302df"
      },
      "outputs": [
        {
          "data": {
            "text/plain": [
              "(668, 1024)"
            ]
          },
          "execution_count": 191,
          "metadata": {},
          "output_type": "execute_result"
        }
      ],
      "source": [
        "y_test.shape"
      ]
    },
    {
      "cell_type": "code",
      "execution_count": 192,
      "metadata": {
        "colab": {
          "base_uri": "https://localhost:8080/",
          "height": 430
        },
        "id": "8Gqwmol2Fo9Z",
        "outputId": "cad2417a-b0f3-4928-e75e-a7ce511773d2"
      },
      "outputs": [
        {
          "data": {
            "image/png": "[encoded data removed]",
            "text/plain": [
              "<Figure size 640x480 with 1 Axes>"
            ]
          },
          "metadata": {},
          "output_type": "display_data"
        }
      ],
      "source": [
        "# visualize obs (x-axis) to nn predictions (y-axis)\n",
        "plt.scatter(y_test, y_pred)\n",
        "plt.plot(\n",
        "    [y_test.min(), y_test.max()],\n",
        "    [y_test.min(), y_test.max()],\n",
        "    'k--',\n",
        "    lw=2,\n",
        ")\n",
        "plt.show()"
      ]
    },
    {
      "cell_type": "code",
      "execution_count": 193,
      "metadata": {
        "colab": {
          "base_uri": "https://localhost:8080/"
        },
        "id": "YF-NMyDDGLw0",
        "outputId": "521b14a4-e0da-47c4-c9c5-150a3fd34ab7"
      },
      "outputs": [
        {
          "data": {
            "text/plain": [
              "0.4254937767982483"
            ]
          },
          "execution_count": 193,
          "metadata": {},
          "output_type": "execute_result"
        }
      ],
      "source": [
        "# evaluations (MSE)\n",
        "mean_squared_error(y_test, y_pred)"
      ]
    },
    {
      "cell_type": "code",
      "execution_count": 194,
      "metadata": {
        "colab": {
          "base_uri": "https://localhost:8080/",
          "height": 337
        },
        "id": "tOlStrPvwcRG",
        "outputId": "a572f756-1393-422c-e0a9-5dbfb645c362"
      },
      "outputs": [
        {
          "data": {
            "text/html": [
              "<pre style=\"white-space:pre;overflow-x:auto;line-height:normal;font-family:Menlo,'DejaVu Sans Mono',consolas,'Courier New',monospace\"><span style=\"font-weight: bold\">Model: \"sequential_14\"</span>\n",
              "</pre>\n"
            ],
            "text/plain": [
              "\u001b[1mModel: \"sequential_14\"\u001b[0m\n"
            ]
          },
          "metadata": {},
          "output_type": "display_data"
        },
        {
          "data": {
            "text/html": [
              "<pre style=\"white-space:pre;overflow-x:auto;line-height:normal;font-family:Menlo,'DejaVu Sans Mono',consolas,'Courier New',monospace\">┏━━━━━━━━━━━━━━━━━━━━━━━━━━━━━━━━━┳━━━━━━━━━━━━━━━━━━━━━━━━┳━━━━━━━━━━━━━━━┓\n",
              "┃<span style=\"font-weight: bold\"> Layer (type)                    </span>┃<span style=\"font-weight: bold\"> Output Shape           </span>┃<span style=\"font-weight: bold\">       Param # </span>┃\n",
              "┡━━━━━━━━━━━━━━━━━━━━━━━━━━━━━━━━━╇━━━━━━━━━━━━━━━━━━━━━━━━╇━━━━━━━━━━━━━━━┩\n",
              "│ dense_90 (<span style=\"color: #0087ff; text-decoration-color: #0087ff\">Dense</span>)                │ (<span style=\"color: #00d7ff; text-decoration-color: #00d7ff\">None</span>, <span style=\"color: #00af00; text-decoration-color: #00af00\">256</span>)            │       <span style=\"color: #00af00; text-decoration-color: #00af00\">262,400</span> │\n",
              "├─────────────────────────────────┼────────────────────────┼───────────────┤\n",
              "│ dense_91 (<span style=\"color: #0087ff; text-decoration-color: #0087ff\">Dense</span>)                │ (<span style=\"color: #00d7ff; text-decoration-color: #00d7ff\">None</span>, <span style=\"color: #00af00; text-decoration-color: #00af00\">64</span>)             │        <span style=\"color: #00af00; text-decoration-color: #00af00\">16,448</span> │\n",
              "├─────────────────────────────────┼────────────────────────┼───────────────┤\n",
              "│ dense_92 (<span style=\"color: #0087ff; text-decoration-color: #0087ff\">Dense</span>)                │ (<span style=\"color: #00d7ff; text-decoration-color: #00d7ff\">None</span>, <span style=\"color: #00af00; text-decoration-color: #00af00\">32</span>)             │         <span style=\"color: #00af00; text-decoration-color: #00af00\">2,080</span> │\n",
              "├─────────────────────────────────┼────────────────────────┼───────────────┤\n",
              "│ dense_93 (<span style=\"color: #0087ff; text-decoration-color: #0087ff\">Dense</span>)                │ (<span style=\"color: #00d7ff; text-decoration-color: #00d7ff\">None</span>, <span style=\"color: #00af00; text-decoration-color: #00af00\">64</span>)             │         <span style=\"color: #00af00; text-decoration-color: #00af00\">2,112</span> │\n",
              "├─────────────────────────────────┼────────────────────────┼───────────────┤\n",
              "│ dense_94 (<span style=\"color: #0087ff; text-decoration-color: #0087ff\">Dense</span>)                │ (<span style=\"color: #00d7ff; text-decoration-color: #00d7ff\">None</span>, <span style=\"color: #00af00; text-decoration-color: #00af00\">256</span>)            │        <span style=\"color: #00af00; text-decoration-color: #00af00\">16,640</span> │\n",
              "├─────────────────────────────────┼────────────────────────┼───────────────┤\n",
              "│ dense_95 (<span style=\"color: #0087ff; text-decoration-color: #0087ff\">Dense</span>)                │ (<span style=\"color: #00d7ff; text-decoration-color: #00d7ff\">None</span>, <span style=\"color: #00af00; text-decoration-color: #00af00\">1024</span>)           │       <span style=\"color: #00af00; text-decoration-color: #00af00\">263,168</span> │\n",
              "└─────────────────────────────────┴────────────────────────┴───────────────┘\n",
              "</pre>\n"
            ],
            "text/plain": [
              "┏━━━━━━━━━━━━━━━━━━━━━━━━━━━━━━━━━┳━━━━━━━━━━━━━━━━━━━━━━━━┳━━━━━━━━━━━━━━━┓\n",
              "┃\u001b[1m \u001b[0m\u001b[1mLayer (type)                   \u001b[0m\u001b[1m \u001b[0m┃\u001b[1m \u001b[0m\u001b[1mOutput Shape          \u001b[0m\u001b[1m \u001b[0m┃\u001b[1m \u001b[0m\u001b[1m      Param #\u001b[0m\u001b[1m \u001b[0m┃\n",
              "┡━━━━━━━━━━━━━━━━━━━━━━━━━━━━━━━━━╇━━━━━━━━━━━━━━━━━━━━━━━━╇━━━━━━━━━━━━━━━┩\n",
              "│ dense_90 (\u001b[38;5;33mDense\u001b[0m)                │ (\u001b[38;5;45mNone\u001b[0m, \u001b[38;5;34m256\u001b[0m)            │       \u001b[38;5;34m262,400\u001b[0m │\n",
              "├─────────────────────────────────┼────────────────────────┼───────────────┤\n",
              "│ dense_91 (\u001b[38;5;33mDense\u001b[0m)                │ (\u001b[38;5;45mNone\u001b[0m, \u001b[38;5;34m64\u001b[0m)             │        \u001b[38;5;34m16,448\u001b[0m │\n",
              "├─────────────────────────────────┼────────────────────────┼───────────────┤\n",
              "│ dense_92 (\u001b[38;5;33mDense\u001b[0m)                │ (\u001b[38;5;45mNone\u001b[0m, \u001b[38;5;34m32\u001b[0m)             │         \u001b[38;5;34m2,080\u001b[0m │\n",
              "├─────────────────────────────────┼────────────────────────┼───────────────┤\n",
              "│ dense_93 (\u001b[38;5;33mDense\u001b[0m)                │ (\u001b[38;5;45mNone\u001b[0m, \u001b[38;5;34m64\u001b[0m)             │         \u001b[38;5;34m2,112\u001b[0m │\n",
              "├─────────────────────────────────┼────────────────────────┼───────────────┤\n",
              "│ dense_94 (\u001b[38;5;33mDense\u001b[0m)                │ (\u001b[38;5;45mNone\u001b[0m, \u001b[38;5;34m256\u001b[0m)            │        \u001b[38;5;34m16,640\u001b[0m │\n",
              "├─────────────────────────────────┼────────────────────────┼───────────────┤\n",
              "│ dense_95 (\u001b[38;5;33mDense\u001b[0m)                │ (\u001b[38;5;45mNone\u001b[0m, \u001b[38;5;34m1024\u001b[0m)           │       \u001b[38;5;34m263,168\u001b[0m │\n",
              "└─────────────────────────────────┴────────────────────────┴───────────────┘\n"
            ]
          },
          "metadata": {},
          "output_type": "display_data"
        },
        {
          "data": {
            "text/html": [
              "<pre style=\"white-space:pre;overflow-x:auto;line-height:normal;font-family:Menlo,'DejaVu Sans Mono',consolas,'Courier New',monospace\"><span style=\"font-weight: bold\"> Total params: </span><span style=\"color: #00af00; text-decoration-color: #00af00\">1,688,546</span> (6.44 MB)\n",
              "</pre>\n"
            ],
            "text/plain": [
              "\u001b[1m Total params: \u001b[0m\u001b[38;5;34m1,688,546\u001b[0m (6.44 MB)\n"
            ]
          },
          "metadata": {},
          "output_type": "display_data"
        },
        {
          "data": {
            "text/html": [
              "<pre style=\"white-space:pre;overflow-x:auto;line-height:normal;font-family:Menlo,'DejaVu Sans Mono',consolas,'Courier New',monospace\"><span style=\"font-weight: bold\"> Trainable params: </span><span style=\"color: #00af00; text-decoration-color: #00af00\">562,848</span> (2.15 MB)\n",
              "</pre>\n"
            ],
            "text/plain": [
              "\u001b[1m Trainable params: \u001b[0m\u001b[38;5;34m562,848\u001b[0m (2.15 MB)\n"
            ]
          },
          "metadata": {},
          "output_type": "display_data"
        },
        {
          "data": {
            "text/html": [
              "<pre style=\"white-space:pre;overflow-x:auto;line-height:normal;font-family:Menlo,'DejaVu Sans Mono',consolas,'Courier New',monospace\"><span style=\"font-weight: bold\"> Non-trainable params: </span><span style=\"color: #00af00; text-decoration-color: #00af00\">0</span> (0.00 B)\n",
              "</pre>\n"
            ],
            "text/plain": [
              "\u001b[1m Non-trainable params: \u001b[0m\u001b[38;5;34m0\u001b[0m (0.00 B)\n"
            ]
          },
          "metadata": {},
          "output_type": "display_data"
        },
        {
          "data": {
            "text/html": [
              "<pre style=\"white-space:pre;overflow-x:auto;line-height:normal;font-family:Menlo,'DejaVu Sans Mono',consolas,'Courier New',monospace\"><span style=\"font-weight: bold\"> Optimizer params: </span><span style=\"color: #00af00; text-decoration-color: #00af00\">1,125,698</span> (4.29 MB)\n",
              "</pre>\n"
            ],
            "text/plain": [
              "\u001b[1m Optimizer params: \u001b[0m\u001b[38;5;34m1,125,698\u001b[0m (4.29 MB)\n"
            ]
          },
          "metadata": {},
          "output_type": "display_data"
        }
      ],
      "source": [
        "# to extract model layers, we can first print out model summary\n",
        "model.summary()"
      ]
    },
    {
      "cell_type": "code",
      "execution_count": 195,
      "metadata": {
        "colab": {
          "base_uri": "https://localhost:8080/"
        },
        "id": "wYrVfb4Nw2W7",
        "outputId": "4b8da78d-3fbc-4071-b260-dcce139d2716"
      },
      "outputs": [
        {
          "data": {
            "text/plain": [
              "[<Dense name=dense_90, built=True>,\n",
              " <Dense name=dense_91, built=True>,\n",
              " <Dense name=dense_92, built=True>,\n",
              " <Dense name=dense_93, built=True>,\n",
              " <Dense name=dense_94, built=True>,\n",
              " <Dense name=dense_95, built=True>]"
            ]
          },
          "execution_count": 195,
          "metadata": {},
          "output_type": "execute_result"
        }
      ],
      "source": [
        "# model layers are contained as a list\n",
        "model.layers"
      ]
    },
    {
      "cell_type": "code",
      "execution_count": 196,
      "metadata": {
        "colab": {
          "base_uri": "https://localhost:8080/"
        },
        "id": "t9WTz86DwZ3_",
        "outputId": "7d15d340-1ae9-425a-f71d-cb545d216ac3"
      },
      "outputs": [
        {
          "data": {
            "text/plain": [
              "<KerasTensor shape=(None, 1024), dtype=float32, sparse=False, name=keras_tensor_377>"
            ]
          },
          "execution_count": 196,
          "metadata": {},
          "output_type": "execute_result"
        }
      ],
      "source": [
        "# lets select the first layer\n",
        "model.layers[0].input"
      ]
    },
    {
      "cell_type": "code",
      "execution_count": 197,
      "metadata": {
        "colab": {
          "base_uri": "https://localhost:8080/"
        },
        "id": "7evftiBgwoko",
        "outputId": "3334cd40-5a29-420f-b39f-8bea793f6cb6"
      },
      "outputs": [
        {
          "data": {
            "text/plain": [
              "<KerasTensor shape=(None, 32), dtype=float32, sparse=False, name=keras_tensor_383>"
            ]
          },
          "execution_count": 197,
          "metadata": {},
          "output_type": "execute_result"
        }
      ],
      "source": [
        "# and the bottleneck layer\n",
        "model.layers[2].output"
      ]
    },
    {
      "cell_type": "code",
      "execution_count": 198,
      "metadata": {
        "id": "KlquUT5qLI5q"
      },
      "outputs": [],
      "source": [
        "# we define the input layer to the ANN and the output of the bottleneck layer\n",
        "bottleneck = tf.keras.Model(\n",
        "    inputs=model.layers[0].input,\n",
        "    outputs=model.layers[2].output\n",
        "    )"
      ]
    },
    {
      "cell_type": "code",
      "execution_count": 199,
      "metadata": {
        "id": "UVUyB6DtLSV1"
      },
      "outputs": [],
      "source": [
        "# input test data into the bottleneck function\n",
        "bottleneck_output = bottleneck(X_test)"
      ]
    },
    {
      "cell_type": "code",
      "execution_count": 200,
      "metadata": {
        "colab": {
          "base_uri": "https://localhost:8080/"
        },
        "id": "qzIw_cdCMV13",
        "outputId": "a26a5e3d-7ca3-4f5a-9de3-26f894aec494"
      },
      "outputs": [
        {
          "data": {
            "text/plain": [
              "(668, 1024)"
            ]
          },
          "execution_count": 200,
          "metadata": {},
          "output_type": "execute_result"
        }
      ],
      "source": [
        "X_test.shape"
      ]
    },
    {
      "cell_type": "code",
      "execution_count": 201,
      "metadata": {
        "colab": {
          "base_uri": "https://localhost:8080/"
        },
        "id": "0MowJsYfMIc6",
        "outputId": "edec2f3b-2d7b-4d09-bb8b-9e7655341f0f"
      },
      "outputs": [
        {
          "data": {
            "text/plain": [
              "TensorShape([668, 32])"
            ]
          },
          "execution_count": 201,
          "metadata": {},
          "output_type": "execute_result"
        }
      ],
      "source": [
        "bottleneck_output.shape"
      ]
    },
    {
      "cell_type": "code",
      "execution_count": 202,
      "metadata": {
        "colab": {
          "base_uri": "https://localhost:8080/",
          "height": 430
        },
        "id": "2UdtAmxdw9Ch",
        "outputId": "85ea6e34-30a2-4c4d-aaab-891cd3492a02"
      },
      "outputs": [
        {
          "data": {
            "image/png": "[encoded data removed]",
            "text/plain": [
              "<Figure size 640x480 with 1 Axes>"
            ]
          },
          "metadata": {},
          "output_type": "display_data"
        }
      ],
      "source": [
        "# we can visualize what these two nodes in the bottleneck output\n",
        "plt.scatter(bottleneck_output[:,0],bottleneck_output[:,1])\n",
        "plt.show()"
      ]
    },
    {
      "cell_type": "code",
      "execution_count": 205,
      "metadata": {
        "id": "FP6Vu34_LYD_"
      },
      "outputs": [],
      "source": [
        "# saving model\n",
        "model.save('autoencodersample.keras')"
      ]
    },
    {
      "cell_type": "code",
      "execution_count": 206,
      "metadata": {
        "id": "uunVHVJcKEMt"
      },
      "outputs": [],
      "source": [
        "# loading model\n",
        "model2 = keras.models.load_model('autoencodersample.keras')"
      ]
    },
    {
      "cell_type": "code",
      "execution_count": 207,
      "metadata": {
        "colab": {
          "base_uri": "https://localhost:8080/"
        },
        "id": "jupJauZbKNZg",
        "outputId": "7001cf59-4e12-4892-8e37-54bd45309332"
      },
      "outputs": [
        {
          "name": "stdout",
          "output_type": "stream",
          "text": [
            "\u001b[1m21/21\u001b[0m \u001b[32m━━━━━━━━━━━━━━━━━━━━\u001b[0m\u001b[37m\u001b[0m \u001b[1m0s\u001b[0m 3ms/step \n"
          ]
        }
      ],
      "source": [
        "# inference with loaded model\n",
        "ypred2 = model2.predict(X_test)"
      ]
    },
    {
      "cell_type": "markdown",
      "metadata": {
        "id": "E0t93MSi1QW1"
      },
      "source": [
        "We can use autoencoders for the task of anomaly detection. For anomaly detection, we would note instances where reconstruction error for an image is higher, indicating that the sample was likely not similar to those in the training set distribution."
      ]
    },
    {
      "cell_type": "code",
      "execution_count": 208,
      "metadata": {
        "colab": {
          "base_uri": "https://localhost:8080/",
          "height": 447
        },
        "id": "WGap0EHv2EV-",
        "outputId": "b3c2690e-3b79-4c34-da60-5cca487b2163"
      },
      "outputs": [
        {
          "name": "stdout",
          "output_type": "stream",
          "text": [
            "The prediction loss threshold for 2% of outliers is 0.82\n"
          ]
        },
        {
          "data": {
            "image/png": "[encoded data removed]",
            "text/plain": [
              "<Figure size 640x480 with 1 Axes>"
            ]
          },
          "metadata": {},
          "output_type": "display_data"
        }
      ],
      "source": [
        "# for get the mean absolute error between actual and reconstruction/prediction\n",
        "#prediction_loss = keras.losses.mae(ypred2, y_test)\n",
        "MAE = keras.losses.MeanAbsoluteError(\n",
        "    reduction=tf.keras.losses.Reduction.NONE,\n",
        "    name=\"mean_absolute_error\",\n",
        "    dtype=None\n",
        ")\n",
        "prediction_loss = MAE(ypred2, y_test)\n",
        "\n",
        "# for check the prediction loss threshold for 2% of outliers\n",
        "loss_threshold = np.percentile(prediction_loss, 98)\n",
        "\n",
        "print(f'The prediction loss threshold for 2% of outliers is {loss_threshold:.2f}')\n",
        "# for visualize the threshold\n",
        "plt.hist(prediction_loss, bins=30, alpha=0.8)\n",
        "plt.axvline(x=loss_threshold, color='orange')\n",
        "plt.show()"
      ]
    },
    {
      "cell_type": "code",
      "execution_count": 209,
      "metadata": {
        "colab": {
          "base_uri": "https://localhost:8080/",
          "height": 447
        },
        "id": "bQMnms3FHR2i",
        "outputId": "dbbff832-0ca7-4c3b-e848-67dbadc1a170"
      },
      "outputs": [
        {
          "name": "stdout",
          "output_type": "stream",
          "text": [
            "The prediction loss threshold for 2% of outliers is 15.52\n"
          ]
        },
        {
          "data": {
            "image/png": "[encoded data removed]",
            "text/plain": [
              "<Figure size 640x480 with 1 Axes>"
            ]
          },
          "metadata": {},
          "output_type": "display_data"
        }
      ],
      "source": [
        "# same as above but for inverse transformed data\n",
        "# for get the mean absolute error between actual and reconstruction/prediction\n",
        "rescaled_pred = scaler.inverse_transform(ypred2)\n",
        "rescaled_test = scaler.inverse_transform(X_test)\n",
        "\n",
        "prediction_loss = MAE(rescaled_pred, rescaled_test)\n",
        "\n",
        "# for check the prediction loss threshold for 2% of outliers\n",
        "loss_threshold = np.percentile(prediction_loss, 98)\n",
        "\n",
        "print(f'The prediction loss threshold for 2% of outliers is {loss_threshold:.2f}')\n",
        "# for visualize the threshold\n",
        "plt.hist(prediction_loss, bins=30, alpha=0.8)\n",
        "plt.axvline(x=loss_threshold, color='orange')\n",
        "plt.show()"
      ]
    },
    {
      "cell_type": "markdown",
      "metadata": {
        "id": "CnJOrJ4WErKd"
      },
      "source": [
        "## CNN Autoencoder"
      ]
    },
    {
      "cell_type": "code",
      "execution_count": 210,
      "metadata": {
        "id": "8tBktm3K4JNl"
      },
      "outputs": [],
      "source": [
        "def z_score(da):\n",
        "    \"\"\"\n",
        "    Compute z-score for training data.\n",
        "    Normalizing data for ML model training.\n",
        "    Args:\n",
        "        da (array): Array of training variable.\n",
        "    \"\"\"\n",
        "    return (da - np.mean(da)) / np.std(da)\n",
        "\n",
        "def z_score_testing(da, testdata):\n",
        "    \"\"\"\n",
        "    Compute z-score for testing data.\n",
        "    Args:\n",
        "        da (array): Array of training variable.\n",
        "    \"\"\"\n",
        "    return (testdata - np.mean(da)) / np.std(da)"
      ]
    },
    {
      "cell_type": "code",
      "execution_count": 211,
      "metadata": {
        "colab": {
          "base_uri": "https://localhost:8080/"
        },
        "id": "aVRljSszBQIe",
        "outputId": "2655deb5-7309-445d-a89f-f1dd2a53831f"
      },
      "outputs": [
        {
          "name": "stdout",
          "output_type": "stream",
          "text": [
            "(2224, 32, 32)\n"
          ]
        }
      ],
      "source": [
        "# reshape data to be samples, features\n",
        "features_data = ds['dbz_grid'].values\n",
        "print(features_data.shape)"
      ]
    },
    {
      "cell_type": "code",
      "execution_count": 212,
      "metadata": {
        "id": "Whxd2_cZ3k8W"
      },
      "outputs": [],
      "source": [
        "X_train, X_test, y_train, y_test = features_data[:1800], features_data[1800:], features_data[:1800], features_data[1800:]"
      ]
    },
    {
      "cell_type": "code",
      "execution_count": 213,
      "metadata": {
        "id": "6xmsBq_k3k2r"
      },
      "outputs": [],
      "source": [
        "X_test = z_score_testing(X_train, X_test) # input\n",
        "y_test = z_score_testing(y_train, y_test) # label\n",
        "\n",
        "X_train = z_score(X_train) # input\n",
        "y_train = z_score(y_train) # label"
      ]
    },
    {
      "cell_type": "code",
      "execution_count": 214,
      "metadata": {
        "colab": {
          "base_uri": "https://localhost:8080/"
        },
        "id": "dXCWZMpj3kw6",
        "outputId": "e0147bd5-19ac-4ba6-b314-a39a37c51f31"
      },
      "outputs": [
        {
          "name": "stdout",
          "output_type": "stream",
          "text": [
            "(1800, 32, 32) (424, 32, 32) (1800, 32, 32) (424, 32, 32)\n"
          ]
        }
      ],
      "source": [
        "# check shapes\n",
        "print(X_train.shape, X_test.shape, y_train.shape, y_test.shape)"
      ]
    },
    {
      "cell_type": "code",
      "execution_count": 215,
      "metadata": {
        "colab": {
          "base_uri": "https://localhost:8080/",
          "height": 545
        },
        "id": "AzQMwzPt3kpH",
        "outputId": "c1cdf6ca-3ac6-4af5-beb1-e6abd4764355"
      },
      "outputs": [
        {
          "data": {
            "text/html": [
              "<pre style=\"white-space:pre;overflow-x:auto;line-height:normal;font-family:Menlo,'DejaVu Sans Mono',consolas,'Courier New',monospace\"><span style=\"font-weight: bold\">Model: \"sequential_15\"</span>\n",
              "</pre>\n"
            ],
            "text/plain": [
              "\u001b[1mModel: \"sequential_15\"\u001b[0m\n"
            ]
          },
          "metadata": {},
          "output_type": "display_data"
        },
        {
          "data": {
            "text/html": [
              "<pre style=\"white-space:pre;overflow-x:auto;line-height:normal;font-family:Menlo,'DejaVu Sans Mono',consolas,'Courier New',monospace\">┏━━━━━━━━━━━━━━━━━━━━━━━━━━━━━━━━━┳━━━━━━━━━━━━━━━━━━━━━━━━┳━━━━━━━━━━━━━━━┓\n",
              "┃<span style=\"font-weight: bold\"> Layer (type)                    </span>┃<span style=\"font-weight: bold\"> Output Shape           </span>┃<span style=\"font-weight: bold\">       Param # </span>┃\n",
              "┡━━━━━━━━━━━━━━━━━━━━━━━━━━━━━━━━━╇━━━━━━━━━━━━━━━━━━━━━━━━╇━━━━━━━━━━━━━━━┩\n",
              "│ conv2d (<span style=\"color: #0087ff; text-decoration-color: #0087ff\">Conv2D</span>)                 │ (<span style=\"color: #00d7ff; text-decoration-color: #00d7ff\">None</span>, <span style=\"color: #00af00; text-decoration-color: #00af00\">32</span>, <span style=\"color: #00af00; text-decoration-color: #00af00\">32</span>, <span style=\"color: #00af00; text-decoration-color: #00af00\">16</span>)     │           <span style=\"color: #00af00; text-decoration-color: #00af00\">160</span> │\n",
              "├─────────────────────────────────┼────────────────────────┼───────────────┤\n",
              "│ max_pooling2d (<span style=\"color: #0087ff; text-decoration-color: #0087ff\">MaxPooling2D</span>)    │ (<span style=\"color: #00d7ff; text-decoration-color: #00d7ff\">None</span>, <span style=\"color: #00af00; text-decoration-color: #00af00\">16</span>, <span style=\"color: #00af00; text-decoration-color: #00af00\">16</span>, <span style=\"color: #00af00; text-decoration-color: #00af00\">16</span>)     │             <span style=\"color: #00af00; text-decoration-color: #00af00\">0</span> │\n",
              "├─────────────────────────────────┼────────────────────────┼───────────────┤\n",
              "│ conv2d_1 (<span style=\"color: #0087ff; text-decoration-color: #0087ff\">Conv2D</span>)               │ (<span style=\"color: #00d7ff; text-decoration-color: #00d7ff\">None</span>, <span style=\"color: #00af00; text-decoration-color: #00af00\">16</span>, <span style=\"color: #00af00; text-decoration-color: #00af00\">16</span>, <span style=\"color: #00af00; text-decoration-color: #00af00\">8</span>)      │         <span style=\"color: #00af00; text-decoration-color: #00af00\">1,160</span> │\n",
              "├─────────────────────────────────┼────────────────────────┼───────────────┤\n",
              "│ max_pooling2d_1 (<span style=\"color: #0087ff; text-decoration-color: #0087ff\">MaxPooling2D</span>)  │ (<span style=\"color: #00d7ff; text-decoration-color: #00d7ff\">None</span>, <span style=\"color: #00af00; text-decoration-color: #00af00\">8</span>, <span style=\"color: #00af00; text-decoration-color: #00af00\">8</span>, <span style=\"color: #00af00; text-decoration-color: #00af00\">8</span>)        │             <span style=\"color: #00af00; text-decoration-color: #00af00\">0</span> │\n",
              "├─────────────────────────────────┼────────────────────────┼───────────────┤\n",
              "│ conv2d_2 (<span style=\"color: #0087ff; text-decoration-color: #0087ff\">Conv2D</span>)               │ (<span style=\"color: #00d7ff; text-decoration-color: #00d7ff\">None</span>, <span style=\"color: #00af00; text-decoration-color: #00af00\">8</span>, <span style=\"color: #00af00; text-decoration-color: #00af00\">8</span>, <span style=\"color: #00af00; text-decoration-color: #00af00\">4</span>)        │           <span style=\"color: #00af00; text-decoration-color: #00af00\">292</span> │\n",
              "├─────────────────────────────────┼────────────────────────┼───────────────┤\n",
              "│ max_pooling2d_2 (<span style=\"color: #0087ff; text-decoration-color: #0087ff\">MaxPooling2D</span>)  │ (<span style=\"color: #00d7ff; text-decoration-color: #00d7ff\">None</span>, <span style=\"color: #00af00; text-decoration-color: #00af00\">4</span>, <span style=\"color: #00af00; text-decoration-color: #00af00\">4</span>, <span style=\"color: #00af00; text-decoration-color: #00af00\">4</span>)        │             <span style=\"color: #00af00; text-decoration-color: #00af00\">0</span> │\n",
              "├─────────────────────────────────┼────────────────────────┼───────────────┤\n",
              "│ conv2d_3 (<span style=\"color: #0087ff; text-decoration-color: #0087ff\">Conv2D</span>)               │ (<span style=\"color: #00d7ff; text-decoration-color: #00d7ff\">None</span>, <span style=\"color: #00af00; text-decoration-color: #00af00\">4</span>, <span style=\"color: #00af00; text-decoration-color: #00af00\">4</span>, <span style=\"color: #00af00; text-decoration-color: #00af00\">4</span>)        │           <span style=\"color: #00af00; text-decoration-color: #00af00\">148</span> │\n",
              "├─────────────────────────────────┼────────────────────────┼───────────────┤\n",
              "│ up_sampling2d (<span style=\"color: #0087ff; text-decoration-color: #0087ff\">UpSampling2D</span>)    │ (<span style=\"color: #00d7ff; text-decoration-color: #00d7ff\">None</span>, <span style=\"color: #00af00; text-decoration-color: #00af00\">8</span>, <span style=\"color: #00af00; text-decoration-color: #00af00\">8</span>, <span style=\"color: #00af00; text-decoration-color: #00af00\">4</span>)        │             <span style=\"color: #00af00; text-decoration-color: #00af00\">0</span> │\n",
              "├─────────────────────────────────┼────────────────────────┼───────────────┤\n",
              "│ conv2d_4 (<span style=\"color: #0087ff; text-decoration-color: #0087ff\">Conv2D</span>)               │ (<span style=\"color: #00d7ff; text-decoration-color: #00d7ff\">None</span>, <span style=\"color: #00af00; text-decoration-color: #00af00\">8</span>, <span style=\"color: #00af00; text-decoration-color: #00af00\">8</span>, <span style=\"color: #00af00; text-decoration-color: #00af00\">8</span>)        │           <span style=\"color: #00af00; text-decoration-color: #00af00\">296</span> │\n",
              "├─────────────────────────────────┼────────────────────────┼───────────────┤\n",
              "│ up_sampling2d_1 (<span style=\"color: #0087ff; text-decoration-color: #0087ff\">UpSampling2D</span>)  │ (<span style=\"color: #00d7ff; text-decoration-color: #00d7ff\">None</span>, <span style=\"color: #00af00; text-decoration-color: #00af00\">16</span>, <span style=\"color: #00af00; text-decoration-color: #00af00\">16</span>, <span style=\"color: #00af00; text-decoration-color: #00af00\">8</span>)      │             <span style=\"color: #00af00; text-decoration-color: #00af00\">0</span> │\n",
              "├─────────────────────────────────┼────────────────────────┼───────────────┤\n",
              "│ conv2d_5 (<span style=\"color: #0087ff; text-decoration-color: #0087ff\">Conv2D</span>)               │ (<span style=\"color: #00d7ff; text-decoration-color: #00d7ff\">None</span>, <span style=\"color: #00af00; text-decoration-color: #00af00\">16</span>, <span style=\"color: #00af00; text-decoration-color: #00af00\">16</span>, <span style=\"color: #00af00; text-decoration-color: #00af00\">16</span>)     │         <span style=\"color: #00af00; text-decoration-color: #00af00\">1,168</span> │\n",
              "├─────────────────────────────────┼────────────────────────┼───────────────┤\n",
              "│ up_sampling2d_2 (<span style=\"color: #0087ff; text-decoration-color: #0087ff\">UpSampling2D</span>)  │ (<span style=\"color: #00d7ff; text-decoration-color: #00d7ff\">None</span>, <span style=\"color: #00af00; text-decoration-color: #00af00\">32</span>, <span style=\"color: #00af00; text-decoration-color: #00af00\">32</span>, <span style=\"color: #00af00; text-decoration-color: #00af00\">16</span>)     │             <span style=\"color: #00af00; text-decoration-color: #00af00\">0</span> │\n",
              "├─────────────────────────────────┼────────────────────────┼───────────────┤\n",
              "│ conv2d_6 (<span style=\"color: #0087ff; text-decoration-color: #0087ff\">Conv2D</span>)               │ (<span style=\"color: #00d7ff; text-decoration-color: #00d7ff\">None</span>, <span style=\"color: #00af00; text-decoration-color: #00af00\">32</span>, <span style=\"color: #00af00; text-decoration-color: #00af00\">32</span>, <span style=\"color: #00af00; text-decoration-color: #00af00\">1</span>)      │           <span style=\"color: #00af00; text-decoration-color: #00af00\">145</span> │\n",
              "└─────────────────────────────────┴────────────────────────┴───────────────┘\n",
              "</pre>\n"
            ],
            "text/plain": [
              "┏━━━━━━━━━━━━━━━━━━━━━━━━━━━━━━━━━┳━━━━━━━━━━━━━━━━━━━━━━━━┳━━━━━━━━━━━━━━━┓\n",
              "┃\u001b[1m \u001b[0m\u001b[1mLayer (type)                   \u001b[0m\u001b[1m \u001b[0m┃\u001b[1m \u001b[0m\u001b[1mOutput Shape          \u001b[0m\u001b[1m \u001b[0m┃\u001b[1m \u001b[0m\u001b[1m      Param #\u001b[0m\u001b[1m \u001b[0m┃\n",
              "┡━━━━━━━━━━━━━━━━━━━━━━━━━━━━━━━━━╇━━━━━━━━━━━━━━━━━━━━━━━━╇━━━━━━━━━━━━━━━┩\n",
              "│ conv2d (\u001b[38;5;33mConv2D\u001b[0m)                 │ (\u001b[38;5;45mNone\u001b[0m, \u001b[38;5;34m32\u001b[0m, \u001b[38;5;34m32\u001b[0m, \u001b[38;5;34m16\u001b[0m)     │           \u001b[38;5;34m160\u001b[0m │\n",
              "├─────────────────────────────────┼────────────────────────┼───────────────┤\n",
              "│ max_pooling2d (\u001b[38;5;33mMaxPooling2D\u001b[0m)    │ (\u001b[38;5;45mNone\u001b[0m, \u001b[38;5;34m16\u001b[0m, \u001b[38;5;34m16\u001b[0m, \u001b[38;5;34m16\u001b[0m)     │             \u001b[38;5;34m0\u001b[0m │\n",
              "├─────────────────────────────────┼────────────────────────┼───────────────┤\n",
              "│ conv2d_1 (\u001b[38;5;33mConv2D\u001b[0m)               │ (\u001b[38;5;45mNone\u001b[0m, \u001b[38;5;34m16\u001b[0m, \u001b[38;5;34m16\u001b[0m, \u001b[38;5;34m8\u001b[0m)      │         \u001b[38;5;34m1,160\u001b[0m │\n",
              "├─────────────────────────────────┼────────────────────────┼───────────────┤\n",
              "│ max_pooling2d_1 (\u001b[38;5;33mMaxPooling2D\u001b[0m)  │ (\u001b[38;5;45mNone\u001b[0m, \u001b[38;5;34m8\u001b[0m, \u001b[38;5;34m8\u001b[0m, \u001b[38;5;34m8\u001b[0m)        │             \u001b[38;5;34m0\u001b[0m │\n",
              "├─────────────────────────────────┼────────────────────────┼───────────────┤\n",
              "│ conv2d_2 (\u001b[38;5;33mConv2D\u001b[0m)               │ (\u001b[38;5;45mNone\u001b[0m, \u001b[38;5;34m8\u001b[0m, \u001b[38;5;34m8\u001b[0m, \u001b[38;5;34m4\u001b[0m)        │           \u001b[38;5;34m292\u001b[0m │\n",
              "├─────────────────────────────────┼────────────────────────┼───────────────┤\n",
              "│ max_pooling2d_2 (\u001b[38;5;33mMaxPooling2D\u001b[0m)  │ (\u001b[38;5;45mNone\u001b[0m, \u001b[38;5;34m4\u001b[0m, \u001b[38;5;34m4\u001b[0m, \u001b[38;5;34m4\u001b[0m)        │             \u001b[38;5;34m0\u001b[0m │\n",
              "├─────────────────────────────────┼────────────────────────┼───────────────┤\n",
              "│ conv2d_3 (\u001b[38;5;33mConv2D\u001b[0m)               │ (\u001b[38;5;45mNone\u001b[0m, \u001b[38;5;34m4\u001b[0m, \u001b[38;5;34m4\u001b[0m, \u001b[38;5;34m4\u001b[0m)        │           \u001b[38;5;34m148\u001b[0m │\n",
              "├─────────────────────────────────┼────────────────────────┼───────────────┤\n",
              "│ up_sampling2d (\u001b[38;5;33mUpSampling2D\u001b[0m)    │ (\u001b[38;5;45mNone\u001b[0m, \u001b[38;5;34m8\u001b[0m, \u001b[38;5;34m8\u001b[0m, \u001b[38;5;34m4\u001b[0m)        │             \u001b[38;5;34m0\u001b[0m │\n",
              "├─────────────────────────────────┼────────────────────────┼───────────────┤\n",
              "│ conv2d_4 (\u001b[38;5;33mConv2D\u001b[0m)               │ (\u001b[38;5;45mNone\u001b[0m, \u001b[38;5;34m8\u001b[0m, \u001b[38;5;34m8\u001b[0m, \u001b[38;5;34m8\u001b[0m)        │           \u001b[38;5;34m296\u001b[0m │\n",
              "├─────────────────────────────────┼────────────────────────┼───────────────┤\n",
              "│ up_sampling2d_1 (\u001b[38;5;33mUpSampling2D\u001b[0m)  │ (\u001b[38;5;45mNone\u001b[0m, \u001b[38;5;34m16\u001b[0m, \u001b[38;5;34m16\u001b[0m, \u001b[38;5;34m8\u001b[0m)      │             \u001b[38;5;34m0\u001b[0m │\n",
              "├─────────────────────────────────┼────────────────────────┼───────────────┤\n",
              "│ conv2d_5 (\u001b[38;5;33mConv2D\u001b[0m)               │ (\u001b[38;5;45mNone\u001b[0m, \u001b[38;5;34m16\u001b[0m, \u001b[38;5;34m16\u001b[0m, \u001b[38;5;34m16\u001b[0m)     │         \u001b[38;5;34m1,168\u001b[0m │\n",
              "├─────────────────────────────────┼────────────────────────┼───────────────┤\n",
              "│ up_sampling2d_2 (\u001b[38;5;33mUpSampling2D\u001b[0m)  │ (\u001b[38;5;45mNone\u001b[0m, \u001b[38;5;34m32\u001b[0m, \u001b[38;5;34m32\u001b[0m, \u001b[38;5;34m16\u001b[0m)     │             \u001b[38;5;34m0\u001b[0m │\n",
              "├─────────────────────────────────┼────────────────────────┼───────────────┤\n",
              "│ conv2d_6 (\u001b[38;5;33mConv2D\u001b[0m)               │ (\u001b[38;5;45mNone\u001b[0m, \u001b[38;5;34m32\u001b[0m, \u001b[38;5;34m32\u001b[0m, \u001b[38;5;34m1\u001b[0m)      │           \u001b[38;5;34m145\u001b[0m │\n",
              "└─────────────────────────────────┴────────────────────────┴───────────────┘\n"
            ]
          },
          "metadata": {},
          "output_type": "display_data"
        },
        {
          "data": {
            "text/html": [
              "<pre style=\"white-space:pre;overflow-x:auto;line-height:normal;font-family:Menlo,'DejaVu Sans Mono',consolas,'Courier New',monospace\"><span style=\"font-weight: bold\"> Total params: </span><span style=\"color: #00af00; text-decoration-color: #00af00\">3,369</span> (13.16 KB)\n",
              "</pre>\n"
            ],
            "text/plain": [
              "\u001b[1m Total params: \u001b[0m\u001b[38;5;34m3,369\u001b[0m (13.16 KB)\n"
            ]
          },
          "metadata": {},
          "output_type": "display_data"
        },
        {
          "data": {
            "text/html": [
              "<pre style=\"white-space:pre;overflow-x:auto;line-height:normal;font-family:Menlo,'DejaVu Sans Mono',consolas,'Courier New',monospace\"><span style=\"font-weight: bold\"> Trainable params: </span><span style=\"color: #00af00; text-decoration-color: #00af00\">3,369</span> (13.16 KB)\n",
              "</pre>\n"
            ],
            "text/plain": [
              "\u001b[1m Trainable params: \u001b[0m\u001b[38;5;34m3,369\u001b[0m (13.16 KB)\n"
            ]
          },
          "metadata": {},
          "output_type": "display_data"
        },
        {
          "data": {
            "text/html": [
              "<pre style=\"white-space:pre;overflow-x:auto;line-height:normal;font-family:Menlo,'DejaVu Sans Mono',consolas,'Courier New',monospace\"><span style=\"font-weight: bold\"> Non-trainable params: </span><span style=\"color: #00af00; text-decoration-color: #00af00\">0</span> (0.00 B)\n",
              "</pre>\n"
            ],
            "text/plain": [
              "\u001b[1m Non-trainable params: \u001b[0m\u001b[38;5;34m0\u001b[0m (0.00 B)\n"
            ]
          },
          "metadata": {},
          "output_type": "display_data"
        }
      ],
      "source": [
        "model = keras.Sequential()\n",
        "\n",
        "# input\n",
        "model.add(keras.Input(shape=(32, 32, 1)))  # 32x32 images\n",
        "\n",
        "# encoder\n",
        "# hidden layers\n",
        "model.add(layers.Conv2D(16, 3, strides=1, padding=\"same\", activation=\"relu\"))\n",
        "model.add(layers.MaxPooling2D(2))\n",
        "\n",
        "model.add(layers.Conv2D(8, 3, strides=1, padding=\"same\", activation=\"relu\"))\n",
        "model.add(layers.MaxPooling2D(2))\n",
        "\n",
        "model.add(layers.Conv2D(4, 3, strides=1, padding=\"same\", activation=\"relu\"))\n",
        "model.add(layers.MaxPooling2D(2))\n",
        "\n",
        "# decoder\n",
        "model.add(layers.Conv2D(4, 3, strides=1, padding=\"same\", activation=\"relu\"))\n",
        "model.add(layers.UpSampling2D(2))\n",
        "\n",
        "model.add(layers.Conv2D(8, 3, strides=1, padding=\"same\", activation=\"relu\"))\n",
        "model.add(layers.UpSampling2D(2))\n",
        "\n",
        "model.add(layers.Conv2D(16, 3, strides=1, padding=\"same\", activation=\"relu\"))\n",
        "model.add(layers.UpSampling2D(2))\n",
        "\n",
        "# Finally, we add last layer\n",
        "model.add(layers.Conv2D(1, (3, 3), activation='linear', padding='same'))\n",
        "\n",
        "# print model summary\n",
        "model.summary()"
      ]
    },
    {
      "cell_type": "code",
      "execution_count": 216,
      "metadata": {
        "id": "teBOl4-45KCx"
      },
      "outputs": [],
      "source": [
        "METRICS = [\n",
        "    keras.metrics.MeanSquaredError(name='mean_squared_error'),\n",
        "    keras.metrics.RootMeanSquaredError(name='root_mean_squared_error'),\n",
        "]\n",
        "\n",
        "model.compile(\n",
        "    optimizer=keras.optimizers.Adam(learning_rate=0.001),\n",
        "    loss=\"mean_squared_error\",\n",
        "    metrics=METRICS\n",
        ")\n",
        "\n",
        "BATCH_SIZE = 32\n",
        "EPOCHS = 10"
      ]
    },
    {
      "cell_type": "code",
      "execution_count": 217,
      "metadata": {
        "colab": {
          "base_uri": "https://localhost:8080/"
        },
        "id": "vkufMFbc5J9C",
        "outputId": "142d216d-c49a-46af-e362-fcd4a33e8952"
      },
      "outputs": [
        {
          "name": "stdout",
          "output_type": "stream",
          "text": [
            "Epoch 1/10\n",
            "\u001b[1m51/51\u001b[0m \u001b[32m━━━━━━━━━━━━━━━━━━━━\u001b[0m\u001b[37m\u001b[0m \u001b[1m3s\u001b[0m 31ms/step - loss: 0.8430 - mean_squared_error: 0.8430 - root_mean_squared_error: 0.9175 - val_loss: 0.6829 - val_mean_squared_error: 0.6829 - val_root_mean_squared_error: 0.8264\n",
            "Epoch 2/10\n",
            "\u001b[1m51/51\u001b[0m \u001b[32m━━━━━━━━━━━━━━━━━━━━\u001b[0m\u001b[37m\u001b[0m \u001b[1m1s\u001b[0m 12ms/step - loss: 0.4186 - mean_squared_error: 0.4186 - root_mean_squared_error: 0.6467 - val_loss: 0.4602 - val_mean_squared_error: 0.4602 - val_root_mean_squared_error: 0.6784\n",
            "Epoch 3/10\n",
            "\u001b[1m51/51\u001b[0m \u001b[32m━━━━━━━━━━━━━━━━━━━━\u001b[0m\u001b[37m\u001b[0m \u001b[1m1s\u001b[0m 12ms/step - loss: 0.3043 - mean_squared_error: 0.3043 - root_mean_squared_error: 0.5516 - val_loss: 0.3951 - val_mean_squared_error: 0.3951 - val_root_mean_squared_error: 0.6286\n",
            "Epoch 4/10\n",
            "\u001b[1m51/51\u001b[0m \u001b[32m━━━━━━━━━━━━━━━━━━━━\u001b[0m\u001b[37m\u001b[0m \u001b[1m1s\u001b[0m 12ms/step - loss: 0.2598 - mean_squared_error: 0.2598 - root_mean_squared_error: 0.5096 - val_loss: 0.3628 - val_mean_squared_error: 0.3628 - val_root_mean_squared_error: 0.6023\n",
            "Epoch 5/10\n",
            "\u001b[1m51/51\u001b[0m \u001b[32m━━━━━━━━━━━━━━━━━━━━\u001b[0m\u001b[37m\u001b[0m \u001b[1m1s\u001b[0m 13ms/step - loss: 0.2369 - mean_squared_error: 0.2369 - root_mean_squared_error: 0.4867 - val_loss: 0.3453 - val_mean_squared_error: 0.3453 - val_root_mean_squared_error: 0.5876\n",
            "Epoch 6/10\n",
            "\u001b[1m51/51\u001b[0m \u001b[32m━━━━━━━━━━━━━━━━━━━━\u001b[0m\u001b[37m\u001b[0m \u001b[1m1s\u001b[0m 12ms/step - loss: 0.2232 - mean_squared_error: 0.2232 - root_mean_squared_error: 0.4724 - val_loss: 0.3323 - val_mean_squared_error: 0.3323 - val_root_mean_squared_error: 0.5764\n",
            "Epoch 7/10\n",
            "\u001b[1m51/51\u001b[0m \u001b[32m━━━━━━━━━━━━━━━━━━━━\u001b[0m\u001b[37m\u001b[0m \u001b[1m1s\u001b[0m 12ms/step - loss: 0.2132 - mean_squared_error: 0.2132 - root_mean_squared_error: 0.4617 - val_loss: 0.3228 - val_mean_squared_error: 0.3228 - val_root_mean_squared_error: 0.5681\n",
            "Epoch 8/10\n",
            "\u001b[1m51/51\u001b[0m \u001b[32m━━━━━━━━━━━━━━━━━━━━\u001b[0m\u001b[37m\u001b[0m \u001b[1m1s\u001b[0m 15ms/step - loss: 0.2052 - mean_squared_error: 0.2052 - root_mean_squared_error: 0.4530 - val_loss: 0.3138 - val_mean_squared_error: 0.3138 - val_root_mean_squared_error: 0.5602\n",
            "Epoch 9/10\n",
            "\u001b[1m51/51\u001b[0m \u001b[32m━━━━━━━━━━━━━━━━━━━━\u001b[0m\u001b[37m\u001b[0m \u001b[1m1s\u001b[0m 13ms/step - loss: 0.1986 - mean_squared_error: 0.1986 - root_mean_squared_error: 0.4457 - val_loss: 0.3059 - val_mean_squared_error: 0.3059 - val_root_mean_squared_error: 0.5531\n",
            "Epoch 10/10\n",
            "\u001b[1m51/51\u001b[0m \u001b[32m━━━━━━━━━━━━━━━━━━━━\u001b[0m\u001b[37m\u001b[0m \u001b[1m1s\u001b[0m 14ms/step - loss: 0.1929 - mean_squared_error: 0.1929 - root_mean_squared_error: 0.4392 - val_loss: 0.2991 - val_mean_squared_error: 0.2991 - val_root_mean_squared_error: 0.5469\n"
          ]
        }
      ],
      "source": [
        "history = model.fit(\n",
        "    x=X_train,\n",
        "    y=y_train,\n",
        "    batch_size=BATCH_SIZE,\n",
        "    epochs=EPOCHS,\n",
        "    validation_split=0.1,\n",
        "    shuffle=True,\n",
        ")"
      ]
    },
    {
      "cell_type": "code",
      "execution_count": 218,
      "metadata": {
        "colab": {
          "base_uri": "https://localhost:8080/",
          "height": 430
        },
        "id": "sr2Dr77c5J05",
        "outputId": "145c455d-b9dc-407f-d733-bf3a2e916f32"
      },
      "outputs": [
        {
          "data": {
            "image/png": "[encoded data removed]",
            "text/plain": [
              "<Figure size 640x480 with 1 Axes>"
            ]
          },
          "metadata": {},
          "output_type": "display_data"
        }
      ],
      "source": [
        "plt.plot(history.history[\"mean_squared_error\"], c='k', label='training')\n",
        "plt.plot(history.history[\"val_mean_squared_error\"], c='r', label='validation')\n",
        "plt.legend()\n",
        "plt.show()"
      ]
    },
    {
      "cell_type": "code",
      "execution_count": 219,
      "metadata": {
        "id": "KMa7dgXE5WpG"
      },
      "outputs": [],
      "source": [
        "# saving model\n",
        "model.save('autoencodercnn.keras')\n",
        "\n",
        "# loading model\n",
        "model2 = keras.models.load_model('autoencodercnn.keras')"
      ]
    },
    {
      "cell_type": "code",
      "execution_count": 220,
      "metadata": {
        "colab": {
          "base_uri": "https://localhost:8080/"
        },
        "id": "jmdp8MjZoHze",
        "outputId": "f12ee3fb-91a8-43e1-fe2d-360370c8a4e5"
      },
      "outputs": [
        {
          "name": "stdout",
          "output_type": "stream",
          "text": [
            "\u001b[1m14/14\u001b[0m \u001b[32m━━━━━━━━━━━━━━━━━━━━\u001b[0m\u001b[37m\u001b[0m \u001b[1m0s\u001b[0m 20ms/step\n"
          ]
        }
      ],
      "source": [
        "# inference with loaded model\n",
        "ypred2 = model2.predict(X_test)"
      ]
    },
    {
      "cell_type": "code",
      "execution_count": 221,
      "metadata": {
        "colab": {
          "base_uri": "https://localhost:8080/"
        },
        "id": "cmxkhle1obQ0",
        "outputId": "56c3c1db-b547-48b4-d503-9b637ec82e9a"
      },
      "outputs": [
        {
          "name": "stdout",
          "output_type": "stream",
          "text": [
            "(424, 32, 32) (424, 32, 32)\n"
          ]
        }
      ],
      "source": [
        "print(y_test.shape, ypred2[:,:,:,0].shape)"
      ]
    },
    {
      "cell_type": "code",
      "execution_count": 222,
      "metadata": {
        "colab": {
          "base_uri": "https://localhost:8080/",
          "height": 430
        },
        "id": "W9flZbSJoHs-",
        "outputId": "4ae0b8c0-d771-478d-bb15-6b6a8f9ab548"
      },
      "outputs": [
        {
          "data": {
            "image/png": "[encoded data removed]",
            "text/plain": [
              "<Figure size 640x480 with 1 Axes>"
            ]
          },
          "metadata": {},
          "output_type": "display_data"
        }
      ],
      "source": [
        "# evaluations\n",
        "plt.scatter(np.ndarray.flatten(y_test), np.ndarray.flatten(ypred2[:,:,:,0]))\n",
        "plt.show()"
      ]
    },
    {
      "cell_type": "code",
      "execution_count": 223,
      "metadata": {
        "colab": {
          "base_uri": "https://localhost:8080/",
          "height": 1000
        },
        "id": "EqkYWhIWo1zD",
        "outputId": "b7c1e0fb-5ede-4d5b-c2dc-9d5d152ced54"
      },
      "outputs": [
        {
          "data": {
            "image/png": "[encoded data removed]",
            "text/plain": [
              "<Figure size 640x480 with 1 Axes>"
            ]
          },
          "metadata": {},
          "output_type": "display_data"
        },
        {
          "data": {
            "image/png": "[encoded data removed]",
            "text/plain": [
              "<Figure size 640x480 with 1 Axes>"
            ]
          },
          "metadata": {},
          "output_type": "display_data"
        },
        {
          "data": {
            "image/png": "[encoded data removed]",
            "text/plain": [
              "<Figure size 640x480 with 1 Axes>"
            ]
          },
          "metadata": {},
          "output_type": "display_data"
        }
      ],
      "source": [
        "# evaluations\n",
        "sample_indx = 15\n",
        "\n",
        "plt.imshow(y_test[sample_indx,:,:], vmin=-1, vmax=1)\n",
        "plt.show()\n",
        "\n",
        "plt.imshow(ypred2[sample_indx,:,:,0], vmin=-1, vmax=1)\n",
        "plt.show()\n",
        "\n",
        "plt.imshow(ypred2[sample_indx,:,:,0] - y_test[sample_indx,:,:], cmap='seismic', vmin=-1, vmax=1)\n",
        "plt.show()"
      ]
    },
    {
      "cell_type": "code",
      "execution_count": 86,
      "metadata": {
        "colab": {
          "base_uri": "https://localhost:8080/"
        },
        "id": "rtT5yvYC5mdS",
        "outputId": "da9f5d6c-f274-4cf8-b2ff-9a1c740426e0"
      },
      "outputs": [
        {
          "data": {
            "text/plain": [
              "0.3629337549209595"
            ]
          },
          "execution_count": 86,
          "metadata": {},
          "output_type": "execute_result"
        }
      ],
      "source": [
        "# evaluations (MSE)\n",
        "mean_squared_error(np.ndarray.flatten(y_test), np.ndarray.flatten(ypred2[:,:,:,0]))"
      ]
    },
    {
      "cell_type": "markdown",
      "metadata": {
        "id": "It_XWynZEtsc"
      },
      "source": [
        "## CNN Autoencoder Noise Removal"
      ]
    },
    {
      "cell_type": "code",
      "execution_count": 226,
      "metadata": {
        "id": "4d682kwu-tLe"
      },
      "outputs": [],
      "source": [
        "def noise(array):\n",
        "    \"\"\"Adds random noise to each image in the supplied array.\"\"\"\n",
        "    noise_factor = 0.4\n",
        "    noisy_array = array + noise_factor * np.random.normal(\n",
        "        loc=0.0, scale=1.0, size=array.shape\n",
        "    )\n",
        "    return noisy_array"
      ]
    },
    {
      "cell_type": "code",
      "execution_count": 227,
      "metadata": {
        "colab": {
          "base_uri": "https://localhost:8080/"
        },
        "id": "SfUSdJXiBP9T",
        "outputId": "bc42e8d6-65b9-48e4-d478-7d396b45882c"
      },
      "outputs": [
        {
          "name": "stdout",
          "output_type": "stream",
          "text": [
            "(2224, 32, 32)\n",
            "(1800, 32, 32) (424, 32, 32) (1800, 32, 32) (424, 32, 32)\n"
          ]
        }
      ],
      "source": [
        "# reshape data to be samples, features\n",
        "features_data = ds['dbz_grid'].values\n",
        "print(features_data.shape)\n",
        "\n",
        "X_train, X_test, y_train, y_test = features_data[:1800], features_data[1800:], features_data[:1800], features_data[1800:]\n",
        "\n",
        "X_test = z_score_testing(X_train, X_test) # input\n",
        "y_test = z_score_testing(y_train, y_test) # label\n",
        "\n",
        "X_train = z_score(X_train) # input\n",
        "y_train = z_score(y_train) # label\n",
        "\n",
        "# check shapes\n",
        "print(X_train.shape, X_test.shape, y_train.shape, y_test.shape)"
      ]
    },
    {
      "cell_type": "code",
      "execution_count": 228,
      "metadata": {
        "id": "CEXwYXwZBP2h"
      },
      "outputs": [],
      "source": [
        "# Create a copy of the data with added noise\n",
        "noisy_train_data = noise(X_train)\n",
        "noisy_test_data = noise(X_test)"
      ]
    },
    {
      "cell_type": "code",
      "execution_count": 229,
      "metadata": {
        "colab": {
          "base_uri": "https://localhost:8080/",
          "height": 843
        },
        "id": "ApqtvKmTBZ1j",
        "outputId": "fd822845-f070-4e01-8193-341bff4f61a8"
      },
      "outputs": [
        {
          "data": {
            "image/png": "[encoded data removed]",
            "text/plain": [
              "<Figure size 640x480 with 1 Axes>"
            ]
          },
          "metadata": {},
          "output_type": "display_data"
        },
        {
          "data": {
            "image/png": "[encoded data removed]",
            "text/plain": [
              "<Figure size 640x480 with 1 Axes>"
            ]
          },
          "metadata": {},
          "output_type": "display_data"
        }
      ],
      "source": [
        "plt.imshow(noisy_train_data[0,:,:], vmin=-1, vmax=1)\n",
        "plt.show()\n",
        "\n",
        "plt.imshow(X_train[0,:,:], vmin=-1, vmax=1)\n",
        "plt.show()"
      ]
    },
    {
      "cell_type": "code",
      "execution_count": 230,
      "metadata": {
        "id": "UoM47qIh6SMb"
      },
      "outputs": [],
      "source": [
        "# loading model\n",
        "model_transfer = keras.models.load_model('autoencodercnn.keras')"
      ]
    },
    {
      "cell_type": "code",
      "execution_count": 231,
      "metadata": {
        "colab": {
          "base_uri": "https://localhost:8080/"
        },
        "id": "224Hh5Ok6X_R",
        "outputId": "5298db5a-6d50-4f8f-aaf9-29130dc2b8f1"
      },
      "outputs": [
        {
          "data": {
            "text/plain": [
              "<Sequential name=sequential_15, built=True>"
            ]
          },
          "execution_count": 231,
          "metadata": {},
          "output_type": "execute_result"
        }
      ],
      "source": [
        "model_transfer"
      ]
    },
    {
      "cell_type": "code",
      "execution_count": 232,
      "metadata": {
        "colab": {
          "base_uri": "https://localhost:8080/"
        },
        "id": "Lyv_iWs2BZny",
        "outputId": "a00c442c-5e93-443b-de55-d35269833afa"
      },
      "outputs": [
        {
          "name": "stdout",
          "output_type": "stream",
          "text": [
            "Epoch 1/10\n",
            "\u001b[1m51/51\u001b[0m \u001b[32m━━━━━━━━━━━━━━━━━━━━\u001b[0m\u001b[37m\u001b[0m \u001b[1m2s\u001b[0m 17ms/step - loss: 0.1966 - mean_squared_error: 0.1966 - root_mean_squared_error: 0.4433 - val_loss: 0.2965 - val_mean_squared_error: 0.2965 - val_root_mean_squared_error: 0.5445\n",
            "Epoch 2/10\n",
            "\u001b[1m51/51\u001b[0m \u001b[32m━━━━━━━━━━━━━━━━━━━━\u001b[0m\u001b[37m\u001b[0m \u001b[1m1s\u001b[0m 12ms/step - loss: 0.1885 - mean_squared_error: 0.1885 - root_mean_squared_error: 0.4341 - val_loss: 0.2911 - val_mean_squared_error: 0.2911 - val_root_mean_squared_error: 0.5396\n",
            "Epoch 3/10\n",
            "\u001b[1m51/51\u001b[0m \u001b[32m━━━━━━━━━━━━━━━━━━━━\u001b[0m\u001b[37m\u001b[0m \u001b[1m1s\u001b[0m 13ms/step - loss: 0.1842 - mean_squared_error: 0.1842 - root_mean_squared_error: 0.4292 - val_loss: 0.2863 - val_mean_squared_error: 0.2863 - val_root_mean_squared_error: 0.5350\n",
            "Epoch 4/10\n",
            "\u001b[1m51/51\u001b[0m \u001b[32m━━━━━━━━━━━━━━━━━━━━\u001b[0m\u001b[37m\u001b[0m \u001b[1m1s\u001b[0m 12ms/step - loss: 0.1809 - mean_squared_error: 0.1809 - root_mean_squared_error: 0.4252 - val_loss: 0.2816 - val_mean_squared_error: 0.2816 - val_root_mean_squared_error: 0.5307\n",
            "Epoch 5/10\n",
            "\u001b[1m51/51\u001b[0m \u001b[32m━━━━━━━━━━━━━━━━━━━━\u001b[0m\u001b[37m\u001b[0m \u001b[1m1s\u001b[0m 12ms/step - loss: 0.1776 - mean_squared_error: 0.1776 - root_mean_squared_error: 0.4214 - val_loss: 0.2770 - val_mean_squared_error: 0.2770 - val_root_mean_squared_error: 0.5263\n",
            "Epoch 6/10\n",
            "\u001b[1m51/51\u001b[0m \u001b[32m━━━━━━━━━━━━━━━━━━━━\u001b[0m\u001b[37m\u001b[0m \u001b[1m1s\u001b[0m 12ms/step - loss: 0.1747 - mean_squared_error: 0.1747 - root_mean_squared_error: 0.4179 - val_loss: 0.2729 - val_mean_squared_error: 0.2729 - val_root_mean_squared_error: 0.5224\n",
            "Epoch 7/10\n",
            "\u001b[1m51/51\u001b[0m \u001b[32m━━━━━━━━━━━━━━━━━━━━\u001b[0m\u001b[37m\u001b[0m \u001b[1m1s\u001b[0m 12ms/step - loss: 0.1719 - mean_squared_error: 0.1719 - root_mean_squared_error: 0.4146 - val_loss: 0.2686 - val_mean_squared_error: 0.2686 - val_root_mean_squared_error: 0.5183\n",
            "Epoch 8/10\n",
            "\u001b[1m51/51\u001b[0m \u001b[32m━━━━━━━━━━━━━━━━━━━━\u001b[0m\u001b[37m\u001b[0m \u001b[1m1s\u001b[0m 13ms/step - loss: 0.1691 - mean_squared_error: 0.1691 - root_mean_squared_error: 0.4111 - val_loss: 0.2645 - val_mean_squared_error: 0.2645 - val_root_mean_squared_error: 0.5143\n",
            "Epoch 9/10\n",
            "\u001b[1m51/51\u001b[0m \u001b[32m━━━━━━━━━━━━━━━━━━━━\u001b[0m\u001b[37m\u001b[0m \u001b[1m1s\u001b[0m 12ms/step - loss: 0.1664 - mean_squared_error: 0.1664 - root_mean_squared_error: 0.4079 - val_loss: 0.2615 - val_mean_squared_error: 0.2615 - val_root_mean_squared_error: 0.5113\n",
            "Epoch 10/10\n",
            "\u001b[1m51/51\u001b[0m \u001b[32m━━━━━━━━━━━━━━━━━━━━\u001b[0m\u001b[37m\u001b[0m \u001b[1m1s\u001b[0m 14ms/step - loss: 0.1639 - mean_squared_error: 0.1639 - root_mean_squared_error: 0.4049 - val_loss: 0.2580 - val_mean_squared_error: 0.2580 - val_root_mean_squared_error: 0.5079\n"
          ]
        }
      ],
      "source": [
        "history = model_transfer.fit(\n",
        "    x=noisy_train_data,\n",
        "    y=y_train,\n",
        "    batch_size=BATCH_SIZE,\n",
        "    epochs=EPOCHS,\n",
        "    validation_split=0.1,\n",
        "    shuffle=True,\n",
        ")"
      ]
    },
    {
      "cell_type": "code",
      "execution_count": 233,
      "metadata": {
        "colab": {
          "base_uri": "https://localhost:8080/",
          "height": 430
        },
        "id": "QZGBAhGzrD2g",
        "outputId": "1883ae1e-4365-437e-ba4b-739512b067ff"
      },
      "outputs": [
        {
          "data": {
            "image/png": "[encoded data removed]",
            "text/plain": [
              "<Figure size 640x480 with 1 Axes>"
            ]
          },
          "metadata": {},
          "output_type": "display_data"
        }
      ],
      "source": [
        "plt.plot(history.history[\"mean_squared_error\"], c='k', label='training')\n",
        "plt.plot(history.history[\"val_mean_squared_error\"], c='r', label='validation')\n",
        "plt.legend()\n",
        "plt.show()"
      ]
    },
    {
      "cell_type": "code",
      "execution_count": 234,
      "metadata": {
        "colab": {
          "base_uri": "https://localhost:8080/"
        },
        "id": "cm0_RjscrDuL",
        "outputId": "50df7234-b167-44be-8ef7-94551473d061"
      },
      "outputs": [
        {
          "name": "stdout",
          "output_type": "stream",
          "text": [
            "\u001b[1m14/14\u001b[0m \u001b[32m━━━━━━━━━━━━━━━━━━━━\u001b[0m\u001b[37m\u001b[0m \u001b[1m0s\u001b[0m 16ms/step\n"
          ]
        }
      ],
      "source": [
        "# inference with model\n",
        "ypred = model_transfer.predict(noisy_test_data)"
      ]
    },
    {
      "cell_type": "code",
      "execution_count": 235,
      "metadata": {
        "colab": {
          "base_uri": "https://localhost:8080/",
          "height": 1000
        },
        "id": "6fTN2v2YrizE",
        "outputId": "06f97d40-23d5-45e3-cda2-63b5b934e165"
      },
      "outputs": [
        {
          "data": {
            "image/png": "[encoded data removed]",
            "text/plain": [
              "<Figure size 640x480 with 1 Axes>"
            ]
          },
          "metadata": {},
          "output_type": "display_data"
        },
        {
          "data": {
            "image/png": "[encoded data removed]",
            "text/plain": [
              "<Figure size 640x480 with 1 Axes>"
            ]
          },
          "metadata": {},
          "output_type": "display_data"
        },
        {
          "data": {
            "image/png": "[encoded data removed]",
            "text/plain": [
              "<Figure size 640x480 with 1 Axes>"
            ]
          },
          "metadata": {},
          "output_type": "display_data"
        },
        {
          "data": {
            "image/png": "[encoded data removed]",
            "text/plain": [
              "<Figure size 640x480 with 1 Axes>"
            ]
          },
          "metadata": {},
          "output_type": "display_data"
        }
      ],
      "source": [
        "# evaluations\n",
        "sample_indx = 42\n",
        "\n",
        "plt.imshow(noisy_test_data[sample_indx, :, :], vmin=-1, vmax=1)\n",
        "plt.show()\n",
        "\n",
        "plt.imshow(y_test[sample_indx,:,:], vmin=-1, vmax=1)\n",
        "plt.show()\n",
        "\n",
        "plt.imshow(ypred[sample_indx,:,:,0], vmin=-1, vmax=1)\n",
        "plt.show()\n",
        "\n",
        "plt.imshow(ypred[sample_indx,:,:,0] - y_test[sample_indx,:,:], cmap='seismic', vmin=-1, vmax=1)\n",
        "plt.show()"
      ]
    },
    {
      "cell_type": "code",
      "execution_count": null,
      "metadata": {
        "id": "LCcZfhT0ruF2"
      },
      "outputs": [],
      "source": []
    }
  ],
  "metadata": {
    "colab": {
      "authorship_tag": "ABX9TyMQFO8CMgvKKjKwn8VIJePv",
      "include_colab_link": true,
      "provenance": []
    },
    "kernelspec": {
      "display_name": "keras-tf-v2025",
      "language": "python",
      "name": "python3"
    },
    "language_info": {
      "codemirror_mode": {
        "name": "ipython",
        "version": 3
      },
      "file_extension": ".py",
      "mimetype": "text/x-python",
      "name": "python",
      "nbconvert_exporter": "python",
      "pygments_lexer": "ipython3",
      "version": "3.12.8"
    }
  },
  "nbformat": 4,
  "nbformat_minor": 0
}
